{
 "cells": [
  {
   "cell_type": "code",
   "execution_count": null,
   "id": "94df71ed-141f-41d4-8100-6d0df845f7d0",
   "metadata": {},
   "outputs": [],
   "source": [
    "import nltk\n",
    "from nltk.sentiment import SentimentIntensityAnalyzer\n",
    "from nltk.stem import WordNetLemmatizer\n",
    "from nltk.stem import PorterStemmer, LancasterStemmer\n",
    "from nltk.tokenize import word_tokenize\n",
    "from nltk import ngrams\n",
    "import spacy\n",
    "import matplotlib.pyplot as plt\n",
    "from wordcloud import WordCloud\n",
    "import pandas as pd\n",
    "from transformers import pipeline"
   ]
  },
  {
   "cell_type": "markdown",
   "id": "5620d7af-741e-4e86-853d-5cdf1fa292d2",
   "metadata": {},
   "source": [
    "## Feladatok"
   ]
  },
  {
   "cell_type": "markdown",
   "id": "2f0910dc-d5c2-4f8b-b9d3-5d53288ecf60",
   "metadata": {},
   "source": [
    "### 1. Adatok betöltése és előfeldolgozás\n",
    "\n",
    "- Töltsd be a Twitter vélemények adathalmazt Pandas segítségével.\n",
    "- Ellenőrizd, hogy milyen oszlopok vannak benne és hány rekordot tartalmaz.\n",
    "- Nézd meg az első 5 sort.\n",
    "\n",
    "link: https://raw.githubusercontent.com/sharmaroshan/Twitter-Sentiment-Analysis/refs/heads/master/train_tweet.csv"
   ]
  },
  {
   "cell_type": "code",
   "execution_count": null,
   "id": "9ce93248-58d6-4e71-acf5-5b67c24bc91b",
   "metadata": {},
   "outputs": [],
   "source": []
  },
  {
   "cell_type": "markdown",
   "id": "1203ef92-b0db-47be-85a1-ca9899aa2f09",
   "metadata": {},
   "source": [
    "### 2. Szövegtisztítás és tokenizálás\n",
    "- Tisztítsd meg a Twitter szövegeket!\n",
    "- Távolítsd el a speciális karaktereket, URL-eket és számokat.\n",
    "- Tokenizáld a mondatokat szavakra."
   ]
  },
  {
   "cell_type": "markdown",
   "id": "294129f7-1210-45ca-b0cf-d16e7a8e9736",
   "metadata": {},
   "source": []
  },
  {
   "cell_type": "markdown",
   "id": "2ec71068-616c-4cbb-bb53-1d3fcda4628a",
   "metadata": {},
   "source": [
    "### 3. Szövegek hossza, histogram\n",
    "- Határozd meg hogy melyik szöveg milyen hosszú.\n",
    "- Számold ki, hogy mennyi az átlagos hossza a pozitív és a negatív üzeneteknek.\n",
    "- Készíts egy-egy histogramot a szövegek hosszának gyakoriságáról a pozitív és a negatív tweetek esetén."
   ]
  },
  {
   "cell_type": "code",
   "execution_count": null,
   "id": "01fb13a7-e5c5-4180-a912-01a4e501b4de",
   "metadata": {},
   "outputs": [],
   "source": []
  },
  {
   "cell_type": "markdown",
   "id": "d08362e8-5e59-4ec1-be4b-4ab2b5501d22",
   "metadata": {},
   "source": [
    "### 4. Szavak vizualizálása (WordCloud)\n",
    "- Készíts egy WordCloud-ot a leggyakoribb pozitív és negatív szavakról."
   ]
  },
  {
   "cell_type": "code",
   "execution_count": null,
   "id": "8cc47a90-cc9b-4ae8-a870-4a8031132c19",
   "metadata": {},
   "outputs": [],
   "source": []
  },
  {
   "cell_type": "markdown",
   "id": "bce2af14-811e-4c36-b186-73557335f452",
   "metadata": {},
   "source": [
    "### 5. BERT használata véleménydetekcióra\n",
    "- Használj Hugging Face BERT modellt a Twitter vélemények osztályozására.\n",
    "- Próbálj ki egy pozitív és egy negatív szöveget"
   ]
  },
  {
   "cell_type": "code",
   "execution_count": null,
   "id": "2565c6c5-206b-4ea8-99b9-4500e9a94194",
   "metadata": {},
   "outputs": [],
   "source": []
  }
 ],
 "metadata": {
  "kernelspec": {
   "display_name": "Python [conda env:base] *",
   "language": "python",
   "name": "conda-base-py"
  },
  "language_info": {
   "codemirror_mode": {
    "name": "ipython",
    "version": 3
   },
   "file_extension": ".py",
   "mimetype": "text/x-python",
   "name": "python",
   "nbconvert_exporter": "python",
   "pygments_lexer": "ipython3",
   "version": "3.12.3"
  }
 },
 "nbformat": 4,
 "nbformat_minor": 5
}
