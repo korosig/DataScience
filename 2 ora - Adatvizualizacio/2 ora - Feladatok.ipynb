{
 "cells": [
  {
   "cell_type": "code",
   "execution_count": 5,
   "id": "2db17ba7-c2fa-48b6-bc2c-36786623aaa9",
   "metadata": {},
   "outputs": [],
   "source": [
    "import pandas as pd\n",
    "import seaborn as sns\n",
    "import matplotlib.pyplot as plt\n",
    "from sklearn.datasets import load_diabetes"
   ]
  },
  {
   "cell_type": "markdown",
   "id": "8ebe5e20-1d4d-4f27-97c9-b5e7ff9b9f04",
   "metadata": {},
   "source": [
    "### Feladatok"
   ]
  },
  {
   "cell_type": "markdown",
   "id": "f529a2ba-118c-46a1-9162-a13acca2134c",
   "metadata": {},
   "source": [
    "### 1. Feladat – Az adatok betöltése és alapvető elemzése\n",
    "\n",
    "- Töltsd be a Diabetes datasetet (sklearn.datasets.load_diabetes()).\n",
    "- Alakítsd át Pandas DataFrame-mé.\n",
    "- Írasd ki az első 5 sort (head()), az oszlopok nevét (columns), és az adatok méretét (shape).\n",
    "  \n",
    "Bővebben [katt ide](https://scikit-learn.org/stable/modules/generated/sklearn.datasets.load_diabetes.html)"
   ]
  },
  {
   "cell_type": "code",
   "execution_count": null,
   "id": "d64507f6-fa47-45a7-88e1-380a1c52007d",
   "metadata": {},
   "outputs": [],
   "source": []
  },
  {
   "cell_type": "markdown",
   "id": "32722daf-1d02-43a0-8fc4-cfb5c57704ad",
   "metadata": {},
   "source": [
    "### 2. Feladat – Hiányzó értékek vizsgálata és kezelése\n",
    "- Ellenőrizd, hogy vannak-e hiányzó értékek az adathalmazban.\n",
    "- Ha nincs hiányzó adat, írd ki: \"Nincs hiányzó érték!\""
   ]
  },
  {
   "cell_type": "code",
   "execution_count": null,
   "id": "7606a92d-adfd-4970-8c6c-77515de2c6bc",
   "metadata": {},
   "outputs": [],
   "source": []
  },
  {
   "cell_type": "markdown",
   "id": "3696a474-0ebf-4f54-9ad2-245eed68f808",
   "metadata": {},
   "source": [
    "### 3. Feladat – Egy változó eloszlásának vizsgálata\n",
    "- Készíts hisztogramot a bmi (testtömegindex) oszlop eloszlásáról.\n",
    "- Készíts KDE plotot a bmi értékek sűrűségeloszlásának megtekintéséhez.\n",
    "\n",
    "Elvárt eredmény: Egy vizualizáció, amely megmutatja a BMI eloszlását."
   ]
  },
  {
   "cell_type": "code",
   "execution_count": null,
   "id": "127921e2-9704-428c-9a4e-172de46e1fa0",
   "metadata": {},
   "outputs": [],
   "source": []
  },
  {
   "cell_type": "markdown",
   "id": "de522370-9fc2-46e7-ab6f-f13b2eccf3fa",
   "metadata": {},
   "source": [
    "### 4. Feladat – GroupBy és Aggregation\n",
    "\n",
    "- Hozz létre egy új kategóriát a bmi oszlopra:\n",
    "  - Alacsony (0-0.03)\n",
    "  - Közepes (0.03-0.07)\n",
    "  - Magas (>0.07)\n",
    "- Csoportosítsd (groupby()) a mintákat a bmi kategória szerint, és számold ki az átlagos target értéket.\n",
    "\n",
    "Elvárt eredmény:\n",
    "\n",
    "- Egy táblázat, amely mutatja a bmi kategóriákhoz tartozó átlagos betegségértékeket."
   ]
  },
  {
   "cell_type": "code",
   "execution_count": null,
   "id": "ad24a12b-e904-4b29-b07c-28487b394864",
   "metadata": {},
   "outputs": [],
   "source": []
  },
  {
   "cell_type": "markdown",
   "id": "6e75f4d0-d5d0-41d1-bbfd-643a80677d56",
   "metadata": {},
   "source": [
    "### 5. Feladat – Korreláció\n",
    "   \n",
    "- Készíts egy korrelációs ábrát\n",
    "  \n",
    "Elvárt eredmény:\n",
    "\n",
    "Egy hőtérkép (heatmap), amely kiemeli az eltéréseket."
   ]
  },
  {
   "cell_type": "code",
   "execution_count": null,
   "id": "ff6134e0-de7b-478e-9af0-9fec6913a13f",
   "metadata": {},
   "outputs": [],
   "source": []
  },
  {
   "cell_type": "markdown",
   "id": "5f864bd9-680e-415b-b571-e17b21c0bc98",
   "metadata": {},
   "source": [
    "### 6. Feladat – Pivot Table és Heatmap\n",
    "\n",
    "- Készíts egy Pivot Table-t, amely az egyes bmi_category és bp (vérnyomás) értékek szerint mutatja az átlagos betegségértéket (target).\n",
    "- A táblázatot jelenítsd meg heatmapként!\n",
    "  \n",
    "Elvárt eredmény:\n",
    "Egy hőtérkép (heatmap), amely kiemeli az eltéréseket."
   ]
  },
  {
   "cell_type": "code",
   "execution_count": null,
   "id": "830e46a4-d0d7-44e5-9b60-9954c7c5f160",
   "metadata": {},
   "outputs": [],
   "source": []
  },
  {
   "cell_type": "markdown",
   "id": "f96820d4-2959-4aa2-9963-739016039f16",
   "metadata": {},
   "source": [
    "### 7. Feladat – Violinplot és Swarmplot kombinálása\n",
    "\n",
    "- Készíts violinplotot és swarmplotot a bmi_category szerinti target értékek eloszlására.\n",
    "\n",
    "Elvárt eredmény: Egy vizualizáció, amely megmutatja az eloszlásokat és a valódi mintákat."
   ]
  },
  {
   "cell_type": "code",
   "execution_count": null,
   "id": "c4820025-68de-4315-a890-d907696bafde",
   "metadata": {},
   "outputs": [],
   "source": []
  },
  {
   "cell_type": "markdown",
   "id": "ea582550-8eb4-4082-b6f9-40a10d5c9aa8",
   "metadata": {},
   "source": [
    "### 8. Feladat – Új kategóriaváltozó és oszlopdiagram\n",
    "\n",
    "apply + lambda segítségével hozz létre egy új oszlopot age_level néven a age értékekből:\n",
    "- „Fiatal” ha age < 0.04\n",
    "- „Középkorú” ha 0.04 ≤ age < 0.07\n",
    "- „Idősebb” ha age ≥ 0.07\n",
    "\n",
    "Számold meg a kategóriák előfordulását, és ábrázold oszlopdiagramon"
   ]
  },
  {
   "cell_type": "code",
   "execution_count": null,
   "id": "ce9363e1-e354-4471-a029-8927bec30716",
   "metadata": {},
   "outputs": [],
   "source": []
  },
  {
   "cell_type": "markdown",
   "id": "14a30bc3-a00a-40ba-b0ec-e55475a0ee5e",
   "metadata": {},
   "source": [
    "### 9. Feladat – GroupBy + Átlag vizualizálása\n",
    "\n",
    "- groupby segítségével számold ki az átlagos target értéket bmi_category szerint.\n",
    "- Az eredményt ábrázold oszlopdiagramon (bar plot).\n",
    "\n",
    "Mit mutat az ábra?"
   ]
  },
  {
   "cell_type": "code",
   "execution_count": null,
   "id": "af2c87df-e245-4ae5-8689-b4cea9d833bf",
   "metadata": {},
   "outputs": [],
   "source": []
  },
  {
   "cell_type": "markdown",
   "id": "7e6b2611-b938-42d0-bfd9-6850af1cac5d",
   "metadata": {},
   "source": [
    "### 10. Feladat – Több aggregáció és vizualizáció\n",
    "\n",
    "- groupby(\"bp_level\") + agg([\"mean\", \"std\"]) a target oszlopra.\n",
    "- Az eredményből készíts hibasávos oszlopdiagramot (bar plot + errorbar).\n",
    "\n",
    "Értelmezd: melyik vérnyomás-kategóriában a legnagyobb a szórás?"
   ]
  },
  {
   "cell_type": "code",
   "execution_count": null,
   "id": "4dd9ac67-dff5-41c6-832d-ca37e8c2882b",
   "metadata": {},
   "outputs": [],
   "source": []
  },
  {
   "cell_type": "markdown",
   "id": "d3fe5d6e-ee27-43ad-b4c2-4fbba0939336",
   "metadata": {},
   "source": [
    "### 11. Feladat – Crosstab és Heatmap\n",
    "\n",
    "- Készíts pd.crosstab(df[\"bmi_category\"], df[\"bp_level\"]) táblázatot.\n",
    "- Ábrázold heatmap segítségével, ahol a színek a mintaszámokat jelzik.\n",
    "\n",
    "Mit mond el a táblázat a BMI és a vérnyomás kategóriákról?"
   ]
  },
  {
   "cell_type": "code",
   "execution_count": null,
   "id": "83088b5a-f230-4178-a5fc-e28bd66decee",
   "metadata": {},
   "outputs": [],
   "source": []
  },
  {
   "cell_type": "markdown",
   "id": "13486562-e48d-4be1-9483-a94826f025ae",
   "metadata": {},
   "source": [
    "### 12. Feladat – Legmagasabb értékek vizualizálása\n",
    "\n",
    "- groupby(\"bmi_category\") + apply(lambda x: x.nlargest(5, \"target\"))\n",
    "- Az így kiválasztott top 5-ös értékekből rajzolj scatter plotot: bmi az x tengelyen, target az y tengelyen.\n",
    "\n",
    "Színezd a pontokat kategóriák szerint."
   ]
  },
  {
   "cell_type": "code",
   "execution_count": null,
   "id": "ef8b0f55-392d-45fd-80e6-7ceb7c009a67",
   "metadata": {},
   "outputs": [],
   "source": []
  },
  {
   "cell_type": "markdown",
   "id": "4a26914f-55de-4232-8c1b-e0fc8a6c7c50",
   "metadata": {},
   "source": [
    "### 13. Feladat – Korreláció rendezése és ábrázolása\n",
    "\n",
    "- Számítsd ki az összes numerikus változó korrelációját a target-tel.\n",
    "- Rendezd őket abszolút érték szerint csökkenő sorrendbe.\n",
    "\n",
    "Ábrázold vízszintes oszlopdiagramon, hogy mely változók korrelálnak legerősebben."
   ]
  },
  {
   "cell_type": "code",
   "execution_count": null,
   "id": "0d4bb600-5ef9-4895-a78c-cac186b8a0b8",
   "metadata": {},
   "outputs": [],
   "source": []
  },
  {
   "cell_type": "markdown",
   "id": "177f8634-6aa2-45bb-b7c6-df459e0e0d18",
   "metadata": {},
   "source": [
    "### 14. Feladat – Aggregált Pivot Table és Heatmap\n",
    "\n",
    "- Készíts pivot táblát: sorok = bmi_category, oszlopok = bp_level, érték = átlagos target.\n",
    "- Ábrázold seaborn.heatmap segítségével, annotációval.\n",
    "\n",
    "Magyarázd el, mit mutat a két kategóriarendszer kombinációja."
   ]
  },
  {
   "cell_type": "code",
   "execution_count": null,
   "id": "9e33ffbc-3f4c-4800-9712-7ff60b8ee3e3",
   "metadata": {},
   "outputs": [],
   "source": []
  }
 ],
 "metadata": {
  "kernelspec": {
   "display_name": "Python [conda env:base] *",
   "language": "python",
   "name": "conda-base-py"
  },
  "language_info": {
   "codemirror_mode": {
    "name": "ipython",
    "version": 3
   },
   "file_extension": ".py",
   "mimetype": "text/x-python",
   "name": "python",
   "nbconvert_exporter": "python",
   "pygments_lexer": "ipython3",
   "version": "3.12.3"
  }
 },
 "nbformat": 4,
 "nbformat_minor": 5
}
