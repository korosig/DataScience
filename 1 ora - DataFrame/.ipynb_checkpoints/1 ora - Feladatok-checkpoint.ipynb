{
 "cells": [
  {
   "cell_type": "markdown",
   "id": "35fb0cb5-38fe-45ec-bf97-df643dcb4161",
   "metadata": {},
   "source": [
    "# Feladat\n",
    "\n",
    "A Titanic adathalmaz \n",
    "\n",
    "A Titanic adathalmaz az egyik legismertebb nyílt forráskódú dataset, amelyet gyakran használnak adatfeldolgozás, statisztikai elemzés és gépi tanulás gyakorlására. Az adatok az 1912. április 15-én elsüllyedt RMS Titanic utasainak információit tartalmazzák, és azt vizsgálják, hogy kik élték túl a katasztrófát.\n",
    "\n",
    "Az Adathalmaz jellemzői\n",
    "\n",
    "- Forrás: OpenML, eredetileg a Kaggle és más statisztikai publikációk alapján.\n",
    "- Sorok száma: 1309 utas\n",
    "- Oszlopok száma: 14 jellemző\n",
    "\n",
    "Az Adathalmaz oszlopai\n",
    "\n",
    "- pclass =\tUtasosztály (1 = első, 2 = második, 3 = harmadosztály)\n",
    "- sex\t= Utas neme (male = férfi, female = nő)\n",
    "- age\t= Utas életkora (néhány érték hiányzik)\n",
    "- sibsp\t= A fedélzeten lévő testvérek és házastársak száma\n",
    "- parch\t= A fedélzeten lévő szülők és gyermekek száma\n",
    "- fare =\tJegy ára (fontban)\n",
    "- embarked =\tHol szállt fel az utas (C=Cherbourg, Q=Queenstown, S=Southampton)\n",
    "- home.dest =\tAz utas lakhelye vagy úti célja\n",
    " -survived =\tCélváltozó (0 = nem élte túl, 1 = túlélte)\n",
    "\n",
    "Érdekességek a Titanic túlélési adatairól\n",
    "-  Az 1. osztályú utasok túlélési aránya sokkal magasabb volt, mint a 3. osztályú utasoké.\n",
    "-  A nők túlélési esélye jelentősen nagyobb volt, mint a férfiaké.\n",
    "-  Az \"Women and children first\" szabály miatt a fiatalabb utasok jobban túlélték a katasztrófát."
   ]
  },
  {
   "cell_type": "markdown",
   "id": "8583a234-50c8-407c-b9a8-27b87d294420",
   "metadata": {},
   "source": [
    "Adathalmaz forrása: sklearn.datasets.fetch_openml('titanic', version=1)"
   ]
  },
  {
   "cell_type": "code",
   "execution_count": 20,
   "id": "110f672c-9fc1-44c8-b25d-23cd8f0acf8e",
   "metadata": {},
   "outputs": [
    {
     "data": {
      "text/html": [
       "<div>\n",
       "<style scoped>\n",
       "    .dataframe tbody tr th:only-of-type {\n",
       "        vertical-align: middle;\n",
       "    }\n",
       "\n",
       "    .dataframe tbody tr th {\n",
       "        vertical-align: top;\n",
       "    }\n",
       "\n",
       "    .dataframe thead th {\n",
       "        text-align: right;\n",
       "    }\n",
       "</style>\n",
       "<table border=\"1\" class=\"dataframe\">\n",
       "  <thead>\n",
       "    <tr style=\"text-align: right;\">\n",
       "      <th></th>\n",
       "      <th>pclass</th>\n",
       "      <th>name</th>\n",
       "      <th>sex</th>\n",
       "      <th>age</th>\n",
       "      <th>sibsp</th>\n",
       "      <th>parch</th>\n",
       "      <th>ticket</th>\n",
       "      <th>fare</th>\n",
       "      <th>cabin</th>\n",
       "      <th>embarked</th>\n",
       "      <th>boat</th>\n",
       "      <th>body</th>\n",
       "      <th>home.dest</th>\n",
       "      <th>survived</th>\n",
       "    </tr>\n",
       "  </thead>\n",
       "  <tbody>\n",
       "    <tr>\n",
       "      <th>0</th>\n",
       "      <td>1</td>\n",
       "      <td>Allen, Miss. Elisabeth Walton</td>\n",
       "      <td>female</td>\n",
       "      <td>29.0000</td>\n",
       "      <td>0</td>\n",
       "      <td>0</td>\n",
       "      <td>24160</td>\n",
       "      <td>211.3375</td>\n",
       "      <td>B5</td>\n",
       "      <td>S</td>\n",
       "      <td>2</td>\n",
       "      <td>NaN</td>\n",
       "      <td>St Louis, MO</td>\n",
       "      <td>1</td>\n",
       "    </tr>\n",
       "    <tr>\n",
       "      <th>1</th>\n",
       "      <td>1</td>\n",
       "      <td>Allison, Master. Hudson Trevor</td>\n",
       "      <td>male</td>\n",
       "      <td>0.9167</td>\n",
       "      <td>1</td>\n",
       "      <td>2</td>\n",
       "      <td>113781</td>\n",
       "      <td>151.5500</td>\n",
       "      <td>C22 C26</td>\n",
       "      <td>S</td>\n",
       "      <td>11</td>\n",
       "      <td>NaN</td>\n",
       "      <td>Montreal, PQ / Chesterville, ON</td>\n",
       "      <td>1</td>\n",
       "    </tr>\n",
       "    <tr>\n",
       "      <th>2</th>\n",
       "      <td>1</td>\n",
       "      <td>Allison, Miss. Helen Loraine</td>\n",
       "      <td>female</td>\n",
       "      <td>2.0000</td>\n",
       "      <td>1</td>\n",
       "      <td>2</td>\n",
       "      <td>113781</td>\n",
       "      <td>151.5500</td>\n",
       "      <td>C22 C26</td>\n",
       "      <td>S</td>\n",
       "      <td>NaN</td>\n",
       "      <td>NaN</td>\n",
       "      <td>Montreal, PQ / Chesterville, ON</td>\n",
       "      <td>0</td>\n",
       "    </tr>\n",
       "    <tr>\n",
       "      <th>3</th>\n",
       "      <td>1</td>\n",
       "      <td>Allison, Mr. Hudson Joshua Creighton</td>\n",
       "      <td>male</td>\n",
       "      <td>30.0000</td>\n",
       "      <td>1</td>\n",
       "      <td>2</td>\n",
       "      <td>113781</td>\n",
       "      <td>151.5500</td>\n",
       "      <td>C22 C26</td>\n",
       "      <td>S</td>\n",
       "      <td>NaN</td>\n",
       "      <td>135.0</td>\n",
       "      <td>Montreal, PQ / Chesterville, ON</td>\n",
       "      <td>0</td>\n",
       "    </tr>\n",
       "    <tr>\n",
       "      <th>4</th>\n",
       "      <td>1</td>\n",
       "      <td>Allison, Mrs. Hudson J C (Bessie Waldo Daniels)</td>\n",
       "      <td>female</td>\n",
       "      <td>25.0000</td>\n",
       "      <td>1</td>\n",
       "      <td>2</td>\n",
       "      <td>113781</td>\n",
       "      <td>151.5500</td>\n",
       "      <td>C22 C26</td>\n",
       "      <td>S</td>\n",
       "      <td>NaN</td>\n",
       "      <td>NaN</td>\n",
       "      <td>Montreal, PQ / Chesterville, ON</td>\n",
       "      <td>0</td>\n",
       "    </tr>\n",
       "  </tbody>\n",
       "</table>\n",
       "</div>"
      ],
      "text/plain": [
       "   pclass                                             name     sex      age  \\\n",
       "0       1                    Allen, Miss. Elisabeth Walton  female  29.0000   \n",
       "1       1                   Allison, Master. Hudson Trevor    male   0.9167   \n",
       "2       1                     Allison, Miss. Helen Loraine  female   2.0000   \n",
       "3       1             Allison, Mr. Hudson Joshua Creighton    male  30.0000   \n",
       "4       1  Allison, Mrs. Hudson J C (Bessie Waldo Daniels)  female  25.0000   \n",
       "\n",
       "   sibsp  parch  ticket      fare    cabin embarked boat   body  \\\n",
       "0      0      0   24160  211.3375       B5        S    2    NaN   \n",
       "1      1      2  113781  151.5500  C22 C26        S   11    NaN   \n",
       "2      1      2  113781  151.5500  C22 C26        S  NaN    NaN   \n",
       "3      1      2  113781  151.5500  C22 C26        S  NaN  135.0   \n",
       "4      1      2  113781  151.5500  C22 C26        S  NaN    NaN   \n",
       "\n",
       "                         home.dest survived  \n",
       "0                     St Louis, MO        1  \n",
       "1  Montreal, PQ / Chesterville, ON        1  \n",
       "2  Montreal, PQ / Chesterville, ON        0  \n",
       "3  Montreal, PQ / Chesterville, ON        0  \n",
       "4  Montreal, PQ / Chesterville, ON        0  "
      ]
     },
     "metadata": {},
     "output_type": "display_data"
    }
   ],
   "source": [
    "# Titanic adatok betöltése Scikit-learn segítségével\n",
    "\n",
    "from sklearn.datasets import fetch_openml\n",
    "import pandas as pd\n",
    "\n",
    "# Adatok betöltése az OpenML adatbázisból\n",
    "titanic = fetch_openml(name=\"titanic\", version=1, as_frame=True)\n",
    "\n",
    "# Adatok átalakítása Pandas DataFrame formátumba\n",
    "df = titanic.data\n",
    "df[\"survived\"] = titanic.target  # A célváltozót (y) is hozzárendeljük\n",
    "\n",
    "# Az első néhány sor kiírása\n",
    "display(df.head())\n"
   ]
  },
  {
   "cell_type": "markdown",
   "id": "34551256-3fb7-4f11-8fe4-d0b3bd98f8d3",
   "metadata": {},
   "source": [
    "### 1. Feladat – Adatok betöltése és előzetes elemzése\n",
    "\n",
    "\n",
    "- Töltsd be a Titanic adathalmazt a Scikit-learn fetch_openml függvényével.\n",
    "- Ellenőrizd az adathalmaz méretét (shape).\n",
    "- Nézd meg az első 5 sort (head()) és az oszlopneveket (columns).\n",
    "\n",
    "Elvárt kimenet (példa, a pontos értékek változhatnak):\n",
    "\n",
    "\n",
    "\n",
    "\n",
    "Az adathalmaz mérete: (1309, 14)\n",
    "Oszlopnevek: ['pclass', 'survived', 'name', 'sex', 'age', 'sibsp', 'parch', 'ticket', 'fare', 'cabin', 'embarked', 'boat', 'body', 'home.dest']\n",
    "\n",
    "\n"
   ]
  },
  {
   "cell_type": "code",
   "execution_count": null,
   "id": "11f2ea6e-f696-4942-af97-bb5eed20af28",
   "metadata": {},
   "outputs": [],
   "source": []
  },
  {
   "cell_type": "markdown",
   "id": "db37d6bd-ff80-4f3f-807f-39162e144958",
   "metadata": {},
   "source": [
    "### 2. Feladat - Típusok\n",
    "   - Ellenőrizd az oszlopok típusát: df.info()\n",
    "   - Ha a survived nem numerikus, alakítsd számmá (0/1)."
   ]
  },
  {
   "cell_type": "code",
   "execution_count": null,
   "id": "7ed52c03-11d0-47d4-9367-83270af829d2",
   "metadata": {},
   "outputs": [],
   "source": []
  },
  {
   "cell_type": "markdown",
   "id": "d3ed06ae-0715-48d5-97bd-ed51d808e6f5",
   "metadata": {},
   "source": [
    "### 3. Feladat – Kategóriák numerikussá alakítása\n",
    "\n",
    "- Alakítsd át a \"sex\" oszlopot Label Encoding segítségével (male=0, female=1).\n",
    "- Használj One-Hot Encodingot az \"embarked\" oszlopra (S, C, Q).\n",
    "- Nézd meg, hogy a survived oszlop hogyan oszlik meg (value_counts())."
   ]
  },
  {
   "cell_type": "code",
   "execution_count": null,
   "id": "ddac0492-ed48-4140-a1a6-50705053f17b",
   "metadata": {},
   "outputs": [],
   "source": []
  },
  {
   "cell_type": "markdown",
   "id": "2f1df82e-74bf-4737-a2b1-3ea781b7b76e",
   "metadata": {},
   "source": [
    "### 4. Feladat – Hiányzó értékek kezelése\n",
    "\n",
    "\n",
    "- Határozd meg, mely oszlopok tartalmaznak hiányzó adatokat.\n",
    "- Pótold a numerikus oszlopokban lévő hiányzó értékeket átlaggal.\n",
    "- Pótold a kategóriális oszlopokban lévő hiányzó értékeket a leggyakoribb értékkel (módusz)."
   ]
  },
  {
   "cell_type": "code",
   "execution_count": null,
   "id": "aee60dc2-392c-44bb-a472-538ee40a1771",
   "metadata": {},
   "outputs": [],
   "source": []
  },
  {
   "cell_type": "markdown",
   "id": "1cfd9c96-04c3-4c98-93e5-4459a113aff3",
   "metadata": {},
   "source": [
    "### 5. Feladat – Numerikus és kategóriás oszlopok kiválasztása\n",
    "\n",
    "- Listázd ki a numerikus oszlopokat a select_dtypes(include=[\"number\"]) segítségével.\n",
    "- Listázd ki a kategóriás oszlopokat a select_dtypes(exclude=[\"number\"]) segítségével.\n",
    "- Konvertáld az \"age\" oszlop értékeit 0 és 1 közé Min-Max skálázással.\n",
    "\n",
    "Elvárt kimenet (példa):\n",
    "- Numerikus oszlopok: ['age', 'sibsp', 'parch', 'fare', 'body']\n",
    "- Kategóriás oszlopok: ['name', 'sex', 'ticket', 'cabin', 'embarked', 'home.dest']"
   ]
  },
  {
   "cell_type": "code",
   "execution_count": null,
   "id": "c91c9431-b433-4064-9a27-a1c1365109b3",
   "metadata": {},
   "outputs": [],
   "source": []
  },
  {
   "cell_type": "markdown",
   "id": "27f07ce1-459c-421e-9451-88dd7226017f",
   "metadata": {},
   "source": [
    "### 6. Feladat - Szűrés\n",
    "- Szűrd ki a 30 év alatti nőket, akik 1. osztályon utaztak, és túlélték a katasztrófát.\n",
    "- Rendezd az eredményt kor szerint csökkenő sorrendbe.\n"
   ]
  },
  {
   "cell_type": "code",
   "execution_count": null,
   "id": "4824b2b6-0d38-4799-8eb4-155691c545c2",
   "metadata": {},
   "outputs": [],
   "source": []
  },
  {
   "cell_type": "markdown",
   "id": "dcf3bcb1-bcbf-4aae-b7bb-ab53f79c1f9a",
   "metadata": {},
   "source": [
    "## 7. Feladat – Életkori csoportok, összesítések és nemenkénti bontás\n",
    "\n",
    "**Cél:** életkori kategóriák képzése, túlélési mutatók és alapstatisztikák számítása, majd bontás nemek szerint.\n",
    "\n",
    "Új oszlop: age_group\n",
    "Hozz létre egy kategóriát az age alapján az alábbi **fél-nyílt** intervallumokkal (balról zárt, jobbról nyitott):\n",
    "- **Gyerek**: [0, 10)\n",
    "- **Fiatal**: [10, 20)\n",
    "- **Fiatal felnőtt**: [20, 35)\n",
    "- **Középkorú**: [35, 60)\n",
    "- **Idős**: [60, ∞)\n",
    "\n",
    "Megjegyzés:\n",
    " - A hiányzó életkorokat kezeld külön: jelöld **Ismeretlen** kategóriával *vagy* hagyd ki az összesítésekből — jelezd, melyiket választottad.\n",
    " - Gondoskodj róla, hogy a age_group **rendezett kategória** legyen (Gyerek → … → Idős), hogy a táblázatok érthető sorrendben jelenjenek meg.\n"
   ]
  },
  {
   "cell_type": "code",
   "execution_count": null,
   "id": "e6f9a80f-5a36-4cc1-8400-7000a8631f38",
   "metadata": {},
   "outputs": [],
   "source": []
  },
  {
   "cell_type": "markdown",
   "id": "1979aa5e-8fa8-43cc-a969-8e8be605bf04",
   "metadata": {},
   "source": [
    "### 8. Feladat - Összesítés életkori csoportonként\n",
    "Számítsd ki **csoportonként (age_group)**:\n",
    "- n (megfigyelések száma),\n",
    "- survived_count (túlélők száma, azaz survived összege),\n",
    "- survival_rate (túlélési arány, azaz survived átlaga),\n",
    "- age_min, age_median, age_max (életkor min/medián/max — az Ismeretlen csoportot itt hagyhatod üresen).\n",
    "\n",
    "Jelezd, ha a hiányzó életkorok miatt bármelyik statisztika nem értelmezhető egy csoportban.\n"
   ]
  },
  {
   "cell_type": "code",
   "execution_count": null,
   "id": "17a279a6-2d5a-4546-b0ca-736f4b7734f0",
   "metadata": {},
   "outputs": [],
   "source": []
  },
  {
   "cell_type": "markdown",
   "id": "5009bf3c-bbdd-441a-87fc-c013bd4f1383",
   "metadata": {},
   "source": [
    "### 9.Feladat -  Nemenkénti bontás\n",
    "Ismételd meg az összesítést **age_group × sex** bontásban:\n",
    "- számold ki n, survived_count, survival_rate mutatókat (az életkor-statisztikák opcionálisak),\n",
    "- ügyelj a sex értékeinek konzisztenciájára (female/male).\n",
    "- Rendezd a táblázatokat az életkori csoportok **logikus sorrendje** szerint.\n",
    "- Javasolt oszlopok: age_group, sex (ha van), n, survived_count, survival_rate, age_min, age_median, age_max.\n",
    "\n"
   ]
  },
  {
   "cell_type": "code",
   "execution_count": null,
   "id": "e4b13c48-5cb6-4bca-bed0-d3f4ef7bc5e8",
   "metadata": {},
   "outputs": [],
   "source": []
  },
  {
   "cell_type": "markdown",
   "id": "e97bd7a7-d776-4055-a34c-ebb5c8ba0d1a",
   "metadata": {},
   "source": [
    "### 10. Feladat – Csoportosítás és korreláció\n",
    "\n",
    "Túlélési arány osztályok szerint:\n",
    "- Számítsd ki a túlélési arányt pclass szerint, és add meg a mintanagyságot is osztályonként.\n",
    "- Kiegészítés: ismételd meg pclass × sex bontásban, és értelmezd a különbségeket (konfundálás)."
   ]
  },
  {
   "cell_type": "code",
   "execution_count": null,
   "id": "0571ff91-df85-4e98-a876-182facd88bc2",
   "metadata": {},
   "outputs": [],
   "source": []
  },
  {
   "cell_type": "markdown",
   "id": "c011200e-8c83-4e62-b4a6-f02762c00cc6",
   "metadata": {},
   "source": [
    "### 11. Korreláció a túléléssel\n",
    "\n",
    "- Vizsgáld a bináris survived és a numerikus jellemzők közötti kapcsolatot.\n",
    "- Nézd meg a Spearman korrelációt is.\n",
    "- Készíts log-transzformált fare-t és hasonlítsd össze a korrelációs együtthatókat."
   ]
  },
  {
   "cell_type": "code",
   "execution_count": null,
   "id": "bc565337-eb06-4ca3-bd73-24771c52f2bb",
   "metadata": {},
   "outputs": [],
   "source": []
  },
  {
   "cell_type": "markdown",
   "id": "11ce2202-6eaf-4e5f-9b0d-664c70a294b1",
   "metadata": {},
   "source": [
    "### 12. Feladat – Többfüggvényes aggregáció (groupby + agg)\n",
    "\n",
    "Készits kimutatást nem és osztályonként több mutatótval egy lépésben.\n",
    "Csoportosíts pclass × sex szerint.\n",
    "\n",
    "Számítsd ki:\n",
    "- n (darabszám),\n",
    "- survival_rate (= survived átlaga),\n",
    "- age_median (medián),\n",
    "- fare_median (medián),\n",
    "- fare_IQR (Q3–Q1, lambda: x.quantile(.75) - x.quantile(.25)).\n",
    "\n",
    "Rendezd survival_rate szerint csökkenő sorrendbe.\n",
    "Ellenőrzés: a táblázat indexe több szintű (pclass, sex), az oszlopok a fenti nevű mutatók."
   ]
  },
  {
   "cell_type": "code",
   "execution_count": null,
   "id": "afb56ad7-bb94-4db3-a9e0-ed8ff4efad82",
   "metadata": {},
   "outputs": [],
   "source": []
  },
  {
   "cell_type": "markdown",
   "id": "01ec8b7c-4671-4ded-bdf6-6ef645083c27",
   "metadata": {},
   "source": [
    "### 13. Feladat – „Named aggregation” + egyedi mutatók (lambda)\n",
    "\n",
    "Készits beszédes oszlopneveket és saját képleteket.\n",
    "Pl. Hozz létre family_size = sibsp + parch + 1.\n",
    "\n",
    "Csoportosíts pclass szerint, és agg-gel számítsd:\n",
    "- avg_family_size (átlag),\n",
    "- large_family_rate (arány, lambda: a family_size >= 4 részesedése),\n",
    "- youth_rate (arány, lambda: age < 18 részesedése – hiányzókat hagyd ki).\n",
    "\n",
    "Ellenőrzés: 3 új, beszédes nevű oszlop jelenjen meg; értelmezd röviden, mit jelent a három mutató."
   ]
  },
  {
   "cell_type": "code",
   "execution_count": null,
   "id": "0cd0d720-8fcb-4ca0-a54d-ed7470d633d5",
   "metadata": {},
   "outputs": [],
   "source": []
  },
  {
   "cell_type": "markdown",
   "id": "df48d99a-57d3-40ea-a74d-de699b8fb6e0",
   "metadata": {},
   "source": [
    "### 14. Feladat – Kontingenciatábla (pd.crosstab)\n",
    "\n",
    "Készits kategória × kategória kapcsolat gyors áttekintése.\n",
    "\n",
    "Pl. crosstab-ot pclass × survived-ra:\n",
    "- nyers darabszámok\n",
    "- normalize=\"index\" (osztályon belüli arányok),\n",
    "- margins=True (összes sor/oszlop).\n",
    "\n",
    "Ugyanezt kipróbálhatod a sex × survived-ra is mutasd meg.\n",
    "\n",
    "Ellenőrzés: a normalizált táblában a sorok összege = 1; rövid megjegyzés, mit látsz."
   ]
  },
  {
   "cell_type": "code",
   "execution_count": null,
   "id": "3281a196-06ae-4cd7-b9ca-4a77591b1373",
   "metadata": {},
   "outputs": [],
   "source": []
  },
  {
   "cell_type": "markdown",
   "id": "574790db-20a7-4730-ba1a-b05bcb768a37",
   "metadata": {},
   "source": [
    "### 15. Feladat – Crosstab érték-aggregációval + életkori csoport\n",
    "\n",
    "A crosstab nem csak számolni tud, aggregálni is.\n",
    "\n",
    "- Hozz létre rendezett age_group kategóriát (pl. [0,10), [10,20), [20,35), [35,60), [60,∞); hiányzó kor: „Ismeretlen”).\n",
    "- Készíts pd.crosstab(age_group, sex, values=fare, aggfunc=\"median\") táblát (medián viteldíj korcsoport × nem szerint).\n",
    "- Készíts külön táblát normalize=\"all\"-lal age_group × survived-ra (teljes mintán belüli arányok).\n",
    "\n",
    "Ellenőrzés: a medián-táblában számszerű viteldíjak; a normalizált táblában az összeg 1."
   ]
  },
  {
   "cell_type": "code",
   "execution_count": null,
   "id": "35add6ed-ab5e-4420-b414-e8050c9568e9",
   "metadata": {},
   "outputs": [],
   "source": []
  }
 ],
 "metadata": {
  "kernelspec": {
   "display_name": "Python [conda env:base] *",
   "language": "python",
   "name": "conda-base-py"
  },
  "language_info": {
   "codemirror_mode": {
    "name": "ipython",
    "version": 3
   },
   "file_extension": ".py",
   "mimetype": "text/x-python",
   "name": "python",
   "nbconvert_exporter": "python",
   "pygments_lexer": "ipython3",
   "version": "3.12.3"
  }
 },
 "nbformat": 4,
 "nbformat_minor": 5
}
