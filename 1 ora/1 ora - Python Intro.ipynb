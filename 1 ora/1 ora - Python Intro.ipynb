{
 "cells": [
  {
   "cell_type": "markdown",
   "metadata": {
    "id": "wHTxFiYsoKM3"
   },
   "source": [
    "## Python áttekintés\n",
    "\n",
    "-  Az óra célja, hogy megismerkedjünk a Pandas DataFrame fogalmával és annak használatával.\n",
    "-  Megtanuljuk, hogyan lehet adatokat beolvasni, módosítani és elemezni egy DataFrame segítségével.\n",
    "-  Az óra végére a hallgatók képesek lesznek egyszerű adatmanipulációkat végrehajtani Pythonban."
   ]
  },
  {
   "cell_type": "markdown",
   "metadata": {
    "id": "2h-rJzpqoFSD"
   },
   "source": [
    "### Bevezetés\n",
    "\n",
    "Mi az a DataFrame?\n",
    "-  Táblázatos adatstruktúra (hasonlít az Excel táblázatra vagy SQL táblára).\n",
    "-  Sorokból és oszlopokból áll, indexekkel és címkékkel.\n",
    "\n",
    "Miért fontos a DataFrame a Data Science-ben?\n",
    "-  Adattárolás és manipuláció hatékony módja.\n",
    "-  Könnyű beolvasás, átalakítás és vizualizáció.\n",
    "\n",
    "Szükséges Python csomagok\n",
    "- pandas, numpy, matplotlib\n",
    "- Telepítés(Ha szükséges): pip install pandas numpy matplotlib\n"
   ]
  },
  {
   "cell_type": "markdown",
   "metadata": {},
   "source": [
    "### Kitekintő:\n",
    "\n",
    "Angol nyelvű videó a dataframe-kről: [katt ide](youtube.com/watch?v=eQ0xPt6hIfs)\n",
    "\n"
   ]
  },
  {
   "cell_type": "markdown",
   "metadata": {
    "id": "1qLiuQ9lpMhk"
   },
   "source": [
    "### DataFrame létrehozása listákból és szótárakból\n",
    "\n",
    "Képzeljük el, hogy egy kis adatbázist hozunk létre egy vállalat dolgozóiról. \n",
    "\n",
    "Hogyan alakítjuk ezt DataFrame formátumba?"
   ]
  },
  {
   "cell_type": "code",
   "execution_count": 14,
   "metadata": {
    "id": "Ozg2xakMn50O"
   },
   "outputs": [],
   "source": [
    "# A pandas csomag importálása (rövidítve 'pd'-ként szokás használni)\n",
    "import pandas as pd \n",
    "\n",
    "# Egy szótár (dictionary) létrehozása, ahol minden kulcshoz egy lista tartozik\n",
    "# - 'Név' oszlop: három ember neve\n",
    "# - 'Kor' oszlop: életkorok\n",
    "# - 'Város' oszlop: lakóhelyek\n",
    "data = {'Név': ['Anna', 'Béla', 'Csaba'],\n",
    "        'Kor': [23, 45, 32],\n",
    "        'Város': ['Budapest', 'Szeged', 'Debrecen']}"
   ]
  },
  {
   "cell_type": "code",
   "execution_count": 16,
   "metadata": {},
   "outputs": [
    {
     "data": {
      "text/plain": [
       "{'Név': ['Anna', 'Béla', 'Csaba'],\n",
       " 'Kor': [23, 45, 32],\n",
       " 'Város': ['Budapest', 'Szeged', 'Debrecen']}"
      ]
     },
     "metadata": {},
     "output_type": "display_data"
    }
   ],
   "source": [
    "display(data)"
   ]
  },
  {
   "cell_type": "code",
   "execution_count": 22,
   "metadata": {},
   "outputs": [],
   "source": [
    "# A pandas DataFrame az adatok táblázatos formában való tárolására szolgál.\n",
    "# Itt a szótár kulcsai lesznek az oszlopok nevei, a listák elemei pedig a sorok értékei.\n",
    "df = pd.DataFrame(data)"
   ]
  },
  {
   "cell_type": "code",
   "execution_count": 24,
   "metadata": {
    "id": "gdXWyJckrgCS"
   },
   "outputs": [
    {
     "data": {
      "text/html": [
       "<div>\n",
       "<style scoped>\n",
       "    .dataframe tbody tr th:only-of-type {\n",
       "        vertical-align: middle;\n",
       "    }\n",
       "\n",
       "    .dataframe tbody tr th {\n",
       "        vertical-align: top;\n",
       "    }\n",
       "\n",
       "    .dataframe thead th {\n",
       "        text-align: right;\n",
       "    }\n",
       "</style>\n",
       "<table border=\"1\" class=\"dataframe\">\n",
       "  <thead>\n",
       "    <tr style=\"text-align: right;\">\n",
       "      <th></th>\n",
       "      <th>Név</th>\n",
       "      <th>Kor</th>\n",
       "      <th>Város</th>\n",
       "    </tr>\n",
       "  </thead>\n",
       "  <tbody>\n",
       "    <tr>\n",
       "      <th>0</th>\n",
       "      <td>Anna</td>\n",
       "      <td>23</td>\n",
       "      <td>Budapest</td>\n",
       "    </tr>\n",
       "    <tr>\n",
       "      <th>1</th>\n",
       "      <td>Béla</td>\n",
       "      <td>45</td>\n",
       "      <td>Szeged</td>\n",
       "    </tr>\n",
       "    <tr>\n",
       "      <th>2</th>\n",
       "      <td>Csaba</td>\n",
       "      <td>32</td>\n",
       "      <td>Debrecen</td>\n",
       "    </tr>\n",
       "  </tbody>\n",
       "</table>\n",
       "</div>"
      ],
      "text/plain": [
       "     Név  Kor     Város\n",
       "0   Anna   23  Budapest\n",
       "1   Béla   45    Szeged\n",
       "2  Csaba   32  Debrecen"
      ]
     },
     "metadata": {},
     "output_type": "display_data"
    }
   ],
   "source": [
    "# A DataFrame kiíratása a konzolra.\n",
    "# (Jupyter notebookban a 'display(df)' szebb, táblázatos formátumban mutatja az eredményt.)\n",
    "display(df)"
   ]
  },
  {
   "cell_type": "markdown",
   "metadata": {
    "id": "sjS6WmOFsBH6"
   },
   "source": [
    "DataFrame létrehozása listákból"
   ]
  },
  {
   "cell_type": "code",
   "execution_count": 26,
   "metadata": {
    "id": "d9utkf4Wr5wU"
   },
   "outputs": [],
   "source": [
    "# Három külön listában tároljuk az adatokat\n",
    "nevek = ['Anna', 'Béla', 'Csaba']          # nevek listája\n",
    "korok = [23, 45, 32]                       # életkorok listája\n",
    "varosok = ['Budapest', 'Szeged', 'Debrecen']  # városok listája"
   ]
  },
  {
   "cell_type": "code",
   "execution_count": 28,
   "metadata": {},
   "outputs": [
    {
     "name": "stdout",
     "output_type": "stream",
     "text": [
      "['Anna', 'Béla', 'Csaba']\n",
      "[23, 45, 32]\n",
      "['Budapest', 'Szeged', 'Debrecen']\n"
     ]
    }
   ],
   "source": [
    "print(nevek)\n",
    "print(korok)\n",
    "print(varosok)"
   ]
  },
  {
   "cell_type": "code",
   "execution_count": 32,
   "metadata": {},
   "outputs": [
    {
     "data": {
      "text/plain": [
       "[('Anna', 23, 'Budapest'), ('Béla', 45, 'Szeged'), ('Csaba', 32, 'Debrecen')]"
      ]
     },
     "execution_count": 32,
     "metadata": {},
     "output_type": "execute_result"
    }
   ],
   "source": [
    "# A zip() függvény \"összecsomagolja\" a listák elemeit:\n",
    "# [('Anna', 23, 'Budapest'),\n",
    "#  ('Béla', 45, 'Szeged'),\n",
    "#  ('Csaba', 32, 'Debrecen')]\n",
    "# Vagyis minden sor egy tuple (név, kor, város).\n",
    "# A list() átalakítja a zip objektumot tényleges listává.\n",
    "list(zip(nevek, korok, varosok))"
   ]
  },
  {
   "cell_type": "code",
   "execution_count": 34,
   "metadata": {},
   "outputs": [],
   "source": [
    "# Ezután a pandas DataFrame-be töltjük az adatokat,\n",
    "# és megadjuk az oszlopneveket a 'columns' paraméterrel.\n",
    "df = pd.DataFrame(list(zip(nevek, korok, varosok)),\n",
    "                  columns=['Név', 'Kor', 'Város'])"
   ]
  },
  {
   "cell_type": "code",
   "execution_count": 36,
   "metadata": {},
   "outputs": [
    {
     "data": {
      "text/html": [
       "<div>\n",
       "<style scoped>\n",
       "    .dataframe tbody tr th:only-of-type {\n",
       "        vertical-align: middle;\n",
       "    }\n",
       "\n",
       "    .dataframe tbody tr th {\n",
       "        vertical-align: top;\n",
       "    }\n",
       "\n",
       "    .dataframe thead th {\n",
       "        text-align: right;\n",
       "    }\n",
       "</style>\n",
       "<table border=\"1\" class=\"dataframe\">\n",
       "  <thead>\n",
       "    <tr style=\"text-align: right;\">\n",
       "      <th></th>\n",
       "      <th>Név</th>\n",
       "      <th>Kor</th>\n",
       "      <th>Város</th>\n",
       "    </tr>\n",
       "  </thead>\n",
       "  <tbody>\n",
       "    <tr>\n",
       "      <th>0</th>\n",
       "      <td>Anna</td>\n",
       "      <td>23</td>\n",
       "      <td>Budapest</td>\n",
       "    </tr>\n",
       "    <tr>\n",
       "      <th>1</th>\n",
       "      <td>Béla</td>\n",
       "      <td>45</td>\n",
       "      <td>Szeged</td>\n",
       "    </tr>\n",
       "    <tr>\n",
       "      <th>2</th>\n",
       "      <td>Csaba</td>\n",
       "      <td>32</td>\n",
       "      <td>Debrecen</td>\n",
       "    </tr>\n",
       "  </tbody>\n",
       "</table>\n",
       "</div>"
      ],
      "text/plain": [
       "     Név  Kor     Város\n",
       "0   Anna   23  Budapest\n",
       "1   Béla   45    Szeged\n",
       "2  Csaba   32  Debrecen"
      ]
     },
     "metadata": {},
     "output_type": "display_data"
    }
   ],
   "source": [
    "# Jupyter notebookban a display() függvény szépen táblázatosan jeleníti meg az adatokat.\n",
    "display(df)"
   ]
  },
  {
   "cell_type": "markdown",
   "metadata": {
    "id": "7XRYTNhYsIOa"
   },
   "source": [
    " DataFrame létrehozása listák listájából"
   ]
  },
  {
   "cell_type": "code",
   "execution_count": 38,
   "metadata": {
    "id": "qzOz_44YsJb5"
   },
   "outputs": [
    {
     "name": "stdout",
     "output_type": "stream",
     "text": [
      "     Név  Kor     Város\n",
      "0   Anna   23  Budapest\n",
      "1   Béla   45    Szeged\n",
      "2  Csaba   32  Debrecen\n"
     ]
    }
   ],
   "source": [
    "# Egy listát hozunk létre, amelynek minden eleme egy újabb lista.\n",
    "# Minden belső lista egy adat-sor: [név, kor, város].\n",
    "adatok = [\n",
    "    ['Anna', 23, 'Budapest'],\n",
    "    ['Béla', 45, 'Szeged'],\n",
    "    ['Csaba', 32, 'Debrecen']\n",
    "]\n",
    "\n",
    "# A DataFrame létrehozásakor:\n",
    "# - az 'adatok' listát sorokként értelmezi,\n",
    "# - a 'columns' paraméterben adjuk meg az oszlopneveket.\n",
    "df = pd.DataFrame(adatok, columns=['Név', 'Kor', 'Város'])\n",
    "\n",
    "# A DataFrame kiíratása a konzolra.\n",
    "# (Jupyterben a display(df) szebb, táblázatos formátumban mutatja.)\n",
    "print(df)\n"
   ]
  },
  {
   "cell_type": "markdown",
   "metadata": {
    "id": "h-K529nKsLnN"
   },
   "source": [
    " DataFrame létrehozása NumPy tömbből\n",
    "\n",
    " Ha az adatokat NumPy tömbként kapjuk meg (pl. gépi tanulási modellekből vagy matematikai műveletekből), akkor a pandas.DataFrame() konstruktorral könnyen átalakíthatjuk."
   ]
  },
  {
   "cell_type": "code",
   "execution_count": 40,
   "metadata": {
    "id": "CACDqnfOsQG9"
   },
   "outputs": [
    {
     "name": "stdout",
     "output_type": "stream",
     "text": [
      "     Név Kor     Város\n",
      "0   Anna  23  Budapest\n",
      "1   Béla  45    Szeged\n",
      "2  Csaba  32  Debrecen\n"
     ]
    }
   ],
   "source": [
    "import numpy as np # A NumPy könyvtár importálása (tömbök és matematikai műveletek kezelésére)\n",
    "\n",
    "# Egy NumPy tömb (numpy.array) létrehozása.\n",
    "# A tömb minden sora egy ember adatait tartalmazza: [név, kor, város].\n",
    "numpy_array = np.array([\n",
    "    ['Anna', 23, 'Budapest'],\n",
    "    ['Béla', 45, 'Szeged'],\n",
    "    ['Csaba', 32, 'Debrecen']\n",
    "])\n",
    "\n",
    "# A NumPy tömböt átadjuk a pandas DataFrame konstruktorának.\n",
    "# A 'columns' paraméter megadja az oszlopok neveit.\n",
    "df = pd.DataFrame(numpy_array, columns=['Név', 'Kor', 'Város'])\n",
    "\n",
    "\n",
    "# A DataFrame kiíratása a konzolra.\n",
    "# (Jupyterben érdemesebb a display(df)-et használni.)\n",
    "print(df)\n"
   ]
  },
  {
   "cell_type": "markdown",
   "metadata": {
    "id": "7rKmEAhLsRky"
   },
   "source": [
    "Előnyök:\n",
    "\n",
    "Ha a forrásadatokat NumPy tömbként kapjuk meg (pl. gépi tanulási adatok), ezt a módszert használhatjuk.\n",
    "Gyorsabb lehet nagy adathalmazok esetén."
   ]
  },
  {
   "cell_type": "markdown",
   "metadata": {
    "id": "cjMZeKakpUan"
   },
   "source": [
    "### DataFrame létrehozása/olvasás egy CSV fájlból\n",
    "\n",
    "A való világban az adatokat gyakran CSV fájlokból olvassuk be. A pandas read_csv() függvénye erre a legjobb megoldás."
   ]
  },
  {
   "cell_type": "code",
   "execution_count": 45,
   "metadata": {
    "id": "ZzYSHD8noHt_"
   },
   "outputs": [
    {
     "data": {
      "text/html": [
       "<div>\n",
       "<style scoped>\n",
       "    .dataframe tbody tr th:only-of-type {\n",
       "        vertical-align: middle;\n",
       "    }\n",
       "\n",
       "    .dataframe tbody tr th {\n",
       "        vertical-align: top;\n",
       "    }\n",
       "\n",
       "    .dataframe thead th {\n",
       "        text-align: right;\n",
       "    }\n",
       "</style>\n",
       "<table border=\"1\" class=\"dataframe\">\n",
       "  <thead>\n",
       "    <tr style=\"text-align: right;\">\n",
       "      <th></th>\n",
       "      <th>sepal.length</th>\n",
       "      <th>sepal.width</th>\n",
       "      <th>petal.length</th>\n",
       "      <th>petal.width</th>\n",
       "      <th>variety</th>\n",
       "    </tr>\n",
       "  </thead>\n",
       "  <tbody>\n",
       "    <tr>\n",
       "      <th>0</th>\n",
       "      <td>5.1</td>\n",
       "      <td>3.5</td>\n",
       "      <td>1.4</td>\n",
       "      <td>0.2</td>\n",
       "      <td>Setosa</td>\n",
       "    </tr>\n",
       "    <tr>\n",
       "      <th>1</th>\n",
       "      <td>4.9</td>\n",
       "      <td>3.0</td>\n",
       "      <td>1.4</td>\n",
       "      <td>0.2</td>\n",
       "      <td>Setosa</td>\n",
       "    </tr>\n",
       "    <tr>\n",
       "      <th>2</th>\n",
       "      <td>4.7</td>\n",
       "      <td>3.2</td>\n",
       "      <td>1.3</td>\n",
       "      <td>0.2</td>\n",
       "      <td>Setosa</td>\n",
       "    </tr>\n",
       "    <tr>\n",
       "      <th>3</th>\n",
       "      <td>4.6</td>\n",
       "      <td>3.1</td>\n",
       "      <td>1.5</td>\n",
       "      <td>0.2</td>\n",
       "      <td>Setosa</td>\n",
       "    </tr>\n",
       "    <tr>\n",
       "      <th>4</th>\n",
       "      <td>5.0</td>\n",
       "      <td>3.6</td>\n",
       "      <td>1.4</td>\n",
       "      <td>0.2</td>\n",
       "      <td>Setosa</td>\n",
       "    </tr>\n",
       "  </tbody>\n",
       "</table>\n",
       "</div>"
      ],
      "text/plain": [
       "   sepal.length  sepal.width  petal.length  petal.width variety\n",
       "0           5.1          3.5           1.4          0.2  Setosa\n",
       "1           4.9          3.0           1.4          0.2  Setosa\n",
       "2           4.7          3.2           1.3          0.2  Setosa\n",
       "3           4.6          3.1           1.5          0.2  Setosa\n",
       "4           5.0          3.6           1.4          0.2  Setosa"
      ]
     },
     "metadata": {},
     "output_type": "display_data"
    }
   ],
   "source": [
    "# Egy CSV (Comma-Separated Values) fájl beolvasása közvetlenül az internetről.\n",
    "# A pandas read_csv() függvénye automatikusan letölti és beolvassa a táblázatot DataFrame-ként.\n",
    "# az adat olvasható a bármilyen akár lokális utvonalról is.\n",
    "df = pd.read_csv('https://gist.github.com/netj/8836201/raw/6f9306ad21398ea43cba4f7d537619d0e07d5ae3/iris.csv')\n",
    "\n",
    "# A head() függvény alapértelmezetten az első 5 sort mutatja.\n",
    "# Ez hasznos, ha gyorsan át szeretnénk tekinteni, hogy milyen adatok vannak a táblázatban.\n",
    "display(df.head())  # Első 5 sor kiíratása"
   ]
  },
  {
   "cell_type": "markdown",
   "metadata": {
    "id": "p47kShxosh_u"
   },
   "source": [
    "Előnyök:\n",
    "\n",
    "- Egyszerű, ha az adatokat külső forrásból (pl. Excel, adatbázis) kapjuk meg.\n",
    "- A pandas automatikusan kezeli a hiányzó értékeket.\n",
    "- A szeparátor alap beállitás szerint a \",\", amennyiben más a szeparátor, úgy ezt jelezni kell. Bővebben: https://pandas.pydata.org/docs/reference/api/pandas.read_csv.html"
   ]
  },
  {
   "cell_type": "markdown",
   "metadata": {},
   "source": [
    "### CSV fájl beolvasása különböző paraméterekkel\n",
    "\n",
    "A való életben a CSV fájlok **nagyon eltérő formátumokban** fordulhatnak elő:  \n",
    "- más elválasztó jelet használhatnak (`,` helyett `;` vagy tabulátor),  \n",
    "- előfordulhat, hogy nincs fejléc, vagy nem az első sorban van,  \n",
    "- lehetnek speciális karakterek, ékezetek, vagy hiányzó értékek különböző jelölésekkel.  \n",
    "\n",
    "A `pandas.read_csv()` függvény sok paramétert kínál ezek kezelésére.  \n",
    "Néhány gyakran használt beállítás:  \n",
    "\n",
    "- `sep` → oszlopelválasztó karakter megadása  \n",
    "- `header` / `names` → fejléc sora vagy saját oszlopnevek  \n",
    "- `index_col` → melyik oszlop legyen index  \n",
    "- `usecols` → csak bizonyos oszlopok betöltése  \n",
    "- `dtype` → adattípusok előírása  \n",
    "- `na_values` → hiányzó adatok jelöléseinek megadása  \n",
    "- `skiprows`, `nrows` → sorok kihagyása / korlátozott számú sor betöltése  \n",
    "- `encoding` → fájl kódolása (pl. ékezetes betűk miatt fontos lehet)\n",
    "\n",
    "Az alábbi példában bemutatjuk, hogyan lehet ezeket a paramétereket használni az adatbetöltésnél.\n"
   ]
  },
  {
   "cell_type": "code",
   "execution_count": 51,
   "metadata": {},
   "outputs": [
    {
     "name": "stdout",
     "output_type": "stream",
     "text": [
      "   sepal.length  sepal.width  petal.length  petal.width variety\n",
      "0           5.1          3.5           1.4          0.2  Setosa\n",
      "1           4.9          3.0           1.4          0.2  Setosa\n",
      "2           4.7          3.2           1.3          0.2  Setosa\n",
      "3           4.6          3.1           1.5          0.2  Setosa\n",
      "4           5.0          3.6           1.4          0.2  Setosa\n"
     ]
    }
   ],
   "source": [
    "# CSV beolvasása különböző hasznos paraméterekkel\n",
    "df = pd.read_csv(\n",
    "    'https://gist.github.com/netj/8836201/raw/6f9306ad21398ea43cba4f7d537619d0e07d5ae3/iris.csv',           # fájl elérési útja vagy URL\n",
    "    sep=\",\",              # oszlopelválasztó (pl. \";\" vagy \"\\t\" is lehet)\n",
    "    header=0,             # melyik sort tekintsük fejlécnek (0 = első sor)\n",
    "    names=None,           # ha nincs fejléc, mi adjuk meg az oszlopneveket pl. ['A','B','C']\n",
    "    index_col=None,       # melyik oszlop legyen az index (pl. 'ID')\n",
    "    usecols=None,         # ha csak bizonyos oszlopokra van szükség, pl. ['sepal.length','variety']\n",
    "    dtype=None,           # adattípusok előírása, pl. {'sepal.length': float, 'variety': 'category'}\n",
    "    na_values=[\"?\", \"NA\"],# milyen értékeket kezeljen hiányzó adatnak\n",
    "    skiprows=0,           # hány sort hagyjunk ki a fájl elejéről\n",
    "    nrows=None,           # hány sort olvassunk be (pl. teszteléshez nrows=100)\n",
    "    encoding=\"utf-8\"      # fájl kódolása (gyakran kell pl. \"latin1\" vagy \"cp1250\" magyar ékezetekhez)\n",
    ")\n",
    "\n",
    "# Gyors ellenőrzés\n",
    "print(df.head())\n"
   ]
  },
  {
   "cell_type": "code",
   "execution_count": 53,
   "metadata": {},
   "outputs": [
    {
     "name": "stdout",
     "output_type": "stream",
     "text": [
      "<class 'pandas.core.frame.DataFrame'>\n",
      "RangeIndex: 150 entries, 0 to 149\n",
      "Data columns (total 5 columns):\n",
      " #   Column        Non-Null Count  Dtype  \n",
      "---  ------        --------------  -----  \n",
      " 0   sepal.length  150 non-null    float64\n",
      " 1   sepal.width   150 non-null    float64\n",
      " 2   petal.length  150 non-null    float64\n",
      " 3   petal.width   150 non-null    float64\n",
      " 4   variety       150 non-null    object \n",
      "dtypes: float64(4), object(1)\n",
      "memory usage: 6.0+ KB\n",
      "None\n"
     ]
    }
   ],
   "source": [
    "print(df.info())"
   ]
  },
  {
   "cell_type": "markdown",
   "metadata": {
    "id": "0DFYkAscs4iF"
   },
   "source": [
    "### DataFrame létrehozása/olvasása egy Excel fájlból\n",
    "\n",
    "Ha az adatok Excel formátumban érhetők el, akkor a read_excel() függvényt használhatjuk."
   ]
  },
  {
   "cell_type": "code",
   "execution_count": 57,
   "metadata": {
    "id": "Rvre3htes9zW"
   },
   "outputs": [
    {
     "name": "stderr",
     "output_type": "stream",
     "text": [
      "C:\\Users\\koros\\anaconda3\\Lib\\site-packages\\openpyxl\\worksheet\\_read_only.py:85: UserWarning: Unknown extension is not supported and will be removed\n",
      "  for idx, row in parser.parse():\n"
     ]
    },
    {
     "data": {
      "text/html": [
       "<div>\n",
       "<style scoped>\n",
       "    .dataframe tbody tr th:only-of-type {\n",
       "        vertical-align: middle;\n",
       "    }\n",
       "\n",
       "    .dataframe tbody tr th {\n",
       "        vertical-align: top;\n",
       "    }\n",
       "\n",
       "    .dataframe thead th {\n",
       "        text-align: right;\n",
       "    }\n",
       "</style>\n",
       "<table border=\"1\" class=\"dataframe\">\n",
       "  <thead>\n",
       "    <tr style=\"text-align: right;\">\n",
       "      <th></th>\n",
       "      <th>sepal_len</th>\n",
       "      <th>sepal_wid</th>\n",
       "      <th>petal_len</th>\n",
       "      <th>petal_wid</th>\n",
       "      <th>class</th>\n",
       "    </tr>\n",
       "  </thead>\n",
       "  <tbody>\n",
       "    <tr>\n",
       "      <th>0</th>\n",
       "      <td>5.1</td>\n",
       "      <td>3.5</td>\n",
       "      <td>1.4</td>\n",
       "      <td>0.2</td>\n",
       "      <td>Iris-setosa</td>\n",
       "    </tr>\n",
       "    <tr>\n",
       "      <th>1</th>\n",
       "      <td>4.9</td>\n",
       "      <td>3.0</td>\n",
       "      <td>1.4</td>\n",
       "      <td>0.2</td>\n",
       "      <td>Iris-setosa</td>\n",
       "    </tr>\n",
       "    <tr>\n",
       "      <th>2</th>\n",
       "      <td>4.7</td>\n",
       "      <td>3.2</td>\n",
       "      <td>1.3</td>\n",
       "      <td>0.2</td>\n",
       "      <td>Iris-setosa</td>\n",
       "    </tr>\n",
       "    <tr>\n",
       "      <th>3</th>\n",
       "      <td>4.6</td>\n",
       "      <td>3.1</td>\n",
       "      <td>1.5</td>\n",
       "      <td>0.2</td>\n",
       "      <td>Iris-setosa</td>\n",
       "    </tr>\n",
       "    <tr>\n",
       "      <th>4</th>\n",
       "      <td>5.0</td>\n",
       "      <td>3.6</td>\n",
       "      <td>1.4</td>\n",
       "      <td>0.2</td>\n",
       "      <td>Iris-setosa</td>\n",
       "    </tr>\n",
       "  </tbody>\n",
       "</table>\n",
       "</div>"
      ],
      "text/plain": [
       "   sepal_len  sepal_wid  petal_len  petal_wid        class\n",
       "0        5.1        3.5        1.4        0.2  Iris-setosa\n",
       "1        4.9        3.0        1.4        0.2  Iris-setosa\n",
       "2        4.7        3.2        1.3        0.2  Iris-setosa\n",
       "3        4.6        3.1        1.5        0.2  Iris-setosa\n",
       "4        5.0        3.6        1.4        0.2  Iris-setosa"
      ]
     },
     "metadata": {},
     "output_type": "display_data"
    }
   ],
   "source": [
    "# Excel fájl beolvasása közvetlenül egy URL-ről.\n",
    "# A pandas read_excel() függvény hasonlóan működik, mint a read_csv(),\n",
    "# de Excel fájlok (XLS, XLSX) kezelésére használjuk.\n",
    "\n",
    "# Fontos paraméterek közül itt a 'sheet_name':\n",
    "# - Egy Excel fájlban több munkalap (sheet) is lehet.\n",
    "# - A 'sheet_name' paraméterrel megadhatjuk, melyiket olvassuk be.\n",
    "# - Értéke lehet: a munkalap neve (string), a sorszáma (0-al kezdődik), vagy lista több laphoz.\n",
    "df = pd.read_excel('https://github.com/h2oai/h2o-2/raw/refs/heads/master/smalldata/iris/iris.xlsx', sheet_name='iris2.csv')  # Excel fájl beolvasása\n",
    "display(df.head())  # Első 5 sor\n"
   ]
  },
  {
   "cell_type": "markdown",
   "metadata": {
    "id": "-jPMLN3SwMDC"
   },
   "source": [
    "Előnyök:\n",
    "\n",
    "- Ha Excelből dolgozunk, ez a legjobb módszer.\n",
    "- Több munkalapot is kezelhetünk a sheet_name paraméterrel."
   ]
  },
  {
   "cell_type": "markdown",
   "metadata": {},
   "source": [
    "### Excel fájlok beolvasása – fontos paraméterek\n",
    "\n",
    "Az Excel fájlok gyakran több munkalapot, üres sorokat vagy vegyes formátumokat tartalmaznak.  \n",
    "A `pandas.read_excel()` függvény sok beállítást kínál ezek kezelésére.  \n",
    "\n",
    "**Gyakran használt paraméterek:**\n",
    "\n",
    "- `sheet_name` → melyik munkalapot olvassuk be  \n",
    "  - lehet név (`\"Sheet1\"`), sorszám (`0`), lista több laphoz (`[0, \"Adatok\"]`), vagy `None` az összeshez  \n",
    "- `header` → melyik sor a fejléc (pl. `0`, vagy `None`, ha nincs fejléc)  \n",
    "- `names` → saját oszlopnevek megadása, ha a fájlban nincs fejléc  \n",
    "- `index_col` → melyik oszlop legyen az index (pl. `\"ID\"`)  \n",
    "- `usecols` → csak bizonyos oszlopokat töltsünk be (pl. `\"A:C\"` vagy lista: `[\"Név\", \"Kor\"]`)  \n",
    "- `skiprows` → hány sort hagyjunk ki a fájl elejéről  \n",
    "- `nrows` → csak bizonyos számú sor betöltése (pl. teszteléshez `nrows=100`)  \n",
    "- `dtype` → adattípusok előírása (pl. `{\"Kor\": int}`)  \n",
    "- `na_values` → mely értékeket tekintsük hiányzó adatnak (pl. `\"NA\"`, `\"-\"`)  \n",
    "- `engine` → az olvasó motor: `openpyxl` (xlsx), `xlrd` (régi xls), `odf` (ods fájlokhoz)  \n",
    "\n",
    "👉 Ezekkel a paraméterekkel rugalmasan kezelhetjük a valós, gyakran rendezetlen Excel fájlokat.  \n"
   ]
  },
  {
   "cell_type": "code",
   "execution_count": 67,
   "metadata": {},
   "outputs": [
    {
     "name": "stdout",
     "output_type": "stream",
     "text": [
      "   sepal_len  sepal_wid  petal_len  petal_wid        class\n",
      "0        5.1        3.5        1.4        0.2  Iris-setosa\n",
      "1        4.9        3.0        1.4        0.2  Iris-setosa\n",
      "2        4.7        3.2        1.3        0.2  Iris-setosa\n",
      "3        4.6        3.1        1.5        0.2  Iris-setosa\n",
      "4        5.0        3.6        1.4        0.2  Iris-setosa\n"
     ]
    },
    {
     "name": "stderr",
     "output_type": "stream",
     "text": [
      "C:\\Users\\koros\\anaconda3\\Lib\\site-packages\\openpyxl\\worksheet\\_read_only.py:85: UserWarning: Unknown extension is not supported and will be removed\n",
      "  for idx, row in parser.parse():\n"
     ]
    }
   ],
   "source": [
    "# Excel fájl beolvasása különböző paraméterekkel\n",
    "df = pd.read_excel(\n",
    "    \"https://github.com/h2oai/h2o-2/raw/refs/heads/master/smalldata/iris/iris.xlsx\",          # fájl elérési útja vagy URL\n",
    "    sheet_name=\"iris2.csv\",  # megadható a munkalap neve, sorszáma vagy lista több laphoz\n",
    "    header=0,             # melyik sort tekintsük fejlécnek (0 = első sor)\n",
    "    names=None,           # ha nincs fejléc, itt adhatjuk meg az oszlopneveket\n",
    "    index_col=None,       # melyik oszlop legyen az index (pl. \"ID\")\n",
    "    usecols=None,         # csak bizonyos oszlopok beolvasása, pl. \"A:C\" vagy [\"Név\",\"Kor\"]\n",
    "    skiprows=0,           # hány sort hagyjunk ki a fájl elejéről\n",
    "    nrows=None,           # csak bizonyos számú sort olvassunk be (pl. nrows=100 teszteléshez)\n",
    "    dtype=None,           # oszlopok adattípusának beállítása (pl. {\"Kor\": int})\n",
    "    na_values=[\"NA\",\"-\"], # hiányzó adatok egyedi jelölései\n",
    "    engine=\"openpyxl\"     # beolvasó motor (xlsx esetén gyakran \"openpyxl\", régi xls-nél \"xlrd\")\n",
    ")\n",
    "\n",
    "print(df.head())"
   ]
  },
  {
   "cell_type": "code",
   "execution_count": 64,
   "metadata": {},
   "outputs": [
    {
     "name": "stdout",
     "output_type": "stream",
     "text": [
      "<class 'pandas.core.frame.DataFrame'>\n",
      "RangeIndex: 150 entries, 0 to 149\n",
      "Data columns (total 5 columns):\n",
      " #   Column     Non-Null Count  Dtype  \n",
      "---  ------     --------------  -----  \n",
      " 0   sepal_len  150 non-null    float64\n",
      " 1   sepal_wid  150 non-null    float64\n",
      " 2   petal_len  150 non-null    float64\n",
      " 3   petal_wid  150 non-null    float64\n",
      " 4   class      150 non-null    object \n",
      "dtypes: float64(4), object(1)\n",
      "memory usage: 6.0+ KB\n",
      "None\n"
     ]
    }
   ],
   "source": [
    "print(df.info())"
   ]
  },
  {
   "cell_type": "markdown",
   "metadata": {
    "id": "5xyF4pMctLjh"
   },
   "source": [
    "### DataFrame létrehozása/olvasása JSON adatokból\n",
    "\n",
    "Ha az adatokat web API-ból vagy JSON fájlból kapjuk, akkor a read_json() függvényt használhatjuk."
   ]
  },
  {
   "cell_type": "code",
   "execution_count": 69,
   "metadata": {
    "id": "pqxr6_B9tMDE"
   },
   "outputs": [
    {
     "data": {
      "text/html": [
       "<div>\n",
       "<style scoped>\n",
       "    .dataframe tbody tr th:only-of-type {\n",
       "        vertical-align: middle;\n",
       "    }\n",
       "\n",
       "    .dataframe tbody tr th {\n",
       "        vertical-align: top;\n",
       "    }\n",
       "\n",
       "    .dataframe thead th {\n",
       "        text-align: right;\n",
       "    }\n",
       "</style>\n",
       "<table border=\"1\" class=\"dataframe\">\n",
       "  <thead>\n",
       "    <tr style=\"text-align: right;\">\n",
       "      <th></th>\n",
       "      <th>sepalLength</th>\n",
       "      <th>sepalWidth</th>\n",
       "      <th>petalLength</th>\n",
       "      <th>petalWidth</th>\n",
       "      <th>species</th>\n",
       "    </tr>\n",
       "  </thead>\n",
       "  <tbody>\n",
       "    <tr>\n",
       "      <th>0</th>\n",
       "      <td>5.1</td>\n",
       "      <td>3.5</td>\n",
       "      <td>1.4</td>\n",
       "      <td>0.2</td>\n",
       "      <td>setosa</td>\n",
       "    </tr>\n",
       "    <tr>\n",
       "      <th>1</th>\n",
       "      <td>4.9</td>\n",
       "      <td>3.0</td>\n",
       "      <td>1.4</td>\n",
       "      <td>0.2</td>\n",
       "      <td>setosa</td>\n",
       "    </tr>\n",
       "    <tr>\n",
       "      <th>2</th>\n",
       "      <td>4.7</td>\n",
       "      <td>3.2</td>\n",
       "      <td>1.3</td>\n",
       "      <td>0.2</td>\n",
       "      <td>setosa</td>\n",
       "    </tr>\n",
       "    <tr>\n",
       "      <th>3</th>\n",
       "      <td>4.6</td>\n",
       "      <td>3.1</td>\n",
       "      <td>1.5</td>\n",
       "      <td>0.2</td>\n",
       "      <td>setosa</td>\n",
       "    </tr>\n",
       "    <tr>\n",
       "      <th>4</th>\n",
       "      <td>5.0</td>\n",
       "      <td>3.6</td>\n",
       "      <td>1.4</td>\n",
       "      <td>0.2</td>\n",
       "      <td>setosa</td>\n",
       "    </tr>\n",
       "  </tbody>\n",
       "</table>\n",
       "</div>"
      ],
      "text/plain": [
       "   sepalLength  sepalWidth  petalLength  petalWidth species\n",
       "0          5.1         3.5          1.4         0.2  setosa\n",
       "1          4.9         3.0          1.4         0.2  setosa\n",
       "2          4.7         3.2          1.3         0.2  setosa\n",
       "3          4.6         3.1          1.5         0.2  setosa\n",
       "4          5.0         3.6          1.4         0.2  setosa"
      ]
     },
     "metadata": {},
     "output_type": "display_data"
    }
   ],
   "source": [
    "# JSON fájl beolvasása közvetlenül egy URL-ről.\n",
    "# A JSON (JavaScript Object Notation) egy gyakran használt formátum\n",
    "# strukturált adatok tárolására és cseréjére (pl. webes API-kban).\n",
    "# A pandas read_json() függvény képes a JSON-t közvetlenül DataFrame-be alakítani.\n",
    "df = pd.read_json('https://github.com/domoritz/maps/raw/refs/heads/master/data/iris.json')  # JSON fájl beolvasása\n",
    "display(df.head())"
   ]
  },
  {
   "cell_type": "markdown",
   "metadata": {
    "id": "CFLZGxI6wt0D"
   },
   "source": [
    "Előnyök:\n",
    "\n",
    "- Kiváló API-adatok beolvasására.\n",
    "- Gyors és könnyen olvasható."
   ]
  },
  {
   "cell_type": "markdown",
   "metadata": {},
   "source": [
    "### JSON fájlok beolvasása\n",
    "\n",
    "A `pandas.read_json()` segítségével közvetlenül betölthetünk JSON formátumú adatokat.  \n",
    "A JSON (JavaScript Object Notation) elterjedt adattípus webes API-k és adatcserék esetében.  \n",
    "\n",
    "**Gyakran használt paraméterek:**\n",
    "\n",
    "- `orient` → megadja az adatszerkezet típusát  \n",
    "  - `\"records\"`: listák listája (pl. `[{\"a\":1,\"b\":2}, {\"a\":3,\"b\":4}]`)  \n",
    "  - `\"columns\"`: oszlop-alapú tárolás  \n",
    "  - `\"index\"`: indexelt tárolás  \n",
    "- `typ` → visszatérési típus: `\"frame\"` (DataFrame) vagy `\"series\"` (egyoszlopos adatokhoz)  \n",
    "- `convert_dates` → automatikusan dátum-típusra konvertálja az időbélyegeket  \n",
    "- `lines` → ha minden sor egy külön JSON objektum (pl. log fájloknál), akkor `lines=True`  \n",
    "- `encoding` → karakterkódolás megadása (pl. `\"utf-8\"`, `\"latin1\"`)  \n",
    "\n",
    "👉 A `read_json` különösen hasznos, ha **webes API-kból** jön az adat, mivel az API-k többsége JSON-t ad vissza.  \n"
   ]
  },
  {
   "cell_type": "code",
   "execution_count": 75,
   "metadata": {},
   "outputs": [
    {
     "name": "stdout",
     "output_type": "stream",
     "text": [
      "   sepalLength  sepalWidth  petalLength  petalWidth species\n",
      "0          5.1         3.5          1.4         0.2  setosa\n",
      "1          4.9         3.0          1.4         0.2  setosa\n",
      "2          4.7         3.2          1.3         0.2  setosa\n",
      "3          4.6         3.1          1.5         0.2  setosa\n",
      "4          5.0         3.6          1.4         0.2  setosa\n"
     ]
    }
   ],
   "source": [
    "\n",
    "# JSON fájl beolvasása különböző paraméterekkel\n",
    "df = pd.read_json(\n",
    "    'https://github.com/domoritz/maps/raw/refs/heads/master/data/iris.json',            # fájl elérési útja vagy URL\n",
    "    orient=None,            # adatok szervezése: 'records', 'columns', 'index' stb.\n",
    "    typ=\"frame\",            # az eredmény típusa: 'frame' = DataFrame, 'series' = pandas Series\n",
    "    convert_dates=True,     # dátumként értelmezi a megfelelő mezőket\n",
    "    keep_default_dates=True,# beépített dátumfelismerés engedélyezése\n",
    "    precise_float=False,    # nagy pontosságú float értékek megőrzése\n",
    "    lines=False,            # ha a JSON több sorban van (1 sor = 1 rekord), akkor lines=True\n",
    "    encoding=\"utf-8\"        # a fájl kódolása\n",
    ")\n",
    "\n",
    "print(df.head())\n",
    "\n"
   ]
  },
  {
   "cell_type": "markdown",
   "metadata": {
    "id": "93m_CEmrw-P6"
   },
   "source": [
    "### DataFrame létrehozása adatbázisból (SQL, Mongo, stb)\n",
    "\n",
    "Ha az adatokat SQL adatbázisból szeretnénk beolvasni, használhatjuk a pandas.read_sql() függvényt.\n",
    "\n"
   ]
  },
  {
   "cell_type": "markdown",
   "metadata": {},
   "source": [
    "```\n",
    "import sqlite3\n",
    "\n",
    "# Kapcsolódás az adatbázishoz\n",
    "conn = sqlite3.connect('adatbazis.db')\n",
    "\n",
    "# SQL lekérdezés futtatása és beolvasás DataFrame-be\n",
    "df = pd.read_sql(\"SELECT * FROM felhasznalok\", conn)\n",
    "\n",
    "print(df.head())\n",
    "```"
   ]
  },
  {
   "cell_type": "markdown",
   "metadata": {},
   "source": [
    "Előnyök:\n",
    "\n",
    "- Ha az adatokat adatbázisban tároljuk, ez a legjobb módszer.\n",
    "- Egyszerűen csatlakozhatunk MySQL, PostgreSQL vagy SQLite adatbázisokhoz."
   ]
  },
  {
   "cell_type": "markdown",
   "metadata": {
    "id": "QcY016qLxRQg"
   },
   "source": [
    "### Összegzés\n"
   ]
  },
  {
   "cell_type": "markdown",
   "metadata": {
    "id": "H-UMNfBWxyWb"
   },
   "source": [
    "Szótárból (dict)"
   ]
  },
  {
   "cell_type": "code",
   "execution_count": 84,
   "metadata": {
    "id": "qNkJgjr-xuz6"
   },
   "outputs": [
    {
     "data": {
      "text/html": [
       "<div>\n",
       "<style scoped>\n",
       "    .dataframe tbody tr th:only-of-type {\n",
       "        vertical-align: middle;\n",
       "    }\n",
       "\n",
       "    .dataframe tbody tr th {\n",
       "        vertical-align: top;\n",
       "    }\n",
       "\n",
       "    .dataframe thead th {\n",
       "        text-align: right;\n",
       "    }\n",
       "</style>\n",
       "<table border=\"1\" class=\"dataframe\">\n",
       "  <thead>\n",
       "    <tr style=\"text-align: right;\">\n",
       "      <th></th>\n",
       "      <th>Módszer</th>\n",
       "      <th>Használat</th>\n",
       "      <th>Előnyök</th>\n",
       "    </tr>\n",
       "  </thead>\n",
       "  <tbody>\n",
       "    <tr>\n",
       "      <th>0</th>\n",
       "      <td>Szótár (dict)</td>\n",
       "      <td>Kis méretű adatokhoz</td>\n",
       "      <td>Gyors és könnyen olvasható</td>\n",
       "    </tr>\n",
       "    <tr>\n",
       "      <th>1</th>\n",
       "      <td>Lista (list of lists)</td>\n",
       "      <td>Táblázatos adatok</td>\n",
       "      <td>Könnyen átalakítható</td>\n",
       "    </tr>\n",
       "    <tr>\n",
       "      <th>2</th>\n",
       "      <td>Listák zip() függvénnyel</td>\n",
       "      <td>Egyszerű listákhoz</td>\n",
       "      <td>Könnyen kombinálható más adattípusokkal</td>\n",
       "    </tr>\n",
       "    <tr>\n",
       "      <th>3</th>\n",
       "      <td>NumPy tömb (array)</td>\n",
       "      <td>Matematikai műveletek</td>\n",
       "      <td>Gyors feldolgozás nagy adathalmazoknál</td>\n",
       "    </tr>\n",
       "    <tr>\n",
       "      <th>4</th>\n",
       "      <td>CSV fájl</td>\n",
       "      <td>Valós adathalmazok</td>\n",
       "      <td>Könnyű integráció más adatforrásokkal</td>\n",
       "    </tr>\n",
       "    <tr>\n",
       "      <th>5</th>\n",
       "      <td>Excel fájl</td>\n",
       "      <td>Táblázatos adatok</td>\n",
       "      <td>Több munkalapot is kezel</td>\n",
       "    </tr>\n",
       "    <tr>\n",
       "      <th>6</th>\n",
       "      <td>JSON fájl</td>\n",
       "      <td>API-adatok beolvasása</td>\n",
       "      <td>Könnyű adatcsere</td>\n",
       "    </tr>\n",
       "    <tr>\n",
       "      <th>7</th>\n",
       "      <td>SQL adatbázis</td>\n",
       "      <td>Nagy adathalmazok</td>\n",
       "      <td>Hatékony lekérdezések</td>\n",
       "    </tr>\n",
       "  </tbody>\n",
       "</table>\n",
       "</div>"
      ],
      "text/plain": [
       "                    Módszer              Használat  \\\n",
       "0             Szótár (dict)   Kis méretű adatokhoz   \n",
       "1     Lista (list of lists)      Táblázatos adatok   \n",
       "2  Listák zip() függvénnyel     Egyszerű listákhoz   \n",
       "3        NumPy tömb (array)  Matematikai műveletek   \n",
       "4                  CSV fájl     Valós adathalmazok   \n",
       "5                Excel fájl      Táblázatos adatok   \n",
       "6                 JSON fájl  API-adatok beolvasása   \n",
       "7             SQL adatbázis      Nagy adathalmazok   \n",
       "\n",
       "                                   Előnyök  \n",
       "0               Gyors és könnyen olvasható  \n",
       "1                     Könnyen átalakítható  \n",
       "2  Könnyen kombinálható más adattípusokkal  \n",
       "3   Gyors feldolgozás nagy adathalmazoknál  \n",
       "4    Könnyű integráció más adatforrásokkal  \n",
       "5                 Több munkalapot is kezel  \n",
       "6                         Könnyű adatcsere  \n",
       "7                    Hatékony lekérdezések  "
      ]
     },
     "metadata": {},
     "output_type": "display_data"
    }
   ],
   "source": [
    "import pandas as pd\n",
    "\n",
    "# Adatok szótárként\n",
    "data_dict = {\n",
    "    \"Módszer\": [\"Szótár (dict)\", \"Lista (list of lists)\", \"Listák zip() függvénnyel\",\n",
    "                \"NumPy tömb (array)\", \"CSV fájl\", \"Excel fájl\", \"JSON fájl\", \"SQL adatbázis\"],\n",
    "    \"Használat\": [\"Kis méretű adatokhoz\", \"Táblázatos adatok\", \"Egyszerű listákhoz\",\n",
    "                  \"Matematikai műveletek\", \"Valós adathalmazok\", \"Táblázatos adatok\",\n",
    "                  \"API-adatok beolvasása\", \"Nagy adathalmazok\"],\n",
    "    \"Előnyök\": [\"Gyors és könnyen olvasható\", \"Könnyen átalakítható\", \"Könnyen kombinálható más adattípusokkal\",\n",
    "                \"Gyors feldolgozás nagy adathalmazoknál\", \"Könnyű integráció más adatforrásokkal\",\n",
    "                \"Több munkalapot is kezel\", \"Könnyű adatcsere\", \"Hatékony lekérdezések\"]\n",
    "}\n",
    "\n",
    "# DataFrame létrehozása\n",
    "df_dict = pd.DataFrame(data_dict)\n",
    "display(df_dict)\n"
   ]
  },
  {
   "cell_type": "markdown",
   "metadata": {
    "id": "NLUFx-L6x4yz"
   },
   "source": [
    "Lista listákból"
   ]
  },
  {
   "cell_type": "code",
   "execution_count": 87,
   "metadata": {
    "id": "YFpVwbLTx33O"
   },
   "outputs": [
    {
     "data": {
      "text/html": [
       "<div>\n",
       "<style scoped>\n",
       "    .dataframe tbody tr th:only-of-type {\n",
       "        vertical-align: middle;\n",
       "    }\n",
       "\n",
       "    .dataframe tbody tr th {\n",
       "        vertical-align: top;\n",
       "    }\n",
       "\n",
       "    .dataframe thead th {\n",
       "        text-align: right;\n",
       "    }\n",
       "</style>\n",
       "<table border=\"1\" class=\"dataframe\">\n",
       "  <thead>\n",
       "    <tr style=\"text-align: right;\">\n",
       "      <th></th>\n",
       "      <th>Módszer</th>\n",
       "      <th>Használat</th>\n",
       "      <th>Előnyök</th>\n",
       "    </tr>\n",
       "  </thead>\n",
       "  <tbody>\n",
       "    <tr>\n",
       "      <th>0</th>\n",
       "      <td>Szótár (dict)</td>\n",
       "      <td>Kis méretű adatokhoz</td>\n",
       "      <td>Gyors és könnyen olvasható</td>\n",
       "    </tr>\n",
       "    <tr>\n",
       "      <th>1</th>\n",
       "      <td>Lista (list of lists)</td>\n",
       "      <td>Táblázatos adatok</td>\n",
       "      <td>Könnyen átalakítható</td>\n",
       "    </tr>\n",
       "    <tr>\n",
       "      <th>2</th>\n",
       "      <td>Listák zip() függvénnyel</td>\n",
       "      <td>Egyszerű listákhoz</td>\n",
       "      <td>Könnyen kombinálható más adattípusokkal</td>\n",
       "    </tr>\n",
       "    <tr>\n",
       "      <th>3</th>\n",
       "      <td>NumPy tömb (array)</td>\n",
       "      <td>Matematikai műveletek</td>\n",
       "      <td>Gyors feldolgozás nagy adathalmazoknál</td>\n",
       "    </tr>\n",
       "    <tr>\n",
       "      <th>4</th>\n",
       "      <td>CSV fájl</td>\n",
       "      <td>Valós adathalmazok</td>\n",
       "      <td>Könnyű integráció más adatforrásokkal</td>\n",
       "    </tr>\n",
       "    <tr>\n",
       "      <th>5</th>\n",
       "      <td>Excel fájl</td>\n",
       "      <td>Táblázatos adatok</td>\n",
       "      <td>Több munkalapot is kezel</td>\n",
       "    </tr>\n",
       "    <tr>\n",
       "      <th>6</th>\n",
       "      <td>JSON fájl</td>\n",
       "      <td>API-adatok beolvasása</td>\n",
       "      <td>Könnyű adatcsere</td>\n",
       "    </tr>\n",
       "    <tr>\n",
       "      <th>7</th>\n",
       "      <td>SQL adatbázis</td>\n",
       "      <td>Nagy adathalmazok</td>\n",
       "      <td>Hatékony lekérdezések</td>\n",
       "    </tr>\n",
       "  </tbody>\n",
       "</table>\n",
       "</div>"
      ],
      "text/plain": [
       "                    Módszer              Használat  \\\n",
       "0             Szótár (dict)   Kis méretű adatokhoz   \n",
       "1     Lista (list of lists)      Táblázatos adatok   \n",
       "2  Listák zip() függvénnyel     Egyszerű listákhoz   \n",
       "3        NumPy tömb (array)  Matematikai műveletek   \n",
       "4                  CSV fájl     Valós adathalmazok   \n",
       "5                Excel fájl      Táblázatos adatok   \n",
       "6                 JSON fájl  API-adatok beolvasása   \n",
       "7             SQL adatbázis      Nagy adathalmazok   \n",
       "\n",
       "                                   Előnyök  \n",
       "0               Gyors és könnyen olvasható  \n",
       "1                     Könnyen átalakítható  \n",
       "2  Könnyen kombinálható más adattípusokkal  \n",
       "3   Gyors feldolgozás nagy adathalmazoknál  \n",
       "4    Könnyű integráció más adatforrásokkal  \n",
       "5                 Több munkalapot is kezel  \n",
       "6                         Könnyű adatcsere  \n",
       "7                    Hatékony lekérdezések  "
      ]
     },
     "metadata": {},
     "output_type": "display_data"
    }
   ],
   "source": [
    "# Lista lista formátumban\n",
    "data_list = [\n",
    "    [\"Szótár (dict)\", \"Kis méretű adatokhoz\", \"Gyors és könnyen olvasható\"],\n",
    "    [\"Lista (list of lists)\", \"Táblázatos adatok\", \"Könnyen átalakítható\"],\n",
    "    [\"Listák zip() függvénnyel\", \"Egyszerű listákhoz\", \"Könnyen kombinálható más adattípusokkal\"],\n",
    "    [\"NumPy tömb (array)\", \"Matematikai műveletek\", \"Gyors feldolgozás nagy adathalmazoknál\"],\n",
    "    [\"CSV fájl\", \"Valós adathalmazok\", \"Könnyű integráció más adatforrásokkal\"],\n",
    "    [\"Excel fájl\", \"Táblázatos adatok\", \"Több munkalapot is kezel\"],\n",
    "    [\"JSON fájl\", \"API-adatok beolvasása\", \"Könnyű adatcsere\"],\n",
    "    [\"SQL adatbázis\", \"Nagy adathalmazok\", \"Hatékony lekérdezések\"]\n",
    "]\n",
    "\n",
    "# DataFrame létrehozása\n",
    "df_list = pd.DataFrame(data_list, columns=[\"Módszer\", \"Használat\", \"Előnyök\"])\n",
    "display(df_list)\n"
   ]
  },
  {
   "cell_type": "markdown",
   "metadata": {
    "id": "LkNgvzmlx9GT"
   },
   "source": [
    "Listák zip() függvénnyel"
   ]
  },
  {
   "cell_type": "code",
   "execution_count": 90,
   "metadata": {
    "id": "o9vAV8pex_DR"
   },
   "outputs": [
    {
     "data": {
      "text/html": [
       "<div>\n",
       "<style scoped>\n",
       "    .dataframe tbody tr th:only-of-type {\n",
       "        vertical-align: middle;\n",
       "    }\n",
       "\n",
       "    .dataframe tbody tr th {\n",
       "        vertical-align: top;\n",
       "    }\n",
       "\n",
       "    .dataframe thead th {\n",
       "        text-align: right;\n",
       "    }\n",
       "</style>\n",
       "<table border=\"1\" class=\"dataframe\">\n",
       "  <thead>\n",
       "    <tr style=\"text-align: right;\">\n",
       "      <th></th>\n",
       "      <th>Módszer</th>\n",
       "      <th>Használat</th>\n",
       "      <th>Előnyök</th>\n",
       "    </tr>\n",
       "  </thead>\n",
       "  <tbody>\n",
       "    <tr>\n",
       "      <th>0</th>\n",
       "      <td>Szótár (dict)</td>\n",
       "      <td>Kis méretű adatokhoz</td>\n",
       "      <td>Gyors és könnyen olvasható</td>\n",
       "    </tr>\n",
       "    <tr>\n",
       "      <th>1</th>\n",
       "      <td>Lista (list of lists)</td>\n",
       "      <td>Táblázatos adatok</td>\n",
       "      <td>Könnyen átalakítható</td>\n",
       "    </tr>\n",
       "    <tr>\n",
       "      <th>2</th>\n",
       "      <td>Listák zip() függvénnyel</td>\n",
       "      <td>Egyszerű listákhoz</td>\n",
       "      <td>Könnyen kombinálható más adattípusokkal</td>\n",
       "    </tr>\n",
       "    <tr>\n",
       "      <th>3</th>\n",
       "      <td>NumPy tömb (array)</td>\n",
       "      <td>Matematikai műveletek</td>\n",
       "      <td>Gyors feldolgozás nagy adathalmazoknál</td>\n",
       "    </tr>\n",
       "    <tr>\n",
       "      <th>4</th>\n",
       "      <td>CSV fájl</td>\n",
       "      <td>Valós adathalmazok</td>\n",
       "      <td>Könnyű integráció más adatforrásokkal</td>\n",
       "    </tr>\n",
       "    <tr>\n",
       "      <th>5</th>\n",
       "      <td>Excel fájl</td>\n",
       "      <td>Táblázatos adatok</td>\n",
       "      <td>Több munkalapot is kezel</td>\n",
       "    </tr>\n",
       "    <tr>\n",
       "      <th>6</th>\n",
       "      <td>JSON fájl</td>\n",
       "      <td>API-adatok beolvasása</td>\n",
       "      <td>Könnyű adatcsere</td>\n",
       "    </tr>\n",
       "    <tr>\n",
       "      <th>7</th>\n",
       "      <td>SQL adatbázis</td>\n",
       "      <td>Nagy adathalmazok</td>\n",
       "      <td>Hatékony lekérdezések</td>\n",
       "    </tr>\n",
       "  </tbody>\n",
       "</table>\n",
       "</div>"
      ],
      "text/plain": [
       "                    Módszer              Használat  \\\n",
       "0             Szótár (dict)   Kis méretű adatokhoz   \n",
       "1     Lista (list of lists)      Táblázatos adatok   \n",
       "2  Listák zip() függvénnyel     Egyszerű listákhoz   \n",
       "3        NumPy tömb (array)  Matematikai műveletek   \n",
       "4                  CSV fájl     Valós adathalmazok   \n",
       "5                Excel fájl      Táblázatos adatok   \n",
       "6                 JSON fájl  API-adatok beolvasása   \n",
       "7             SQL adatbázis      Nagy adathalmazok   \n",
       "\n",
       "                                   Előnyök  \n",
       "0               Gyors és könnyen olvasható  \n",
       "1                     Könnyen átalakítható  \n",
       "2  Könnyen kombinálható más adattípusokkal  \n",
       "3   Gyors feldolgozás nagy adathalmazoknál  \n",
       "4    Könnyű integráció más adatforrásokkal  \n",
       "5                 Több munkalapot is kezel  \n",
       "6                         Könnyű adatcsere  \n",
       "7                    Hatékony lekérdezések  "
      ]
     },
     "metadata": {},
     "output_type": "display_data"
    }
   ],
   "source": [
    "# Adatok külön listákban\n",
    "methods = [\"Szótár (dict)\", \"Lista (list of lists)\", \"Listák zip() függvénnyel\",\n",
    "           \"NumPy tömb (array)\", \"CSV fájl\", \"Excel fájl\", \"JSON fájl\", \"SQL adatbázis\"]\n",
    "\n",
    "usage = [\"Kis méretű adatokhoz\", \"Táblázatos adatok\", \"Egyszerű listákhoz\",\n",
    "         \"Matematikai műveletek\", \"Valós adathalmazok\", \"Táblázatos adatok\",\n",
    "         \"API-adatok beolvasása\", \"Nagy adathalmazok\"]\n",
    "\n",
    "advantages = [\"Gyors és könnyen olvasható\", \"Könnyen átalakítható\", \"Könnyen kombinálható más adattípusokkal\",\n",
    "              \"Gyors feldolgozás nagy adathalmazoknál\", \"Könnyű integráció más adatforrásokkal\",\n",
    "              \"Több munkalapot is kezel\", \"Könnyű adatcsere\", \"Hatékony lekérdezések\"]\n",
    "\n",
    "# DataFrame létrehozása\n",
    "df_zip = pd.DataFrame(zip(methods, usage, advantages), columns=[\"Módszer\", \"Használat\", \"Előnyök\"])\n",
    "display(df_zip)\n"
   ]
  },
  {
   "cell_type": "markdown",
   "metadata": {
    "id": "HfJ6IOTUyDZS"
   },
   "source": [
    " NumPy tömbből"
   ]
  },
  {
   "cell_type": "code",
   "execution_count": 93,
   "metadata": {
    "id": "wT_6lcQDyH-G"
   },
   "outputs": [
    {
     "data": {
      "text/html": [
       "<div>\n",
       "<style scoped>\n",
       "    .dataframe tbody tr th:only-of-type {\n",
       "        vertical-align: middle;\n",
       "    }\n",
       "\n",
       "    .dataframe tbody tr th {\n",
       "        vertical-align: top;\n",
       "    }\n",
       "\n",
       "    .dataframe thead th {\n",
       "        text-align: right;\n",
       "    }\n",
       "</style>\n",
       "<table border=\"1\" class=\"dataframe\">\n",
       "  <thead>\n",
       "    <tr style=\"text-align: right;\">\n",
       "      <th></th>\n",
       "      <th>Módszer</th>\n",
       "      <th>Használat</th>\n",
       "      <th>Előnyök</th>\n",
       "    </tr>\n",
       "  </thead>\n",
       "  <tbody>\n",
       "    <tr>\n",
       "      <th>0</th>\n",
       "      <td>Szótár (dict)</td>\n",
       "      <td>Kis méretű adatokhoz</td>\n",
       "      <td>Gyors és könnyen olvasható</td>\n",
       "    </tr>\n",
       "    <tr>\n",
       "      <th>1</th>\n",
       "      <td>Lista (list of lists)</td>\n",
       "      <td>Táblázatos adatok</td>\n",
       "      <td>Könnyen átalakítható</td>\n",
       "    </tr>\n",
       "    <tr>\n",
       "      <th>2</th>\n",
       "      <td>Listák zip() függvénnyel</td>\n",
       "      <td>Egyszerű listákhoz</td>\n",
       "      <td>Könnyen kombinálható más adattípusokkal</td>\n",
       "    </tr>\n",
       "    <tr>\n",
       "      <th>3</th>\n",
       "      <td>NumPy tömb (array)</td>\n",
       "      <td>Matematikai műveletek</td>\n",
       "      <td>Gyors feldolgozás nagy adathalmazoknál</td>\n",
       "    </tr>\n",
       "    <tr>\n",
       "      <th>4</th>\n",
       "      <td>CSV fájl</td>\n",
       "      <td>Valós adathalmazok</td>\n",
       "      <td>Könnyű integráció más adatforrásokkal</td>\n",
       "    </tr>\n",
       "    <tr>\n",
       "      <th>5</th>\n",
       "      <td>Excel fájl</td>\n",
       "      <td>Táblázatos adatok</td>\n",
       "      <td>Több munkalapot is kezel</td>\n",
       "    </tr>\n",
       "    <tr>\n",
       "      <th>6</th>\n",
       "      <td>JSON fájl</td>\n",
       "      <td>API-adatok beolvasása</td>\n",
       "      <td>Könnyű adatcsere</td>\n",
       "    </tr>\n",
       "    <tr>\n",
       "      <th>7</th>\n",
       "      <td>SQL adatbázis</td>\n",
       "      <td>Nagy adathalmazok</td>\n",
       "      <td>Hatékony lekérdezések</td>\n",
       "    </tr>\n",
       "  </tbody>\n",
       "</table>\n",
       "</div>"
      ],
      "text/plain": [
       "                    Módszer              Használat  \\\n",
       "0             Szótár (dict)   Kis méretű adatokhoz   \n",
       "1     Lista (list of lists)      Táblázatos adatok   \n",
       "2  Listák zip() függvénnyel     Egyszerű listákhoz   \n",
       "3        NumPy tömb (array)  Matematikai műveletek   \n",
       "4                  CSV fájl     Valós adathalmazok   \n",
       "5                Excel fájl      Táblázatos adatok   \n",
       "6                 JSON fájl  API-adatok beolvasása   \n",
       "7             SQL adatbázis      Nagy adathalmazok   \n",
       "\n",
       "                                   Előnyök  \n",
       "0               Gyors és könnyen olvasható  \n",
       "1                     Könnyen átalakítható  \n",
       "2  Könnyen kombinálható más adattípusokkal  \n",
       "3   Gyors feldolgozás nagy adathalmazoknál  \n",
       "4    Könnyű integráció más adatforrásokkal  \n",
       "5                 Több munkalapot is kezel  \n",
       "6                         Könnyű adatcsere  \n",
       "7                    Hatékony lekérdezések  "
      ]
     },
     "metadata": {},
     "output_type": "display_data"
    }
   ],
   "source": [
    "import numpy as np\n",
    "\n",
    "# NumPy tömb létrehozása\n",
    "data_numpy = np.array(data_list)\n",
    "\n",
    "# DataFrame létrehozása NumPy tömbből\n",
    "df_numpy = pd.DataFrame(data_numpy, columns=[\"Módszer\", \"Használat\", \"Előnyök\"])\n",
    "display(df_numpy)\n"
   ]
  },
  {
   "cell_type": "markdown",
   "metadata": {
    "id": "h-q-5QExyOkr"
   },
   "source": [
    "JSON formátumból"
   ]
  },
  {
   "cell_type": "code",
   "execution_count": 96,
   "metadata": {
    "id": "76vrQ-S4yPuB"
   },
   "outputs": [
    {
     "name": "stderr",
     "output_type": "stream",
     "text": [
      "C:\\Users\\koros\\AppData\\Local\\Temp\\ipykernel_3632\\4095617375.py:5: FutureWarning: Passing literal json to 'read_json' is deprecated and will be removed in a future version. To read from a literal string, wrap it in a 'StringIO' object.\n",
      "  df_json = pd.read_json(json_data)\n"
     ]
    },
    {
     "data": {
      "text/html": [
       "<div>\n",
       "<style scoped>\n",
       "    .dataframe tbody tr th:only-of-type {\n",
       "        vertical-align: middle;\n",
       "    }\n",
       "\n",
       "    .dataframe tbody tr th {\n",
       "        vertical-align: top;\n",
       "    }\n",
       "\n",
       "    .dataframe thead th {\n",
       "        text-align: right;\n",
       "    }\n",
       "</style>\n",
       "<table border=\"1\" class=\"dataframe\">\n",
       "  <thead>\n",
       "    <tr style=\"text-align: right;\">\n",
       "      <th></th>\n",
       "      <th>Módszer</th>\n",
       "      <th>Használat</th>\n",
       "      <th>Előnyök</th>\n",
       "    </tr>\n",
       "  </thead>\n",
       "  <tbody>\n",
       "    <tr>\n",
       "      <th>0</th>\n",
       "      <td>Szótár (dict)</td>\n",
       "      <td>Kis méretű adatokhoz</td>\n",
       "      <td>Gyors és könnyen olvasható</td>\n",
       "    </tr>\n",
       "    <tr>\n",
       "      <th>1</th>\n",
       "      <td>Lista (list of lists)</td>\n",
       "      <td>Táblázatos adatok</td>\n",
       "      <td>Könnyen átalakítható</td>\n",
       "    </tr>\n",
       "    <tr>\n",
       "      <th>2</th>\n",
       "      <td>Listák zip() függvénnyel</td>\n",
       "      <td>Egyszerű listákhoz</td>\n",
       "      <td>Könnyen kombinálható más adattípusokkal</td>\n",
       "    </tr>\n",
       "    <tr>\n",
       "      <th>3</th>\n",
       "      <td>NumPy tömb (array)</td>\n",
       "      <td>Matematikai műveletek</td>\n",
       "      <td>Gyors feldolgozás nagy adathalmazoknál</td>\n",
       "    </tr>\n",
       "    <tr>\n",
       "      <th>4</th>\n",
       "      <td>CSV fájl</td>\n",
       "      <td>Valós adathalmazok</td>\n",
       "      <td>Könnyű integráció más adatforrásokkal</td>\n",
       "    </tr>\n",
       "    <tr>\n",
       "      <th>5</th>\n",
       "      <td>Excel fájl</td>\n",
       "      <td>Táblázatos adatok</td>\n",
       "      <td>Több munkalapot is kezel</td>\n",
       "    </tr>\n",
       "    <tr>\n",
       "      <th>6</th>\n",
       "      <td>JSON fájl</td>\n",
       "      <td>API-adatok beolvasása</td>\n",
       "      <td>Könnyű adatcsere</td>\n",
       "    </tr>\n",
       "    <tr>\n",
       "      <th>7</th>\n",
       "      <td>SQL adatbázis</td>\n",
       "      <td>Nagy adathalmazok</td>\n",
       "      <td>Hatékony lekérdezések</td>\n",
       "    </tr>\n",
       "  </tbody>\n",
       "</table>\n",
       "</div>"
      ],
      "text/plain": [
       "                    Módszer              Használat  \\\n",
       "0             Szótár (dict)   Kis méretű adatokhoz   \n",
       "1     Lista (list of lists)      Táblázatos adatok   \n",
       "2  Listák zip() függvénnyel     Egyszerű listákhoz   \n",
       "3        NumPy tömb (array)  Matematikai műveletek   \n",
       "4                  CSV fájl     Valós adathalmazok   \n",
       "5                Excel fájl      Táblázatos adatok   \n",
       "6                 JSON fájl  API-adatok beolvasása   \n",
       "7             SQL adatbázis      Nagy adathalmazok   \n",
       "\n",
       "                                   Előnyök  \n",
       "0               Gyors és könnyen olvasható  \n",
       "1                     Könnyen átalakítható  \n",
       "2  Könnyen kombinálható más adattípusokkal  \n",
       "3   Gyors feldolgozás nagy adathalmazoknál  \n",
       "4    Könnyű integráció más adatforrásokkal  \n",
       "5                 Több munkalapot is kezel  \n",
       "6                         Könnyű adatcsere  \n",
       "7                    Hatékony lekérdezések  "
      ]
     },
     "metadata": {},
     "output_type": "display_data"
    }
   ],
   "source": [
    "import json\n",
    "\n",
    "# JSON adat\n",
    "json_data = json.dumps(data_dict)  # Python szótár JSON formátumba konvertálása\n",
    "df_json = pd.read_json(json_data)\n",
    "\n",
    "display(df_json)\n"
   ]
  },
  {
   "cell_type": "markdown",
   "metadata": {
    "id": "v1t1nFivy_T-"
   },
   "source": [
    "### Az IRIS adathalmaz\n",
    "\n",
    "Az Iris dataset egy klasszikus adathalmaz a gépi tanulás és adatelemzés világában. Ez az adathalmaz 150 virágmintát tartalmaz, amelyek három különböző iris fajhoz tartoznak (setosa, versicolor, virginica).\n",
    "\n",
    "Minden egyes virágminta négy jellemzővel rendelkezik:\n",
    "\n",
    "- sepal.length (csészelevél hossza, cm)\n",
    "- sepal.width (csészelevél szélessége, cm)\n",
    "- petal.length (szirom hossza, cm)\n",
    "- petal.width (szirom szélessége, cm)\n",
    "- variety (az iris faj neve)"
   ]
  },
  {
   "cell_type": "markdown",
   "metadata": {
    "id": "UuE-a5ztpsfD"
   },
   "source": [
    "Adatok betöltése"
   ]
  },
  {
   "cell_type": "code",
   "execution_count": 100,
   "metadata": {
    "id": "YcOgaz3Xpo7f"
   },
   "outputs": [
    {
     "data": {
      "text/html": [
       "<div>\n",
       "<style scoped>\n",
       "    .dataframe tbody tr th:only-of-type {\n",
       "        vertical-align: middle;\n",
       "    }\n",
       "\n",
       "    .dataframe tbody tr th {\n",
       "        vertical-align: top;\n",
       "    }\n",
       "\n",
       "    .dataframe thead th {\n",
       "        text-align: right;\n",
       "    }\n",
       "</style>\n",
       "<table border=\"1\" class=\"dataframe\">\n",
       "  <thead>\n",
       "    <tr style=\"text-align: right;\">\n",
       "      <th></th>\n",
       "      <th>sepal.length</th>\n",
       "      <th>sepal.width</th>\n",
       "      <th>petal.length</th>\n",
       "      <th>petal.width</th>\n",
       "      <th>variety</th>\n",
       "    </tr>\n",
       "  </thead>\n",
       "  <tbody>\n",
       "    <tr>\n",
       "      <th>0</th>\n",
       "      <td>5.1</td>\n",
       "      <td>3.5</td>\n",
       "      <td>1.4</td>\n",
       "      <td>0.2</td>\n",
       "      <td>Setosa</td>\n",
       "    </tr>\n",
       "    <tr>\n",
       "      <th>1</th>\n",
       "      <td>4.9</td>\n",
       "      <td>3.0</td>\n",
       "      <td>1.4</td>\n",
       "      <td>0.2</td>\n",
       "      <td>Setosa</td>\n",
       "    </tr>\n",
       "    <tr>\n",
       "      <th>2</th>\n",
       "      <td>4.7</td>\n",
       "      <td>3.2</td>\n",
       "      <td>1.3</td>\n",
       "      <td>0.2</td>\n",
       "      <td>Setosa</td>\n",
       "    </tr>\n",
       "    <tr>\n",
       "      <th>3</th>\n",
       "      <td>4.6</td>\n",
       "      <td>3.1</td>\n",
       "      <td>1.5</td>\n",
       "      <td>0.2</td>\n",
       "      <td>Setosa</td>\n",
       "    </tr>\n",
       "    <tr>\n",
       "      <th>4</th>\n",
       "      <td>5.0</td>\n",
       "      <td>3.6</td>\n",
       "      <td>1.4</td>\n",
       "      <td>0.2</td>\n",
       "      <td>Setosa</td>\n",
       "    </tr>\n",
       "  </tbody>\n",
       "</table>\n",
       "</div>"
      ],
      "text/plain": [
       "   sepal.length  sepal.width  petal.length  petal.width variety\n",
       "0           5.1          3.5           1.4          0.2  Setosa\n",
       "1           4.9          3.0           1.4          0.2  Setosa\n",
       "2           4.7          3.2           1.3          0.2  Setosa\n",
       "3           4.6          3.1           1.5          0.2  Setosa\n",
       "4           5.0          3.6           1.4          0.2  Setosa"
      ]
     },
     "metadata": {},
     "output_type": "display_data"
    }
   ],
   "source": [
    "import pandas as pd\n",
    "\n",
    "# Iris dataset beolvasása\n",
    "df = pd.read_csv('https://gist.github.com/netj/8836201/raw/6f9306ad21398ea43cba4f7d537619d0e07d5ae3/iris.csv')\n",
    "\n",
    "# Első 5 sor megtekintése\n",
    "display(df.head())\n",
    "\n"
   ]
  },
  {
   "cell_type": "markdown",
   "metadata": {
    "id": "plZoN91dzXOS"
   },
   "source": [
    "### Oszlopok elérése (Columns Selection)"
   ]
  },
  {
   "cell_type": "markdown",
   "metadata": {
    "id": "uE0sQUPSzaNp"
   },
   "source": [
    "### Egyetlen oszlop kiválasztása\n",
    "\n",
    "Ha csak egy oszlopot szeretnénk elérni, akkor használhatjuk a név szerinti hivatkozást:"
   ]
  },
  {
   "cell_type": "code",
   "execution_count": 104,
   "metadata": {
    "id": "ymd_T5r9rXC9"
   },
   "outputs": [
    {
     "data": {
      "text/plain": [
       "0      5.1\n",
       "1      4.9\n",
       "2      4.7\n",
       "3      4.6\n",
       "4      5.0\n",
       "      ... \n",
       "145    6.7\n",
       "146    6.3\n",
       "147    6.5\n",
       "148    6.2\n",
       "149    5.9\n",
       "Name: sepal.length, Length: 150, dtype: float64"
      ]
     },
     "metadata": {},
     "output_type": "display_data"
    }
   ],
   "source": [
    "display(df[\"sepal.length\"])  # Csészelevél hossza oszlop kiírása\n"
   ]
  },
  {
   "cell_type": "markdown",
   "metadata": {
    "id": "U_ztcyBSzfCJ"
   },
   "source": [
    "Ez egy Pandas Series objektumot ad vissza.\n"
   ]
  },
  {
   "cell_type": "markdown",
   "metadata": {
    "id": "SNcvtvI5zuP9"
   },
   "source": [
    "### Több oszlop kiválasztása\n",
    "\n",
    "Ha több oszlopot szeretnénk egyszerre elérni, akkor ezt egy listával adhatjuk meg:"
   ]
  },
  {
   "cell_type": "code",
   "execution_count": 108,
   "metadata": {
    "id": "ularougQzjko"
   },
   "outputs": [
    {
     "data": {
      "text/html": [
       "<div>\n",
       "<style scoped>\n",
       "    .dataframe tbody tr th:only-of-type {\n",
       "        vertical-align: middle;\n",
       "    }\n",
       "\n",
       "    .dataframe tbody tr th {\n",
       "        vertical-align: top;\n",
       "    }\n",
       "\n",
       "    .dataframe thead th {\n",
       "        text-align: right;\n",
       "    }\n",
       "</style>\n",
       "<table border=\"1\" class=\"dataframe\">\n",
       "  <thead>\n",
       "    <tr style=\"text-align: right;\">\n",
       "      <th></th>\n",
       "      <th>sepal.length</th>\n",
       "      <th>sepal.width</th>\n",
       "    </tr>\n",
       "  </thead>\n",
       "  <tbody>\n",
       "    <tr>\n",
       "      <th>0</th>\n",
       "      <td>5.1</td>\n",
       "      <td>3.5</td>\n",
       "    </tr>\n",
       "    <tr>\n",
       "      <th>1</th>\n",
       "      <td>4.9</td>\n",
       "      <td>3.0</td>\n",
       "    </tr>\n",
       "    <tr>\n",
       "      <th>2</th>\n",
       "      <td>4.7</td>\n",
       "      <td>3.2</td>\n",
       "    </tr>\n",
       "    <tr>\n",
       "      <th>3</th>\n",
       "      <td>4.6</td>\n",
       "      <td>3.1</td>\n",
       "    </tr>\n",
       "    <tr>\n",
       "      <th>4</th>\n",
       "      <td>5.0</td>\n",
       "      <td>3.6</td>\n",
       "    </tr>\n",
       "  </tbody>\n",
       "</table>\n",
       "</div>"
      ],
      "text/plain": [
       "   sepal.length  sepal.width\n",
       "0           5.1          3.5\n",
       "1           4.9          3.0\n",
       "2           4.7          3.2\n",
       "3           4.6          3.1\n",
       "4           5.0          3.6"
      ]
     },
     "metadata": {},
     "output_type": "display_data"
    }
   ],
   "source": [
    "df_subset = df[[\"sepal.length\", \"sepal.width\"]]  # Kiválasztunk két oszlopot\n",
    "display(df_subset.head())\n"
   ]
  },
  {
   "cell_type": "markdown",
   "metadata": {
    "id": "UK1q0gMSz3w1"
   },
   "source": [
    "### Oszlopok kiválasztása pozíció alapján (iloc)\n",
    "\n",
    "Néha nem ismerjük az oszlop nevét, hanem csak a pozícióját. Erre való az .iloc:"
   ]
  },
  {
   "cell_type": "code",
   "execution_count": 111,
   "metadata": {
    "id": "1tBqxzauz1l3"
   },
   "outputs": [
    {
     "data": {
      "text/plain": [
       "0      5.1\n",
       "1      4.9\n",
       "2      4.7\n",
       "3      4.6\n",
       "4      5.0\n",
       "      ... \n",
       "145    6.7\n",
       "146    6.3\n",
       "147    6.5\n",
       "148    6.2\n",
       "149    5.9\n",
       "Name: sepal.length, Length: 150, dtype: float64"
      ]
     },
     "metadata": {},
     "output_type": "display_data"
    },
    {
     "data": {
      "text/html": [
       "<div>\n",
       "<style scoped>\n",
       "    .dataframe tbody tr th:only-of-type {\n",
       "        vertical-align: middle;\n",
       "    }\n",
       "\n",
       "    .dataframe tbody tr th {\n",
       "        vertical-align: top;\n",
       "    }\n",
       "\n",
       "    .dataframe thead th {\n",
       "        text-align: right;\n",
       "    }\n",
       "</style>\n",
       "<table border=\"1\" class=\"dataframe\">\n",
       "  <thead>\n",
       "    <tr style=\"text-align: right;\">\n",
       "      <th></th>\n",
       "      <th>sepal.length</th>\n",
       "      <th>sepal.width</th>\n",
       "    </tr>\n",
       "  </thead>\n",
       "  <tbody>\n",
       "    <tr>\n",
       "      <th>0</th>\n",
       "      <td>5.1</td>\n",
       "      <td>3.5</td>\n",
       "    </tr>\n",
       "    <tr>\n",
       "      <th>1</th>\n",
       "      <td>4.9</td>\n",
       "      <td>3.0</td>\n",
       "    </tr>\n",
       "    <tr>\n",
       "      <th>2</th>\n",
       "      <td>4.7</td>\n",
       "      <td>3.2</td>\n",
       "    </tr>\n",
       "    <tr>\n",
       "      <th>3</th>\n",
       "      <td>4.6</td>\n",
       "      <td>3.1</td>\n",
       "    </tr>\n",
       "    <tr>\n",
       "      <th>4</th>\n",
       "      <td>5.0</td>\n",
       "      <td>3.6</td>\n",
       "    </tr>\n",
       "    <tr>\n",
       "      <th>...</th>\n",
       "      <td>...</td>\n",
       "      <td>...</td>\n",
       "    </tr>\n",
       "    <tr>\n",
       "      <th>145</th>\n",
       "      <td>6.7</td>\n",
       "      <td>3.0</td>\n",
       "    </tr>\n",
       "    <tr>\n",
       "      <th>146</th>\n",
       "      <td>6.3</td>\n",
       "      <td>2.5</td>\n",
       "    </tr>\n",
       "    <tr>\n",
       "      <th>147</th>\n",
       "      <td>6.5</td>\n",
       "      <td>3.0</td>\n",
       "    </tr>\n",
       "    <tr>\n",
       "      <th>148</th>\n",
       "      <td>6.2</td>\n",
       "      <td>3.4</td>\n",
       "    </tr>\n",
       "    <tr>\n",
       "      <th>149</th>\n",
       "      <td>5.9</td>\n",
       "      <td>3.0</td>\n",
       "    </tr>\n",
       "  </tbody>\n",
       "</table>\n",
       "<p>150 rows × 2 columns</p>\n",
       "</div>"
      ],
      "text/plain": [
       "     sepal.length  sepal.width\n",
       "0             5.1          3.5\n",
       "1             4.9          3.0\n",
       "2             4.7          3.2\n",
       "3             4.6          3.1\n",
       "4             5.0          3.6\n",
       "..            ...          ...\n",
       "145           6.7          3.0\n",
       "146           6.3          2.5\n",
       "147           6.5          3.0\n",
       "148           6.2          3.4\n",
       "149           5.9          3.0\n",
       "\n",
       "[150 rows x 2 columns]"
      ]
     },
     "metadata": {},
     "output_type": "display_data"
    }
   ],
   "source": [
    "display(df.iloc[:, 0])  # Az első oszlop kiíratása\n",
    "display(df.iloc[:, [0, 1]])  # Az első és második oszlop kiíratása\n"
   ]
  },
  {
   "cell_type": "markdown",
   "metadata": {
    "id": "mzVkQFEh0BQ1"
   },
   "source": [
    "### Sorok elérése (Rows Selection)"
   ]
  },
  {
   "cell_type": "markdown",
   "metadata": {
    "id": "iSq9yro00DRG"
   },
   "source": [
    "### Egy adott sor kiválasztása index alapján\n",
    "\n",
    "A .iloc[] segítségével sorszám alapján érhetünk el sorokat:"
   ]
  },
  {
   "cell_type": "code",
   "execution_count": 115,
   "metadata": {
    "id": "b02bU1l_z8gn"
   },
   "outputs": [
    {
     "data": {
      "text/plain": [
       "sepal.length       5.1\n",
       "sepal.width        3.5\n",
       "petal.length       1.4\n",
       "petal.width        0.2\n",
       "variety         Setosa\n",
       "Name: 0, dtype: object"
      ]
     },
     "metadata": {},
     "output_type": "display_data"
    }
   ],
   "source": [
    "display(df.iloc[0])  # Az első sor kiíratása\n"
   ]
  },
  {
   "cell_type": "markdown",
   "metadata": {
    "id": "Coxzh5Ef0KAl"
   },
   "source": [
    "Több sor kiválasztása:"
   ]
  },
  {
   "cell_type": "code",
   "execution_count": 118,
   "metadata": {
    "id": "IHxyFd3u0IN3"
   },
   "outputs": [
    {
     "data": {
      "text/html": [
       "<div>\n",
       "<style scoped>\n",
       "    .dataframe tbody tr th:only-of-type {\n",
       "        vertical-align: middle;\n",
       "    }\n",
       "\n",
       "    .dataframe tbody tr th {\n",
       "        vertical-align: top;\n",
       "    }\n",
       "\n",
       "    .dataframe thead th {\n",
       "        text-align: right;\n",
       "    }\n",
       "</style>\n",
       "<table border=\"1\" class=\"dataframe\">\n",
       "  <thead>\n",
       "    <tr style=\"text-align: right;\">\n",
       "      <th></th>\n",
       "      <th>sepal.length</th>\n",
       "      <th>sepal.width</th>\n",
       "      <th>petal.length</th>\n",
       "      <th>petal.width</th>\n",
       "      <th>variety</th>\n",
       "    </tr>\n",
       "  </thead>\n",
       "  <tbody>\n",
       "    <tr>\n",
       "      <th>0</th>\n",
       "      <td>5.1</td>\n",
       "      <td>3.5</td>\n",
       "      <td>1.4</td>\n",
       "      <td>0.2</td>\n",
       "      <td>Setosa</td>\n",
       "    </tr>\n",
       "    <tr>\n",
       "      <th>1</th>\n",
       "      <td>4.9</td>\n",
       "      <td>3.0</td>\n",
       "      <td>1.4</td>\n",
       "      <td>0.2</td>\n",
       "      <td>Setosa</td>\n",
       "    </tr>\n",
       "    <tr>\n",
       "      <th>2</th>\n",
       "      <td>4.7</td>\n",
       "      <td>3.2</td>\n",
       "      <td>1.3</td>\n",
       "      <td>0.2</td>\n",
       "      <td>Setosa</td>\n",
       "    </tr>\n",
       "    <tr>\n",
       "      <th>3</th>\n",
       "      <td>4.6</td>\n",
       "      <td>3.1</td>\n",
       "      <td>1.5</td>\n",
       "      <td>0.2</td>\n",
       "      <td>Setosa</td>\n",
       "    </tr>\n",
       "    <tr>\n",
       "      <th>4</th>\n",
       "      <td>5.0</td>\n",
       "      <td>3.6</td>\n",
       "      <td>1.4</td>\n",
       "      <td>0.2</td>\n",
       "      <td>Setosa</td>\n",
       "    </tr>\n",
       "  </tbody>\n",
       "</table>\n",
       "</div>"
      ],
      "text/plain": [
       "   sepal.length  sepal.width  petal.length  petal.width variety\n",
       "0           5.1          3.5           1.4          0.2  Setosa\n",
       "1           4.9          3.0           1.4          0.2  Setosa\n",
       "2           4.7          3.2           1.3          0.2  Setosa\n",
       "3           4.6          3.1           1.5          0.2  Setosa\n",
       "4           5.0          3.6           1.4          0.2  Setosa"
      ]
     },
     "metadata": {},
     "output_type": "display_data"
    }
   ],
   "source": [
    "display(df.iloc[0:5])  # Az első 5 sor kiíratása\n"
   ]
  },
  {
   "cell_type": "markdown",
   "metadata": {
    "id": "8ZH338v00Ofe"
   },
   "source": [
    "### Egy adott sor kiválasztása index név alapján (loc)\n",
    "\n",
    "Ha az adatok tartalmaznak egyedi indexeket (pl. ID-ket vagy neveket), akkor loc[]-ot használhatunk:"
   ]
  },
  {
   "cell_type": "code",
   "execution_count": 121,
   "metadata": {
    "id": "45nrmbui0K-H"
   },
   "outputs": [
    {
     "name": "stdout",
     "output_type": "stream",
     "text": [
      "sepal.length       5.1\n",
      "sepal.width        3.5\n",
      "petal.length       1.4\n",
      "petal.width        0.2\n",
      "variety         Setosa\n",
      "Name: 0, dtype: object\n"
     ]
    }
   ],
   "source": [
    "print(df.loc[0])  # Az első sor kiíratása név szerinti indexelés alapján\n"
   ]
  },
  {
   "cell_type": "markdown",
   "metadata": {
    "id": "sVG2B2-A0Xaf"
   },
   "source": [
    "Több sor kiválasztása név alapján:"
   ]
  },
  {
   "cell_type": "code",
   "execution_count": 124,
   "metadata": {
    "id": "M0lUXLrl0URX"
   },
   "outputs": [
    {
     "name": "stdout",
     "output_type": "stream",
     "text": [
      "   sepal.length  sepal.width  petal.length  petal.width variety\n",
      "0           5.1          3.5           1.4          0.2  Setosa\n",
      "1           4.9          3.0           1.4          0.2  Setosa\n",
      "2           4.7          3.2           1.3          0.2  Setosa\n"
     ]
    }
   ],
   "source": [
    "print(df.loc[[0, 1, 2]])  # Az első három sor lekérése\n"
   ]
  },
  {
   "cell_type": "markdown",
   "metadata": {
    "id": "EMj5gzhi0akX"
   },
   "source": [
    " ### Sorok szűrése feltételek alapján\n",
    "\n",
    " Ha például csak a Setosa fajtájú mintákat szeretnénk lekérdezni:"
   ]
  },
  {
   "cell_type": "code",
   "execution_count": 127,
   "metadata": {
    "id": "ykXffpdE0Yq3"
   },
   "outputs": [
    {
     "name": "stdout",
     "output_type": "stream",
     "text": [
      "   sepal.length  sepal.width  petal.length  petal.width variety\n",
      "0           5.1          3.5           1.4          0.2  Setosa\n",
      "1           4.9          3.0           1.4          0.2  Setosa\n",
      "2           4.7          3.2           1.3          0.2  Setosa\n",
      "3           4.6          3.1           1.5          0.2  Setosa\n",
      "4           5.0          3.6           1.4          0.2  Setosa\n"
     ]
    }
   ],
   "source": [
    "df_setosa = df[df[\"variety\"] == \"Setosa\"]\n",
    "print(df_setosa.head())\n"
   ]
  },
  {
   "cell_type": "markdown",
   "metadata": {
    "id": "kGAXysts0gXm"
   },
   "source": [
    "Ha több feltételt szeretnénk alkalmazni (pl. csak a 5 cm-nél hosszabb csészelevéllel rendelkező Setosa példányokat):"
   ]
  },
  {
   "cell_type": "code",
   "execution_count": 130,
   "metadata": {
    "id": "ycY6VJlp0ei3"
   },
   "outputs": [
    {
     "name": "stdout",
     "output_type": "stream",
     "text": [
      "    sepal.length  sepal.width  petal.length  petal.width variety\n",
      "0            5.1          3.5           1.4          0.2  Setosa\n",
      "5            5.4          3.9           1.7          0.4  Setosa\n",
      "10           5.4          3.7           1.5          0.2  Setosa\n",
      "14           5.8          4.0           1.2          0.2  Setosa\n",
      "15           5.7          4.4           1.5          0.4  Setosa\n"
     ]
    }
   ],
   "source": [
    "df_filtered = df[(df[\"variety\"] == \"Setosa\") & (df[\"sepal.length\"] > 5)]\n",
    "print(df_filtered.head())\n"
   ]
  },
  {
   "cell_type": "markdown",
   "metadata": {
    "id": "071weMYm0jtu"
   },
   "source": [
    "### Oszlopok és sorok kombinált kiválasztása\n",
    "\n",
    "Ha konkrét sorokat és oszlopokat is szeretnénk kiválasztani, kombinálhatjuk az .iloc[] vagy .loc[] metódusokat:"
   ]
  },
  {
   "cell_type": "code",
   "execution_count": 133,
   "metadata": {
    "id": "JbtVqeAX0h3n"
   },
   "outputs": [
    {
     "name": "stdout",
     "output_type": "stream",
     "text": [
      "   sepal.length  sepal.width\n",
      "0           5.1          3.5\n",
      "1           4.9          3.0\n",
      "2           4.7          3.2\n",
      "3           4.6          3.1\n",
      "4           5.0          3.6\n"
     ]
    }
   ],
   "source": [
    "print(df.iloc[0:5, 0:2])  # Az első 5 sor és az első 2 oszlop\n"
   ]
  },
  {
   "cell_type": "markdown",
   "metadata": {
    "id": "zZ8mLvDQ0oki"
   },
   "source": [
    "Ha név szerint szeretnénk szűrni:"
   ]
  },
  {
   "cell_type": "code",
   "execution_count": 136,
   "metadata": {
    "id": "pNAuNqB80mrH"
   },
   "outputs": [
    {
     "name": "stdout",
     "output_type": "stream",
     "text": [
      "   sepal.length variety\n",
      "0           5.1  Setosa\n",
      "1           4.9  Setosa\n",
      "2           4.7  Setosa\n",
      "3           4.6  Setosa\n",
      "4           5.0  Setosa\n",
      "5           5.4  Setosa\n"
     ]
    }
   ],
   "source": [
    "print(df.loc[0:5, [\"sepal.length\", \"variety\"]])  # Első 5 sor, és két oszlop\n"
   ]
  },
  {
   "cell_type": "markdown",
   "metadata": {
    "id": "sC2w8I581Bid"
   },
   "source": [
    "## Data Science projekt\n",
    "\n",
    "Egy Data Science projekt első lépése mindig az adatok beolvasása és az adatok alapvető vizsgálata. Miután egy új adathalmazt betöltöttünk, a következő műveleteket szoktuk elvégezni:"
   ]
  },
  {
   "cell_type": "markdown",
   "metadata": {
    "id": "TIq-pzrv1J78"
   },
   "source": [
    "### Adatok méretének és oszlopok listájának ellenőrzése\n",
    "\n",
    "Fontos megnézni, hogy hány sor és hány oszlop van az adathalmazban."
   ]
  },
  {
   "cell_type": "code",
   "execution_count": 287,
   "metadata": {
    "id": "MW72BppQ0pon"
   },
   "outputs": [
    {
     "name": "stdout",
     "output_type": "stream",
     "text": [
      "(150, 5)\n",
      "Index(['sepal.length', 'sepal.width', 'petal.length', 'petal.width',\n",
      "       'variety'],\n",
      "      dtype='object')\n"
     ]
    }
   ],
   "source": [
    "# Egy CSV (Comma-Separated Values) fájl beolvasása közvetlenül az internetről.\n",
    "# A pandas read_csv() függvénye automatikusan letölti és beolvassa a táblázatot DataFrame-ként.\n",
    "# az adat olvasható a bármilyen akár lokális utvonalról is.\n",
    "df = pd.read_csv('https://gist.github.com/netj/8836201/raw/6f9306ad21398ea43cba4f7d537619d0e07d5ae3/iris.csv')\n",
    "\n",
    "print(df.shape)  # Sorok és oszlopok száma\n",
    "print(df.columns)  # Oszlopnevek listája\n"
   ]
  },
  {
   "cell_type": "markdown",
   "metadata": {
    "id": "XyTHzOAV1RDo"
   },
   "source": [
    "### Alapvető statisztikák\n",
    "\n",
    "A Pandas describe() függvénye gyors statisztikai összegzést ad a numerikus oszlopokra."
   ]
  },
  {
   "cell_type": "code",
   "execution_count": 290,
   "metadata": {
    "id": "q8-8ctup1NrI"
   },
   "outputs": [
    {
     "name": "stdout",
     "output_type": "stream",
     "text": [
      "       sepal.length  sepal.width  petal.length  petal.width\n",
      "count    150.000000   150.000000    150.000000   150.000000\n",
      "mean       5.843333     3.057333      3.758000     1.199333\n",
      "std        0.828066     0.435866      1.765298     0.762238\n",
      "min        4.300000     2.000000      1.000000     0.100000\n",
      "25%        5.100000     2.800000      1.600000     0.300000\n",
      "50%        5.800000     3.000000      4.350000     1.300000\n",
      "75%        6.400000     3.300000      5.100000     1.800000\n",
      "max        7.900000     4.400000      6.900000     2.500000\n"
     ]
    }
   ],
   "source": [
    "print(df.describe())\n"
   ]
  },
  {
   "cell_type": "markdown",
   "metadata": {
    "id": "Hl0nfvVu1XL8"
   },
   "source": [
    "Mit nézünk itt?\n",
    "\n",
    "- Átlag (mean): Például az átlagos csészelevél hossz 5.84 cm.\n",
    "- Szórás (std): A csészelevél hossza kb. 0.83 cm-es szórással változik.\n",
    "- Minimum és maximum (min, max): Segít az adatok szélsőértékeinek azonosításában.\n",
    "- Medián (50%): Megmutatja az eloszlás középpontját."
   ]
  },
  {
   "cell_type": "markdown",
   "metadata": {
    "id": "K_oaf6Jt1cSM"
   },
   "source": [
    "### Hiányzó értékek keresése\n",
    "\n",
    "Gyakori probléma, hogy egy adathalmazban hiányzó értékek találhatók. Ezt a isnull().sum() függvénnyel tudjuk ellenőrizni."
   ]
  },
  {
   "cell_type": "code",
   "execution_count": 294,
   "metadata": {
    "id": "wydGPENW1UlX"
   },
   "outputs": [
    {
     "name": "stdout",
     "output_type": "stream",
     "text": [
      "sepal.length    0\n",
      "sepal.width     0\n",
      "petal.length    0\n",
      "petal.width     0\n",
      "variety         0\n",
      "dtype: int64\n"
     ]
    }
   ],
   "source": [
    "# A hiányzó értékek (NaN) ellenőrzése az adathalmazban.\n",
    "# - df.isnull() → minden cellára True/False értéket ad vissza (True, ha az adott érték hiányzik).\n",
    "# - df.isnull().sum() → oszloponként összeadja a True értékeket,\n",
    "#   így megkapjuk, hogy az egyes oszlopokban hány hiányzó adat található.\n",
    "print(df.isnull().sum())"
   ]
  },
  {
   "cell_type": "markdown",
   "metadata": {
    "id": "iDCkKrdN1iuR"
   },
   "source": [
    "Mit nézünk itt?\n",
    "\n",
    "- Ha valamelyik oszlopban nem nulla értékek vannak, akkor ott hiányzó adatok vannak.\n",
    "- Ha lenne hiányzó adat, akkor df.fillna() vagy df.dropna()-val kezelhetnénk."
   ]
  },
  {
   "cell_type": "markdown",
   "metadata": {
    "id": "zg9cN2bo1oNm"
   },
   "source": [
    "### Adattípusok és konverziók\n",
    "\n",
    "Ellenőrizzük az oszlopok adattípusait, hogy biztosak legyünk abban, hogy a megfelelő típust kaptuk."
   ]
  },
  {
   "cell_type": "code",
   "execution_count": 298,
   "metadata": {
    "id": "20nEkNA31g9n"
   },
   "outputs": [
    {
     "name": "stdout",
     "output_type": "stream",
     "text": [
      "sepal.length    float64\n",
      "sepal.width     float64\n",
      "petal.length    float64\n",
      "petal.width     float64\n",
      "variety          object\n",
      "dtype: object\n"
     ]
    }
   ],
   "source": [
    "print(df.dtypes)"
   ]
  },
  {
   "cell_type": "markdown",
   "metadata": {
    "id": "yPouC3Sh1vHZ"
   },
   "source": [
    "Mit nézünk itt?\n",
    "\n",
    "- A számoknak (float64) kell lenniük.\n",
    "- A \"variety\" oszlop szöveg (object) típusú, ami megfelelő."
   ]
  },
  {
   "cell_type": "markdown",
   "metadata": {},
   "source": [
    "### Egy oszlop statisztikai vizsgálata\n",
    "\n",
    "A pandas lehetőséget ad arra, hogy **egy konkrét oszlopon** (Series-en) végezzünk alapvető statisztikai műveleteket.  \n",
    "Ez különösen hasznos, ha egy változó (például az `iris` dataset `sepal.length` oszlopa) eloszlását szeretnénk gyorsan megérteni.  \n",
    "\n",
    "**Gyakran használt függvények:**\n",
    "\n",
    "- `.count()` → a nem hiányzó értékek száma  \n",
    "- `.sum()` → az oszlop összege  \n",
    "- `.mean()` → átlag  \n",
    "- `.min()`, `.max()` → legkisebb és legnagyobb érték  \n",
    "- `.median()` → medián (középső érték)  \n",
    "- `.std()` → szórás (szóródás mértéke)  \n",
    "- `.describe()` → összefoglaló statisztika (count, mean, std, min, percentilisek, max)  \n",
    "\n",
    "👉 Például az `iris` dataset `sepal.length` oszlopán rögtön látszik, hogy:  \n",
    "- 150 értéket tartalmaz,  \n",
    "- az átlag kb. **5.84**,  \n",
    "- a minimum **4.3**, a maximum **7.9**.  \n",
    "\n",
    "\n",
    "További PANDAS lehetőségekért [katt ide](https://pandas.pydata.org/docs/reference/api/pandas.DataFrame.html)"
   ]
  },
  {
   "cell_type": "code",
   "execution_count": 302,
   "metadata": {},
   "outputs": [
    {
     "name": "stdout",
     "output_type": "stream",
     "text": [
      "Nem hiányzó értékek száma: 150\n",
      "Összeg: 876.5\n",
      "Átlag: 5.843333333333334\n",
      "Minimum: 4.3\n",
      "Maximum: 7.9\n",
      "Medián: 5.8\n",
      "Szórás: 0.8280661279778629\n",
      "\n",
      "Leíró statisztika:\n",
      " count    150.000000\n",
      "mean       5.843333\n",
      "std        0.828066\n",
      "min        4.300000\n",
      "25%        5.100000\n",
      "50%        5.800000\n",
      "75%        6.400000\n",
      "max        7.900000\n",
      "Name: sepal.length, dtype: float64\n"
     ]
    }
   ],
   "source": [
    "# Egy konkrét oszlop kiválasztása\n",
    "col = df[\"sepal.length\"]\n",
    "\n",
    "# .count() → nem hiányzó értékek száma\n",
    "print(\"Nem hiányzó értékek száma:\", col.count())\n",
    "\n",
    "# .sum() → az oszlop értékeinek összege\n",
    "print(\"Összeg:\", col.sum())\n",
    "\n",
    "# .mean() → átlag\n",
    "print(\"Átlag:\", col.mean())\n",
    "\n",
    "# .min() és .max() → minimum és maximum\n",
    "print(\"Minimum:\", col.min())\n",
    "print(\"Maximum:\", col.max())\n",
    "\n",
    "# .median() → medián (középső érték)\n",
    "print(\"Medián:\", col.median())\n",
    "\n",
    "# .std() → szórás\n",
    "print(\"Szórás:\", col.std())\n",
    "\n",
    "# .describe() → összefoglaló statisztika egy oszlopra\n",
    "print(\"\\nLeíró statisztika:\\n\", col.describe())\n"
   ]
  },
  {
   "cell_type": "markdown",
   "metadata": {
    "id": "wJNDWzvO1zdm"
   },
   "source": [
    "### Duplikált sorok eltávolítása\n",
    "\n",
    "Adatkészletekben gyakran előfordulnak **ismétlődő sorok** (pl. ugyanaz a megfigyelés kétszer szerepel).  \n",
    "A `drop_duplicates()` segítségével ezeket eltávolíthatjuk.\n",
    "\n",
    "**Fontos paraméterek:**\n",
    "\n",
    "- `subset` → csak bizonyos oszlopok alapján keresi a duplikátumokat  \n",
    "  *(pl. `subset=[\"sepal.length\",\"sepal.width\"]` csak a virág szirmait hasonlítja össze)*  \n",
    "- `keep` → melyik előfordulást hagyja meg  \n",
    "  - `\"first\"`: az első marad, a többi törlődik (alapértelmezett)  \n",
    "  - `\"last\"`: az utolsó marad meg  \n",
    "  - `False`: minden duplikátum törlődik  \n",
    "- `inplace` → `True` esetén közvetlenül módosítja az eredeti DataFrame-et  \n",
    "- `ignore_index` → új indexet generál a megtisztított táblázathoz  \n",
    "\n",
    "👉 Az `iris` datasetben ritkán vannak duplikátumok, de ez a művelet általános adat-előkészítési lépés.  \n"
   ]
  },
  {
   "cell_type": "code",
   "execution_count": 305,
   "metadata": {
    "id": "3ohUjifL1r8G"
   },
   "outputs": [
    {
     "name": "stdout",
     "output_type": "stream",
     "text": [
      "1\n"
     ]
    }
   ],
   "source": [
    "print(df.duplicated().sum())  # Hány duplikált sor van?"
   ]
  },
  {
   "cell_type": "markdown",
   "metadata": {
    "id": "6wpOrxGV15nR"
   },
   "source": [
    "Ha lenne duplikált adat:"
   ]
  },
  {
   "cell_type": "code",
   "execution_count": 308,
   "metadata": {
    "id": "KUlNBrbT13GX"
   },
   "outputs": [],
   "source": [
    "# Duplikált sorok eltávolítása a DataFrame-ből\n",
    "# Alapértelmezetten a teljes sort hasonlítja össze (minden oszlop értékét).\n",
    "df = df.drop_duplicates()\n",
    "\n",
    "# Paraméterek:\n",
    "# subset     → csak bizonyos oszlopokat vesz figyelembe az összehasonlításnál\n",
    "#              pl. df.drop_duplicates(subset=[\"sepal.length\", \"sepal.width\"])\n",
    "#\n",
    "# keep       → megadhatjuk, melyik előfordulást tartsuk meg:\n",
    "#              'first' (alapértelmezett) → az első előfordulás marad meg\n",
    "#              'last' → az utolsó előfordulás marad meg\n",
    "#              False → minden duplikátum eltávolításra kerül\n",
    "#\n",
    "# inplace    → ha True, akkor a művelet közvetlenül az eredeti DataFrame-en hajtódik végre\n",
    "#              (nem ad vissza új példányt, hanem módosítja a meglévőt)\n",
    "#\n",
    "# ignore_index → ha True, újraszámozza az indexet a tisztított DataFrame-ben\n"
   ]
  },
  {
   "cell_type": "markdown",
   "metadata": {
    "id": "Cb1wmPjl182J"
   },
   "source": [
    "Mit nézünk itt?\n",
    "\n",
    "- Ha duplikált adatok vannak, akkor el kell távolítani őket, hogy ne torzítsák az elemzést."
   ]
  },
  {
   "cell_type": "markdown",
   "metadata": {
    "id": "tG3tL7am1_WV"
   },
   "source": [
    "### Egyedi értékek vizsgálata\n",
    "\n",
    "A variety oszlopban milyen egyedi értékek találhatók?"
   ]
  },
  {
   "cell_type": "code",
   "execution_count": 312,
   "metadata": {
    "id": "YJRh_h4_17P3"
   },
   "outputs": [
    {
     "name": "stdout",
     "output_type": "stream",
     "text": [
      "['Setosa' 'Versicolor' 'Virginica']\n"
     ]
    }
   ],
   "source": [
    "print(df[\"variety\"].unique())"
   ]
  },
  {
   "cell_type": "markdown",
   "metadata": {
    "id": "d9g2j3JX2Eea"
   },
   "source": [
    "Mit nézünk itt?\n",
    "\n",
    "- Az adatok tartalmazzák-e az összes elvárt kategóriát?\n",
    "- Ha pl. egy \"XYZ\" nevű faj szerepelne, az gyanús lenne."
   ]
  },
  {
   "cell_type": "markdown",
   "metadata": {
    "id": "i6HH4JUt2IJ5"
   },
   "source": [
    "Ha az egyes kategóriák gyakoriságát szeretnénk látni:"
   ]
  },
  {
   "cell_type": "code",
   "execution_count": 316,
   "metadata": {
    "id": "JjDuygr22Cm2"
   },
   "outputs": [
    {
     "name": "stdout",
     "output_type": "stream",
     "text": [
      "variety\n",
      "Setosa        50\n",
      "Versicolor    50\n",
      "Virginica     49\n",
      "Name: count, dtype: int64\n"
     ]
    }
   ],
   "source": [
    "print(df[\"variety\"].value_counts())"
   ]
  },
  {
   "cell_type": "markdown",
   "metadata": {
    "id": "QwcTMMKM2LVw"
   },
   "source": [
    "Mit nézünk itt?\n",
    "-  Ellenőrizzük, hogy az eloszlás egyenletes-e."
   ]
  },
  {
   "cell_type": "markdown",
   "metadata": {
    "id": "XOkecrWH2Y8Z"
   },
   "source": [
    "### Alapvető oszlopműveletek\n",
    "\n",
    "Az oszlopokkal végzett műveletek segítenek az adatokat jobban érthető formába hozni."
   ]
  },
  {
   "cell_type": "markdown",
   "metadata": {
    "id": "YUaauclG2dba"
   },
   "source": [
    "### Új oszlop létrehozása\n",
    "\n",
    "Például létrehozhatunk egy új oszlopot, amely a csészelevél hosszának és szélességének szorzata:"
   ]
  },
  {
   "cell_type": "code",
   "execution_count": 321,
   "metadata": {
    "id": "GVQQVAGo2JbG"
   },
   "outputs": [
    {
     "data": {
      "text/html": [
       "<div>\n",
       "<style scoped>\n",
       "    .dataframe tbody tr th:only-of-type {\n",
       "        vertical-align: middle;\n",
       "    }\n",
       "\n",
       "    .dataframe tbody tr th {\n",
       "        vertical-align: top;\n",
       "    }\n",
       "\n",
       "    .dataframe thead th {\n",
       "        text-align: right;\n",
       "    }\n",
       "</style>\n",
       "<table border=\"1\" class=\"dataframe\">\n",
       "  <thead>\n",
       "    <tr style=\"text-align: right;\">\n",
       "      <th></th>\n",
       "      <th>sepal.length</th>\n",
       "      <th>sepal.width</th>\n",
       "      <th>petal.length</th>\n",
       "      <th>petal.width</th>\n",
       "      <th>variety</th>\n",
       "      <th>sepal.area</th>\n",
       "    </tr>\n",
       "  </thead>\n",
       "  <tbody>\n",
       "    <tr>\n",
       "      <th>0</th>\n",
       "      <td>5.1</td>\n",
       "      <td>3.5</td>\n",
       "      <td>1.4</td>\n",
       "      <td>0.2</td>\n",
       "      <td>Setosa</td>\n",
       "      <td>17.85</td>\n",
       "    </tr>\n",
       "    <tr>\n",
       "      <th>1</th>\n",
       "      <td>4.9</td>\n",
       "      <td>3.0</td>\n",
       "      <td>1.4</td>\n",
       "      <td>0.2</td>\n",
       "      <td>Setosa</td>\n",
       "      <td>14.70</td>\n",
       "    </tr>\n",
       "    <tr>\n",
       "      <th>2</th>\n",
       "      <td>4.7</td>\n",
       "      <td>3.2</td>\n",
       "      <td>1.3</td>\n",
       "      <td>0.2</td>\n",
       "      <td>Setosa</td>\n",
       "      <td>15.04</td>\n",
       "    </tr>\n",
       "    <tr>\n",
       "      <th>3</th>\n",
       "      <td>4.6</td>\n",
       "      <td>3.1</td>\n",
       "      <td>1.5</td>\n",
       "      <td>0.2</td>\n",
       "      <td>Setosa</td>\n",
       "      <td>14.26</td>\n",
       "    </tr>\n",
       "    <tr>\n",
       "      <th>4</th>\n",
       "      <td>5.0</td>\n",
       "      <td>3.6</td>\n",
       "      <td>1.4</td>\n",
       "      <td>0.2</td>\n",
       "      <td>Setosa</td>\n",
       "      <td>18.00</td>\n",
       "    </tr>\n",
       "  </tbody>\n",
       "</table>\n",
       "</div>"
      ],
      "text/plain": [
       "   sepal.length  sepal.width  petal.length  petal.width variety  sepal.area\n",
       "0           5.1          3.5           1.4          0.2  Setosa       17.85\n",
       "1           4.9          3.0           1.4          0.2  Setosa       14.70\n",
       "2           4.7          3.2           1.3          0.2  Setosa       15.04\n",
       "3           4.6          3.1           1.5          0.2  Setosa       14.26\n",
       "4           5.0          3.6           1.4          0.2  Setosa       18.00"
      ]
     },
     "metadata": {},
     "output_type": "display_data"
    }
   ],
   "source": [
    "df[\"sepal.area\"] = df[\"sepal.length\"] * df[\"sepal.width\"]\n",
    "display(df.head())"
   ]
  },
  {
   "cell_type": "markdown",
   "metadata": {
    "id": "EMMe3EHV2nGQ"
   },
   "source": [
    "Miért hasznos?\n",
    "\n",
    "- Segít az adatok bővítésében (például egy terület számítás).\n",
    "- Használható további elemzésekhez."
   ]
  },
  {
   "cell_type": "markdown",
   "metadata": {
    "id": "VQU2OCA72p2d"
   },
   "source": [
    "### Oszlopok átnevezése\n",
    "Előfordulhat, hogy az oszlopnevek nem megfelelőek vagy túl hosszúak."
   ]
  },
  {
   "cell_type": "code",
   "execution_count": 325,
   "metadata": {
    "id": "pXM522YX2gpW"
   },
   "outputs": [
    {
     "data": {
      "text/html": [
       "<div>\n",
       "<style scoped>\n",
       "    .dataframe tbody tr th:only-of-type {\n",
       "        vertical-align: middle;\n",
       "    }\n",
       "\n",
       "    .dataframe tbody tr th {\n",
       "        vertical-align: top;\n",
       "    }\n",
       "\n",
       "    .dataframe thead th {\n",
       "        text-align: right;\n",
       "    }\n",
       "</style>\n",
       "<table border=\"1\" class=\"dataframe\">\n",
       "  <thead>\n",
       "    <tr style=\"text-align: right;\">\n",
       "      <th></th>\n",
       "      <th>sepal_length</th>\n",
       "      <th>sepal_width</th>\n",
       "      <th>petal.length</th>\n",
       "      <th>petal.width</th>\n",
       "      <th>variety</th>\n",
       "      <th>sepal.area</th>\n",
       "    </tr>\n",
       "  </thead>\n",
       "  <tbody>\n",
       "    <tr>\n",
       "      <th>0</th>\n",
       "      <td>5.1</td>\n",
       "      <td>3.5</td>\n",
       "      <td>1.4</td>\n",
       "      <td>0.2</td>\n",
       "      <td>Setosa</td>\n",
       "      <td>17.85</td>\n",
       "    </tr>\n",
       "    <tr>\n",
       "      <th>1</th>\n",
       "      <td>4.9</td>\n",
       "      <td>3.0</td>\n",
       "      <td>1.4</td>\n",
       "      <td>0.2</td>\n",
       "      <td>Setosa</td>\n",
       "      <td>14.70</td>\n",
       "    </tr>\n",
       "    <tr>\n",
       "      <th>2</th>\n",
       "      <td>4.7</td>\n",
       "      <td>3.2</td>\n",
       "      <td>1.3</td>\n",
       "      <td>0.2</td>\n",
       "      <td>Setosa</td>\n",
       "      <td>15.04</td>\n",
       "    </tr>\n",
       "    <tr>\n",
       "      <th>3</th>\n",
       "      <td>4.6</td>\n",
       "      <td>3.1</td>\n",
       "      <td>1.5</td>\n",
       "      <td>0.2</td>\n",
       "      <td>Setosa</td>\n",
       "      <td>14.26</td>\n",
       "    </tr>\n",
       "    <tr>\n",
       "      <th>4</th>\n",
       "      <td>5.0</td>\n",
       "      <td>3.6</td>\n",
       "      <td>1.4</td>\n",
       "      <td>0.2</td>\n",
       "      <td>Setosa</td>\n",
       "      <td>18.00</td>\n",
       "    </tr>\n",
       "  </tbody>\n",
       "</table>\n",
       "</div>"
      ],
      "text/plain": [
       "   sepal_length  sepal_width  petal.length  petal.width variety  sepal.area\n",
       "0           5.1          3.5           1.4          0.2  Setosa       17.85\n",
       "1           4.9          3.0           1.4          0.2  Setosa       14.70\n",
       "2           4.7          3.2           1.3          0.2  Setosa       15.04\n",
       "3           4.6          3.1           1.5          0.2  Setosa       14.26\n",
       "4           5.0          3.6           1.4          0.2  Setosa       18.00"
      ]
     },
     "metadata": {},
     "output_type": "display_data"
    }
   ],
   "source": [
    "df = df.rename(columns={\"sepal.length\": \"sepal_length\", \"sepal.width\": \"sepal_width\"})\n",
    "display(df.head())\n"
   ]
  },
  {
   "cell_type": "markdown",
   "metadata": {
    "id": "NmNTTP3q2xxl"
   },
   "source": [
    "### Oszlopok törlése\n",
    "\n",
    "Ha egy oszlopra nincs szükségünk, törölhetjük."
   ]
  },
  {
   "cell_type": "code",
   "execution_count": 328,
   "metadata": {
    "id": "ervAvSP52u6W"
   },
   "outputs": [
    {
     "data": {
      "text/html": [
       "<div>\n",
       "<style scoped>\n",
       "    .dataframe tbody tr th:only-of-type {\n",
       "        vertical-align: middle;\n",
       "    }\n",
       "\n",
       "    .dataframe tbody tr th {\n",
       "        vertical-align: top;\n",
       "    }\n",
       "\n",
       "    .dataframe thead th {\n",
       "        text-align: right;\n",
       "    }\n",
       "</style>\n",
       "<table border=\"1\" class=\"dataframe\">\n",
       "  <thead>\n",
       "    <tr style=\"text-align: right;\">\n",
       "      <th></th>\n",
       "      <th>sepal_length</th>\n",
       "      <th>sepal_width</th>\n",
       "      <th>petal.length</th>\n",
       "      <th>petal.width</th>\n",
       "      <th>variety</th>\n",
       "    </tr>\n",
       "  </thead>\n",
       "  <tbody>\n",
       "    <tr>\n",
       "      <th>0</th>\n",
       "      <td>5.1</td>\n",
       "      <td>3.5</td>\n",
       "      <td>1.4</td>\n",
       "      <td>0.2</td>\n",
       "      <td>Setosa</td>\n",
       "    </tr>\n",
       "    <tr>\n",
       "      <th>1</th>\n",
       "      <td>4.9</td>\n",
       "      <td>3.0</td>\n",
       "      <td>1.4</td>\n",
       "      <td>0.2</td>\n",
       "      <td>Setosa</td>\n",
       "    </tr>\n",
       "    <tr>\n",
       "      <th>2</th>\n",
       "      <td>4.7</td>\n",
       "      <td>3.2</td>\n",
       "      <td>1.3</td>\n",
       "      <td>0.2</td>\n",
       "      <td>Setosa</td>\n",
       "    </tr>\n",
       "    <tr>\n",
       "      <th>3</th>\n",
       "      <td>4.6</td>\n",
       "      <td>3.1</td>\n",
       "      <td>1.5</td>\n",
       "      <td>0.2</td>\n",
       "      <td>Setosa</td>\n",
       "    </tr>\n",
       "    <tr>\n",
       "      <th>4</th>\n",
       "      <td>5.0</td>\n",
       "      <td>3.6</td>\n",
       "      <td>1.4</td>\n",
       "      <td>0.2</td>\n",
       "      <td>Setosa</td>\n",
       "    </tr>\n",
       "  </tbody>\n",
       "</table>\n",
       "</div>"
      ],
      "text/plain": [
       "   sepal_length  sepal_width  petal.length  petal.width variety\n",
       "0           5.1          3.5           1.4          0.2  Setosa\n",
       "1           4.9          3.0           1.4          0.2  Setosa\n",
       "2           4.7          3.2           1.3          0.2  Setosa\n",
       "3           4.6          3.1           1.5          0.2  Setosa\n",
       "4           5.0          3.6           1.4          0.2  Setosa"
      ]
     },
     "metadata": {},
     "output_type": "display_data"
    }
   ],
   "source": [
    "df = df.drop(columns=[\"sepal.area\"])\n",
    "display(df.head())\n"
   ]
  },
  {
   "cell_type": "markdown",
   "metadata": {
    "id": "mkNdxIo224cs"
   },
   "source": [
    "### Adattranszformációk\n",
    "\n",
    "Az adatok átalakítása gyakran szükséges az elemzésekhez.\n",
    "\n"
   ]
  },
  {
   "cell_type": "markdown",
   "metadata": {
    "id": "umJy0T2129xl"
   },
   "source": [
    "### Normálizálás (Min-Max skálázás)\n",
    "Például a csészelevél hosszát skálázhatjuk 0 és 1 közé."
   ]
  },
  {
   "cell_type": "code",
   "execution_count": 332,
   "metadata": {
    "id": "7RqYddyx22ZW"
   },
   "outputs": [
    {
     "data": {
      "text/html": [
       "<div>\n",
       "<style scoped>\n",
       "    .dataframe tbody tr th:only-of-type {\n",
       "        vertical-align: middle;\n",
       "    }\n",
       "\n",
       "    .dataframe tbody tr th {\n",
       "        vertical-align: top;\n",
       "    }\n",
       "\n",
       "    .dataframe thead th {\n",
       "        text-align: right;\n",
       "    }\n",
       "</style>\n",
       "<table border=\"1\" class=\"dataframe\">\n",
       "  <thead>\n",
       "    <tr style=\"text-align: right;\">\n",
       "      <th></th>\n",
       "      <th>sepal_length</th>\n",
       "      <th>sepal_width</th>\n",
       "      <th>petal.length</th>\n",
       "      <th>petal.width</th>\n",
       "      <th>variety</th>\n",
       "      <th>sepal_length_scaled</th>\n",
       "    </tr>\n",
       "  </thead>\n",
       "  <tbody>\n",
       "    <tr>\n",
       "      <th>0</th>\n",
       "      <td>5.1</td>\n",
       "      <td>3.5</td>\n",
       "      <td>1.4</td>\n",
       "      <td>0.2</td>\n",
       "      <td>Setosa</td>\n",
       "      <td>0.222222</td>\n",
       "    </tr>\n",
       "    <tr>\n",
       "      <th>1</th>\n",
       "      <td>4.9</td>\n",
       "      <td>3.0</td>\n",
       "      <td>1.4</td>\n",
       "      <td>0.2</td>\n",
       "      <td>Setosa</td>\n",
       "      <td>0.166667</td>\n",
       "    </tr>\n",
       "    <tr>\n",
       "      <th>2</th>\n",
       "      <td>4.7</td>\n",
       "      <td>3.2</td>\n",
       "      <td>1.3</td>\n",
       "      <td>0.2</td>\n",
       "      <td>Setosa</td>\n",
       "      <td>0.111111</td>\n",
       "    </tr>\n",
       "    <tr>\n",
       "      <th>3</th>\n",
       "      <td>4.6</td>\n",
       "      <td>3.1</td>\n",
       "      <td>1.5</td>\n",
       "      <td>0.2</td>\n",
       "      <td>Setosa</td>\n",
       "      <td>0.083333</td>\n",
       "    </tr>\n",
       "    <tr>\n",
       "      <th>4</th>\n",
       "      <td>5.0</td>\n",
       "      <td>3.6</td>\n",
       "      <td>1.4</td>\n",
       "      <td>0.2</td>\n",
       "      <td>Setosa</td>\n",
       "      <td>0.194444</td>\n",
       "    </tr>\n",
       "  </tbody>\n",
       "</table>\n",
       "</div>"
      ],
      "text/plain": [
       "   sepal_length  sepal_width  petal.length  petal.width variety  \\\n",
       "0           5.1          3.5           1.4          0.2  Setosa   \n",
       "1           4.9          3.0           1.4          0.2  Setosa   \n",
       "2           4.7          3.2           1.3          0.2  Setosa   \n",
       "3           4.6          3.1           1.5          0.2  Setosa   \n",
       "4           5.0          3.6           1.4          0.2  Setosa   \n",
       "\n",
       "   sepal_length_scaled  \n",
       "0             0.222222  \n",
       "1             0.166667  \n",
       "2             0.111111  \n",
       "3             0.083333  \n",
       "4             0.194444  "
      ]
     },
     "metadata": {},
     "output_type": "display_data"
    }
   ],
   "source": [
    "# Új oszlop létrehozása a DataFrame-ben: 'sepal_length_scaled'\n",
    "# Itt a 'sepal_length' oszlop értékeit skálázzuk 0 és 1 közé (min-max normalizálás).\n",
    "#\n",
    "# A képlet: (x - min) / (max - min)\n",
    "# - x: az aktuális érték\n",
    "# - min: az oszlop legkisebb értéke\n",
    "# - max: az oszlop legnagyobb értéke\n",
    "#\n",
    "# Ennek eredménye:\n",
    "# - a legkisebb érték 0 lesz\n",
    "# - a legnagyobb érték 1 lesz\n",
    "# - a többi érték 0 és 1 közé esik\n",
    "#\n",
    "# Ez egy gyakran használt előfeldolgozási lépés gépi tanulásnál, mert\n",
    "# sok algoritmus érzékeny a változók különböző skáláira.\n",
    "\n",
    "df[\"sepal_length_scaled\"] = (df[\"sepal_length\"] - df[\"sepal_length\"].min()) / (df[\"sepal_length\"].max() - df[\"sepal_length\"].min())\n",
    "display(df.head())\n"
   ]
  },
  {
   "cell_type": "markdown",
   "metadata": {
    "id": "SxB5NYRI3DRN"
   },
   "source": [
    "Miért hasznos?\n",
    "\n",
    "- Gépi tanulás előtt az adatokat egy közös skálára kell hozni."
   ]
  },
  {
   "cell_type": "markdown",
   "metadata": {
    "id": "_fOZU5_g3XnQ"
   },
   "source": [
    "### A lambda függvény működése Pythonban\n",
    "\n",
    "A lambda függvény egy egysoros, névtelen függvény, amelyet rövid, egyszerű műveletek végrehajtására használunk. A szintaxisa:\n",
    "\n",
    "```\n",
    "lambda paraméterek: kifejezés\n",
    "\n",
    "```\n",
    "Ez a függvény automatikusan visszatérési értéket ad, tehát nincs szükség return kulcsszóra.\n"
   ]
  },
  {
   "cell_type": "markdown",
   "metadata": {
    "id": "A_q2DrHv3hXV"
   },
   "source": [
    "### Egyszerű lambda függvény példák\n",
    "\n",
    "Kétszerezés lambda függvénnyel\n",
    "\n",
    "Egy hagyományos függvény:"
   ]
  },
  {
   "cell_type": "code",
   "execution_count": 337,
   "metadata": {
    "id": "MiWxqW9X3nWY"
   },
   "outputs": [
    {
     "name": "stdout",
     "output_type": "stream",
     "text": [
      "10\n"
     ]
    }
   ],
   "source": [
    "def dupláz(x):\n",
    "    return x * 2\n",
    "\n",
    "print(dupláz(5))  # Kimenet: 10\n"
   ]
  },
  {
   "cell_type": "markdown",
   "metadata": {
    "id": "mO2Upij43rR4"
   },
   "source": [
    "Ugyanezt lambda függvénnyel:"
   ]
  },
  {
   "cell_type": "code",
   "execution_count": 340,
   "metadata": {
    "id": "IXBqhC163pvo"
   },
   "outputs": [
    {
     "name": "stdout",
     "output_type": "stream",
     "text": [
      "10\n"
     ]
    }
   ],
   "source": [
    "dupláz = lambda x: x * 2\n",
    "print(dupláz(5))  # Kimenet: 10\n"
   ]
  },
  {
   "cell_type": "markdown",
   "metadata": {
    "id": "Zd5gr3e_3vFi"
   },
   "source": [
    "Mi történik itt?\n",
    "\n",
    "- A lambda x: x * 2 egy névtelen függvény, amely egy bemeneti x értéket fogad és visszaadja x * 2 értékét."
   ]
  },
  {
   "cell_type": "markdown",
   "metadata": {
    "id": "TTJcWoBT3Fzg"
   },
   "source": [
    "### Feltételes oszlop létrehozása\n",
    "\n",
    "Megjelölhetjük, hogy a csészelevél hossz rövid vagy hosszú."
   ]
  },
  {
   "cell_type": "markdown",
   "metadata": {
    "id": "Iy_Kd0pq3z94"
   },
   "source": [
    "Két szám összeadása"
   ]
  },
  {
   "cell_type": "code",
   "execution_count": 345,
   "metadata": {
    "id": "DLcSHEIo31YI"
   },
   "outputs": [
    {
     "name": "stdout",
     "output_type": "stream",
     "text": [
      "10\n"
     ]
    }
   ],
   "source": [
    "osszead = lambda a, b: a + b # két paramétert vár (a, b) és visszaadja az összegüket\n",
    "print(osszead(3, 7))  # Kimenet: 10\n"
   ]
  },
  {
   "cell_type": "markdown",
   "metadata": {
    "id": "pBI8ZU4V32ro"
   },
   "source": [
    "### Feltételes lambda függvény\n",
    "Ha egy szám páros vagy páratlan, azt egy lambda függvénnyel ellenőrizhetjük:"
   ]
  },
  {
   "cell_type": "code",
   "execution_count": 348,
   "metadata": {
    "id": "c8S7YTQL35os"
   },
   "outputs": [
    {
     "name": "stdout",
     "output_type": "stream",
     "text": [
      "Páros\n",
      "Páratlan\n"
     ]
    }
   ],
   "source": [
    "# Egy lambda függvény, amely eldönti, hogy egy szám páros vagy páratlan.\n",
    "# Szintaxis: lambda bemenet: kifejezés\n",
    "# A kifejezésben itt feltételes szerkezetet (if-else) használunk.\n",
    "paros_vagy_paratlan = lambda x: \"Páros\" if x % 2 == 0 else \"Páratlan\"\n",
    "# Magyarázat:\n",
    "# - x % 2 == 0 → igaz, ha x osztható 2-vel, vagyis páros\n",
    "# - ha igaz → \"Páros\" szöveget ad vissza\n",
    "# - ha hamis → \"Páratlan\" szöveget ad vissza\n",
    "\n",
    "print(paros_vagy_paratlan(4))  # Kimenet: \"Páros\"\n",
    "print(paros_vagy_paratlan(5))  # Kimenet: \"Páratlan\"\n"
   ]
  },
  {
   "cell_type": "markdown",
   "metadata": {
    "id": "IaC4zS-t3-vs"
   },
   "source": [
    "Mit csinál ez?\n",
    "\n",
    "- Ha x osztható 2-vel, akkor \"Páros\" lesz a kimenet.\n",
    "- Ha nem, akkor \"Páratlan\"."
   ]
  },
  {
   "cell_type": "markdown",
   "metadata": {
    "id": "OUCrj_sl4BjM"
   },
   "source": [
    "### Lambda a Pandas-ban\n",
    "A lambda függvényt gyakran használjuk Pandas DataFrame-ekkel, főleg az apply() metódussal.\n",
    "\n"
   ]
  },
  {
   "cell_type": "markdown",
   "metadata": {
    "id": "MbnLvqlk4GA4"
   },
   "source": [
    "### Egy oszlop minden elemének transzformációja\n",
    "\n",
    "A csészelevél hosszának minden elemét centiméterből milliméterbe alakítjuk."
   ]
  },
  {
   "cell_type": "code",
   "execution_count": 353,
   "metadata": {
    "id": "Z-Bfdd544VjM"
   },
   "outputs": [
    {
     "data": {
      "text/html": [
       "<div>\n",
       "<style scoped>\n",
       "    .dataframe tbody tr th:only-of-type {\n",
       "        vertical-align: middle;\n",
       "    }\n",
       "\n",
       "    .dataframe tbody tr th {\n",
       "        vertical-align: top;\n",
       "    }\n",
       "\n",
       "    .dataframe thead th {\n",
       "        text-align: right;\n",
       "    }\n",
       "</style>\n",
       "<table border=\"1\" class=\"dataframe\">\n",
       "  <thead>\n",
       "    <tr style=\"text-align: right;\">\n",
       "      <th></th>\n",
       "      <th>sepal_length</th>\n",
       "      <th>sepal_width</th>\n",
       "      <th>petal.length</th>\n",
       "      <th>petal.width</th>\n",
       "      <th>variety</th>\n",
       "      <th>sepal_length_scaled</th>\n",
       "      <th>sepal_length_mm</th>\n",
       "    </tr>\n",
       "  </thead>\n",
       "  <tbody>\n",
       "    <tr>\n",
       "      <th>0</th>\n",
       "      <td>5.1</td>\n",
       "      <td>3.5</td>\n",
       "      <td>1.4</td>\n",
       "      <td>0.2</td>\n",
       "      <td>Setosa</td>\n",
       "      <td>0.222222</td>\n",
       "      <td>51.0</td>\n",
       "    </tr>\n",
       "    <tr>\n",
       "      <th>1</th>\n",
       "      <td>4.9</td>\n",
       "      <td>3.0</td>\n",
       "      <td>1.4</td>\n",
       "      <td>0.2</td>\n",
       "      <td>Setosa</td>\n",
       "      <td>0.166667</td>\n",
       "      <td>49.0</td>\n",
       "    </tr>\n",
       "    <tr>\n",
       "      <th>2</th>\n",
       "      <td>4.7</td>\n",
       "      <td>3.2</td>\n",
       "      <td>1.3</td>\n",
       "      <td>0.2</td>\n",
       "      <td>Setosa</td>\n",
       "      <td>0.111111</td>\n",
       "      <td>47.0</td>\n",
       "    </tr>\n",
       "    <tr>\n",
       "      <th>3</th>\n",
       "      <td>4.6</td>\n",
       "      <td>3.1</td>\n",
       "      <td>1.5</td>\n",
       "      <td>0.2</td>\n",
       "      <td>Setosa</td>\n",
       "      <td>0.083333</td>\n",
       "      <td>46.0</td>\n",
       "    </tr>\n",
       "    <tr>\n",
       "      <th>4</th>\n",
       "      <td>5.0</td>\n",
       "      <td>3.6</td>\n",
       "      <td>1.4</td>\n",
       "      <td>0.2</td>\n",
       "      <td>Setosa</td>\n",
       "      <td>0.194444</td>\n",
       "      <td>50.0</td>\n",
       "    </tr>\n",
       "  </tbody>\n",
       "</table>\n",
       "</div>"
      ],
      "text/plain": [
       "   sepal_length  sepal_width  petal.length  petal.width variety  \\\n",
       "0           5.1          3.5           1.4          0.2  Setosa   \n",
       "1           4.9          3.0           1.4          0.2  Setosa   \n",
       "2           4.7          3.2           1.3          0.2  Setosa   \n",
       "3           4.6          3.1           1.5          0.2  Setosa   \n",
       "4           5.0          3.6           1.4          0.2  Setosa   \n",
       "\n",
       "   sepal_length_scaled  sepal_length_mm  \n",
       "0             0.222222             51.0  \n",
       "1             0.166667             49.0  \n",
       "2             0.111111             47.0  \n",
       "3             0.083333             46.0  \n",
       "4             0.194444             50.0  "
      ]
     },
     "metadata": {},
     "output_type": "display_data"
    }
   ],
   "source": [
    "df[\"sepal_length_mm\"] = df[\"sepal_length\"].apply(lambda x: x * 10)\n",
    "display(df.head())\n"
   ]
  },
  {
   "cell_type": "markdown",
   "metadata": {
    "id": "cn3WWIbo4d10"
   },
   "source": [
    " Mi történik itt?\n",
    "\n",
    "- apply(lambda x: x * 10): A lambda függvény minden sorban megkapja az x értéket (a sepal_length értékét) és megszorozza 10-zel.\n",
    "- Az eredményt egy új oszlopba (sepal_length_mm) mentjük."
   ]
  },
  {
   "cell_type": "markdown",
   "metadata": {
    "id": "eO_9cgV54m-3"
   },
   "source": [
    "### Kategóriák létrehozása lambda segítségével\n",
    "A csészelevél hossz alapján szeretnénk minden mintát \"Rövid\" vagy \"Hosszú\" kategóriába sorolni."
   ]
  },
  {
   "cell_type": "code",
   "execution_count": 357,
   "metadata": {
    "id": "KlY4fFUN3BqG"
   },
   "outputs": [
    {
     "data": {
      "text/html": [
       "<div>\n",
       "<style scoped>\n",
       "    .dataframe tbody tr th:only-of-type {\n",
       "        vertical-align: middle;\n",
       "    }\n",
       "\n",
       "    .dataframe tbody tr th {\n",
       "        vertical-align: top;\n",
       "    }\n",
       "\n",
       "    .dataframe thead th {\n",
       "        text-align: right;\n",
       "    }\n",
       "</style>\n",
       "<table border=\"1\" class=\"dataframe\">\n",
       "  <thead>\n",
       "    <tr style=\"text-align: right;\">\n",
       "      <th></th>\n",
       "      <th>sepal_length</th>\n",
       "      <th>sepal_width</th>\n",
       "      <th>petal.length</th>\n",
       "      <th>petal.width</th>\n",
       "      <th>variety</th>\n",
       "      <th>sepal_length_scaled</th>\n",
       "      <th>sepal_length_mm</th>\n",
       "      <th>sepal_category</th>\n",
       "    </tr>\n",
       "  </thead>\n",
       "  <tbody>\n",
       "    <tr>\n",
       "      <th>0</th>\n",
       "      <td>5.1</td>\n",
       "      <td>3.5</td>\n",
       "      <td>1.4</td>\n",
       "      <td>0.2</td>\n",
       "      <td>Setosa</td>\n",
       "      <td>0.222222</td>\n",
       "      <td>51.0</td>\n",
       "      <td>Rövid</td>\n",
       "    </tr>\n",
       "    <tr>\n",
       "      <th>1</th>\n",
       "      <td>4.9</td>\n",
       "      <td>3.0</td>\n",
       "      <td>1.4</td>\n",
       "      <td>0.2</td>\n",
       "      <td>Setosa</td>\n",
       "      <td>0.166667</td>\n",
       "      <td>49.0</td>\n",
       "      <td>Rövid</td>\n",
       "    </tr>\n",
       "    <tr>\n",
       "      <th>2</th>\n",
       "      <td>4.7</td>\n",
       "      <td>3.2</td>\n",
       "      <td>1.3</td>\n",
       "      <td>0.2</td>\n",
       "      <td>Setosa</td>\n",
       "      <td>0.111111</td>\n",
       "      <td>47.0</td>\n",
       "      <td>Rövid</td>\n",
       "    </tr>\n",
       "    <tr>\n",
       "      <th>3</th>\n",
       "      <td>4.6</td>\n",
       "      <td>3.1</td>\n",
       "      <td>1.5</td>\n",
       "      <td>0.2</td>\n",
       "      <td>Setosa</td>\n",
       "      <td>0.083333</td>\n",
       "      <td>46.0</td>\n",
       "      <td>Rövid</td>\n",
       "    </tr>\n",
       "    <tr>\n",
       "      <th>4</th>\n",
       "      <td>5.0</td>\n",
       "      <td>3.6</td>\n",
       "      <td>1.4</td>\n",
       "      <td>0.2</td>\n",
       "      <td>Setosa</td>\n",
       "      <td>0.194444</td>\n",
       "      <td>50.0</td>\n",
       "      <td>Rövid</td>\n",
       "    </tr>\n",
       "  </tbody>\n",
       "</table>\n",
       "</div>"
      ],
      "text/plain": [
       "   sepal_length  sepal_width  petal.length  petal.width variety  \\\n",
       "0           5.1          3.5           1.4          0.2  Setosa   \n",
       "1           4.9          3.0           1.4          0.2  Setosa   \n",
       "2           4.7          3.2           1.3          0.2  Setosa   \n",
       "3           4.6          3.1           1.5          0.2  Setosa   \n",
       "4           5.0          3.6           1.4          0.2  Setosa   \n",
       "\n",
       "   sepal_length_scaled  sepal_length_mm sepal_category  \n",
       "0             0.222222             51.0          Rövid  \n",
       "1             0.166667             49.0          Rövid  \n",
       "2             0.111111             47.0          Rövid  \n",
       "3             0.083333             46.0          Rövid  \n",
       "4             0.194444             50.0          Rövid  "
      ]
     },
     "metadata": {},
     "output_type": "display_data"
    }
   ],
   "source": [
    "df[\"sepal_category\"] = df[\"sepal_length\"].apply(lambda x: \"Hosszú\" if x > df[\"sepal_length\"].median() else \"Rövid\")\n",
    "display(df.head())\n"
   ]
  },
  {
   "cell_type": "markdown",
   "metadata": {
    "id": "wQ4XFjxs3O4F"
   },
   "source": [
    "Miért hasznos?\n",
    "\n",
    "- Kategóriákat hozhatunk létre numerikus értékekből."
   ]
  },
  {
   "cell_type": "markdown",
   "metadata": {
    "id": "if_pL0tC4w7g"
   },
   "source": [
    "### Több oszlop egyidejű módosítása\n",
    "A csészelevél és szirom hosszát egy új oszlopba összeadjuk."
   ]
  },
  {
   "cell_type": "code",
   "execution_count": 361,
   "metadata": {
    "id": "eOsQk-0H3KaF"
   },
   "outputs": [
    {
     "data": {
      "text/html": [
       "<div>\n",
       "<style scoped>\n",
       "    .dataframe tbody tr th:only-of-type {\n",
       "        vertical-align: middle;\n",
       "    }\n",
       "\n",
       "    .dataframe tbody tr th {\n",
       "        vertical-align: top;\n",
       "    }\n",
       "\n",
       "    .dataframe thead th {\n",
       "        text-align: right;\n",
       "    }\n",
       "</style>\n",
       "<table border=\"1\" class=\"dataframe\">\n",
       "  <thead>\n",
       "    <tr style=\"text-align: right;\">\n",
       "      <th></th>\n",
       "      <th>sepal_length</th>\n",
       "      <th>sepal_width</th>\n",
       "      <th>petal.length</th>\n",
       "      <th>petal.width</th>\n",
       "      <th>variety</th>\n",
       "      <th>sepal_length_scaled</th>\n",
       "      <th>sepal_length_mm</th>\n",
       "      <th>sepal_category</th>\n",
       "      <th>total_length</th>\n",
       "    </tr>\n",
       "  </thead>\n",
       "  <tbody>\n",
       "    <tr>\n",
       "      <th>0</th>\n",
       "      <td>5.1</td>\n",
       "      <td>3.5</td>\n",
       "      <td>1.4</td>\n",
       "      <td>0.2</td>\n",
       "      <td>Setosa</td>\n",
       "      <td>0.222222</td>\n",
       "      <td>51.0</td>\n",
       "      <td>Rövid</td>\n",
       "      <td>6.5</td>\n",
       "    </tr>\n",
       "    <tr>\n",
       "      <th>1</th>\n",
       "      <td>4.9</td>\n",
       "      <td>3.0</td>\n",
       "      <td>1.4</td>\n",
       "      <td>0.2</td>\n",
       "      <td>Setosa</td>\n",
       "      <td>0.166667</td>\n",
       "      <td>49.0</td>\n",
       "      <td>Rövid</td>\n",
       "      <td>6.3</td>\n",
       "    </tr>\n",
       "    <tr>\n",
       "      <th>2</th>\n",
       "      <td>4.7</td>\n",
       "      <td>3.2</td>\n",
       "      <td>1.3</td>\n",
       "      <td>0.2</td>\n",
       "      <td>Setosa</td>\n",
       "      <td>0.111111</td>\n",
       "      <td>47.0</td>\n",
       "      <td>Rövid</td>\n",
       "      <td>6.0</td>\n",
       "    </tr>\n",
       "    <tr>\n",
       "      <th>3</th>\n",
       "      <td>4.6</td>\n",
       "      <td>3.1</td>\n",
       "      <td>1.5</td>\n",
       "      <td>0.2</td>\n",
       "      <td>Setosa</td>\n",
       "      <td>0.083333</td>\n",
       "      <td>46.0</td>\n",
       "      <td>Rövid</td>\n",
       "      <td>6.1</td>\n",
       "    </tr>\n",
       "    <tr>\n",
       "      <th>4</th>\n",
       "      <td>5.0</td>\n",
       "      <td>3.6</td>\n",
       "      <td>1.4</td>\n",
       "      <td>0.2</td>\n",
       "      <td>Setosa</td>\n",
       "      <td>0.194444</td>\n",
       "      <td>50.0</td>\n",
       "      <td>Rövid</td>\n",
       "      <td>6.4</td>\n",
       "    </tr>\n",
       "  </tbody>\n",
       "</table>\n",
       "</div>"
      ],
      "text/plain": [
       "   sepal_length  sepal_width  petal.length  petal.width variety  \\\n",
       "0           5.1          3.5           1.4          0.2  Setosa   \n",
       "1           4.9          3.0           1.4          0.2  Setosa   \n",
       "2           4.7          3.2           1.3          0.2  Setosa   \n",
       "3           4.6          3.1           1.5          0.2  Setosa   \n",
       "4           5.0          3.6           1.4          0.2  Setosa   \n",
       "\n",
       "   sepal_length_scaled  sepal_length_mm sepal_category  total_length  \n",
       "0             0.222222             51.0          Rövid           6.5  \n",
       "1             0.166667             49.0          Rövid           6.3  \n",
       "2             0.111111             47.0          Rövid           6.0  \n",
       "3             0.083333             46.0          Rövid           6.1  \n",
       "4             0.194444             50.0          Rövid           6.4  "
      ]
     },
     "metadata": {},
     "output_type": "display_data"
    }
   ],
   "source": [
    "df[\"total_length\"] = df.apply(lambda row: row[\"sepal_length\"] + row[\"petal.length\"], axis=1)\n",
    "display(df.head())\n"
   ]
  },
  {
   "cell_type": "markdown",
   "metadata": {
    "id": "Y9-F6UVo5Aad"
   },
   "source": [
    "Mi történik itt?\n",
    "\n",
    "- Az apply() az egész oszlopon (column) dolgozik (axis=1).\n",
    "- A lambda függvény hozzáadja a sepal.length és petal.length értékeket."
   ]
  },
  {
   "cell_type": "markdown",
   "metadata": {
    "id": "gWa-auIw5MH_"
   },
   "source": [
    "### Feltételes módosítás (lambda és map())\n",
    "Egy numerikus oszlopot szöveges értékre alakítunk."
   ]
  },
  {
   "cell_type": "code",
   "execution_count": 365,
   "metadata": {
    "id": "fTGYjQoL43BE"
   },
   "outputs": [
    {
     "data": {
      "text/html": [
       "<div>\n",
       "<style scoped>\n",
       "    .dataframe tbody tr th:only-of-type {\n",
       "        vertical-align: middle;\n",
       "    }\n",
       "\n",
       "    .dataframe tbody tr th {\n",
       "        vertical-align: top;\n",
       "    }\n",
       "\n",
       "    .dataframe thead th {\n",
       "        text-align: right;\n",
       "    }\n",
       "</style>\n",
       "<table border=\"1\" class=\"dataframe\">\n",
       "  <thead>\n",
       "    <tr style=\"text-align: right;\">\n",
       "      <th></th>\n",
       "      <th>variety</th>\n",
       "      <th>variety_numeric</th>\n",
       "    </tr>\n",
       "  </thead>\n",
       "  <tbody>\n",
       "    <tr>\n",
       "      <th>0</th>\n",
       "      <td>Setosa</td>\n",
       "      <td>0</td>\n",
       "    </tr>\n",
       "    <tr>\n",
       "      <th>1</th>\n",
       "      <td>Setosa</td>\n",
       "      <td>0</td>\n",
       "    </tr>\n",
       "    <tr>\n",
       "      <th>2</th>\n",
       "      <td>Setosa</td>\n",
       "      <td>0</td>\n",
       "    </tr>\n",
       "    <tr>\n",
       "      <th>3</th>\n",
       "      <td>Setosa</td>\n",
       "      <td>0</td>\n",
       "    </tr>\n",
       "    <tr>\n",
       "      <th>4</th>\n",
       "      <td>Setosa</td>\n",
       "      <td>0</td>\n",
       "    </tr>\n",
       "  </tbody>\n",
       "</table>\n",
       "</div>"
      ],
      "text/plain": [
       "  variety  variety_numeric\n",
       "0  Setosa                0\n",
       "1  Setosa                0\n",
       "2  Setosa                0\n",
       "3  Setosa                0\n",
       "4  Setosa                0"
      ]
     },
     "metadata": {},
     "output_type": "display_data"
    }
   ],
   "source": [
    "# Új oszlop létrehozása: 'variety_numeric'\n",
    "# A 'variety' oszlop kategóriáit (szöveges értékek) alakítjuk át számokká.\n",
    "#\n",
    "# A .map() minden elemre alkalmazza a lambda függvényt:\n",
    "# - ha az érték \"Setosa\", akkor 0\n",
    "# - ha \"Versicolor\", akkor 1\n",
    "# - egyébként (tehát \"Virginica\") akkor 2\n",
    "#\n",
    "# Ez egy egyszerű példája a kategóriák kódolásának (label encoding).\n",
    "\n",
    "df[\"variety_numeric\"] = df[\"variety\"].map(lambda x: 0 if x == \"Setosa\" else (1 if x == \"Versicolor\" else 2))\n",
    "display(df[[\"variety\", \"variety_numeric\"]].head())\n"
   ]
  },
  {
   "cell_type": "markdown",
   "metadata": {
    "id": "xkBYYnoI5RpT"
   },
   "source": [
    "Mit csinál ez?\n",
    "\n",
    "- \"Setosa\" → 0\n",
    "- \"Versicolor\" → 1\n",
    "- \"Virginica\" → 2\n",
    "- Ez segíthet gépi tanulási modellek előkészítésében."
   ]
  },
  {
   "cell_type": "markdown",
   "metadata": {},
   "source": [
    "### Az `map()` függvény használata\n",
    "\n",
    "A `map()` függvény egy pandas **Series** minden elemére alkalmaz egy függvényt vagy szabályt.  \n",
    "Ez nagyon hasznos, ha minden értéket át akarunk alakítani, módosítani vagy kódolni.  \n",
    "\n",
    "**Példa:**\n",
    "\n",
    "- Eredeti sorozat: `[1, 2, 3, 4, 5]`  \n",
    "- `map(lambda x: x * 10)` → minden elemet megszoroz 10-zel  \n",
    "- Eredmény: `[10, 20, 30, 40, 50]`  \n",
    "\n",
    "👉 A `map()` tehát **elem-szinten** dolgozik, és minden értéket átalakít a megadott szabály szerint.  \n",
    "Ez lehet egyszerű művelet (szorzás, összeadás), de akár feltételes logika (if-else) is.  \n"
   ]
  },
  {
   "cell_type": "code",
   "execution_count": 369,
   "metadata": {},
   "outputs": [
    {
     "name": "stdout",
     "output_type": "stream",
     "text": [
      "Eredeti sorozat:\n",
      "0    1\n",
      "1    2\n",
      "2    3\n",
      "3    4\n",
      "4    5\n",
      "dtype: int64\n",
      "\n",
      "Átalakított sorozat:\n",
      "0    10\n",
      "1    20\n",
      "2    30\n",
      "3    40\n",
      "4    50\n",
      "dtype: int64\n"
     ]
    }
   ],
   "source": [
    "# Egyszerű sorozat (Series) számokkal\n",
    "sorozat = pd.Series([1, 2, 3, 4, 5])\n",
    "\n",
    "# A map() minden elemre alkalmaz egy függvényt.\n",
    "# Itt: minden számot megszorozunk 10-zel.\n",
    "uj_sorozat = sorozat.map(lambda x: x * 10)\n",
    "\n",
    "print(\"Eredeti sorozat:\")\n",
    "print(sorozat)\n",
    "print(\"\\nÁtalakított sorozat:\")\n",
    "print(uj_sorozat)"
   ]
  },
  {
   "cell_type": "markdown",
   "metadata": {},
   "source": [
    "### Az `apply()` függvény\n",
    "\n",
    "Az `apply()` sokoldalúbb, mint a `map()`.  \n",
    "- **Series-en** → hasonlóan működik, mint a `map()`: minden elemre alkalmazza a függvényt.  \n",
    "- **DataFrame-en** → oszlopokra vagy sorokra is alkalmazható.\n",
    "\n",
    "**Fontos paraméter:**\n",
    "- `axis=0` (alapértelmezett) → oszloponként futtatja a függvényt  \n",
    "- `axis=1` → soronként futtatja a függvényt  \n",
    "\n",
    "**Példák:**\n",
    "- `df[\"A\"].apply(lambda x: x**2)` → az `A` oszlop minden elemét négyzetre emeli  \n",
    "- `df.apply(sum, axis=0)` → minden oszlop összegét adja meg  \n",
    "- `df.apply(sum, axis=1)` → minden sor összegét adja meg  \n",
    "\n",
    "👉 Az `apply()` nagyon hasznos, ha **saját függvényt** szeretnénk alkalmazni az adatokra, akár sor-, akár oszlopszinten.\n"
   ]
  },
  {
   "cell_type": "code",
   "execution_count": 371,
   "metadata": {},
   "outputs": [
    {
     "name": "stdout",
     "output_type": "stream",
     "text": [
      "Oszloponkénti összeg:\n",
      " A             6\n",
      "B            60\n",
      "A_squared    14\n",
      "dtype: int64\n",
      "\n",
      "Soronkenti összeg:\n",
      " 0    12\n",
      "1    26\n",
      "2    42\n",
      "dtype: int64\n"
     ]
    }
   ],
   "source": [
    "# Kis minta DataFrame\n",
    "df_t = pd.DataFrame({\n",
    "    \"A\": [1, 2, 3],\n",
    "    \"B\": [10, 20, 30]\n",
    "})\n",
    "\n",
    "# apply() egy Series-en (hasonló a map-hoz)\n",
    "df_t[\"A_squared\"] = df_t[\"A\"].apply(lambda x: x**2)\n",
    "\n",
    "# apply() egy DataFrame-en\n",
    "# axis=0 → oszlopokra alkalmazza a függvényt\n",
    "oszlop_osszeg = df_t.apply(sum, axis=0)\n",
    "\n",
    "# axis=1 → sorokra alkalmazza a függvényt\n",
    "sor_osszeg = df_t.apply(sum, axis=1)\n",
    "\n",
    "print(\"Oszloponkénti összeg:\\n\", oszlop_osszeg)\n",
    "print(\"\\nSoronkenti összeg:\\n\", sor_osszeg)\n"
   ]
  },
  {
   "cell_type": "markdown",
   "metadata": {},
   "source": [
    "A .map() és az .apply() tényleg hasonló, de van köztük fontos különbség.\n",
    "\n",
    "Különbség map() és apply() között Series-en\n"
   ]
  },
  {
   "cell_type": "code",
   "execution_count": 374,
   "metadata": {},
   "outputs": [],
   "source": [
    "uj1 = sorozat.map(lambda x: x * 10)    # működik\n",
    "uj2 = sorozat.apply(lambda x: x * 10)  # működik\n"
   ]
  },
  {
   "cell_type": "markdown",
   "metadata": {},
   "source": [
    ".map()\n",
    " - kizárólag Series-re vonatkozik, és elem-szinten futtatja le a függvényt.\n",
    " - egyszerűbb, gyorsabb, ha minden egyes elemet külön akarunk átalakítani.\n",
    "\n",
    ".apply() → általánosabb:\n",
    " - használható Series-en is (ekkor hasonló, mint a .map()),\n",
    " - de használható DataFrame-en is, ahol sorokra vagy oszlopokra is lehet függvényt alkalmazni (axis=0 / axis=1)."
   ]
  },
  {
   "cell_type": "markdown",
   "metadata": {
    "id": "uFiBA-m75ZJo"
   },
   "source": [
    "### Csoportosítás és aggregáció (groupby())\n"
   ]
  },
  {
   "cell_type": "markdown",
   "metadata": {},
   "source": [
    "\n",
    "A `groupby` lehetővé teszi, hogy az adatokat **csoportosítsuk** egy vagy több oszlop alapján,  \n",
    "majd minden csoportra valamilyen összesítést számoljunk (pl. összeg, átlag, darabszám).\n",
    "\n",
    "**Alap szintaxis:**\n",
    "```python\n",
    "df.groupby(\"Oszlopnév\")[\"MásikOszlop\"].függvény()\n"
   ]
  },
  {
   "cell_type": "markdown",
   "metadata": {
    "id": "RKQOJqWD5nNO"
   },
   "source": [
    "### Átlagok számítása fajonként\n",
    "Nézzük meg, hogy az átlagos csészelevél hossz hogyan változik a három Iris faj között."
   ]
  },
  {
   "cell_type": "code",
   "execution_count": 380,
   "metadata": {
    "id": "C2f6dVOt5QLk"
   },
   "outputs": [
    {
     "name": "stdout",
     "output_type": "stream",
     "text": [
      "variety\n",
      "Setosa        5.006000\n",
      "Versicolor    5.936000\n",
      "Virginica     6.604082\n",
      "Name: sepal_length, dtype: float64\n"
     ]
    }
   ],
   "source": [
    "df_grouped = df.groupby(\"variety\")[\"sepal_length\"].mean()\n",
    "print(df_grouped)\n"
   ]
  },
  {
   "cell_type": "markdown",
   "metadata": {
    "id": "27kBm3dH5uD7"
   },
   "source": [
    "Miért hasznos?\n",
    "\n",
    "- Megmutatja, hogy a különböző fajok között eltérések vannak a csészelevél hosszában."
   ]
  },
  {
   "cell_type": "markdown",
   "metadata": {
    "id": "CRB7J7lH6N60"
   },
   "source": [
    "### Összes numerikus oszlop kiválasztása"
   ]
  },
  {
   "cell_type": "code",
   "execution_count": 384,
   "metadata": {
    "id": "PXaLOXJv6UnY"
   },
   "outputs": [
    {
     "data": {
      "text/plain": [
       "Index(['sepal_length', 'sepal_width', 'petal.length', 'petal.width',\n",
       "       'sepal_length_scaled', 'sepal_length_mm', 'total_length',\n",
       "       'variety_numeric'],\n",
       "      dtype='object')"
      ]
     },
     "execution_count": 384,
     "metadata": {},
     "output_type": "execute_result"
    }
   ],
   "source": [
    "# Numerikus oszlopok kiválasztása\n",
    "numerikus_oszlopok = df.select_dtypes(include=[\"number\"]).columns\n",
    "numerikus_oszlopok\n"
   ]
  },
  {
   "cell_type": "markdown",
   "metadata": {
    "id": "OXTtFdiv7MsT"
   },
   "source": [
    "### Csak nem numerikus oszlopok kiválasztása\n",
    "\n",
    "Ha azokat az oszlopokat szeretnénk megkapni, amelyek nem numerikusak:"
   ]
  },
  {
   "cell_type": "code",
   "execution_count": 387,
   "metadata": {
    "id": "PaO0IczG7QJG"
   },
   "outputs": [
    {
     "data": {
      "text/plain": [
       "Index(['variety', 'sepal_category'], dtype='object')"
      ]
     },
     "execution_count": 387,
     "metadata": {},
     "output_type": "execute_result"
    }
   ],
   "source": [
    "nem_numerikus_oszlopok = df.select_dtypes(exclude=[\"number\"]).columns\n",
    "nem_numerikus_oszlopok\n"
   ]
  },
  {
   "cell_type": "markdown",
   "metadata": {
    "id": "yBxQwn_o5wnQ"
   },
   "source": [
    "### Több aggregáció egyben\n",
    "Nézzük meg az átlagot és szórást minden oszlopra fajonként."
   ]
  },
  {
   "cell_type": "code",
   "execution_count": 390,
   "metadata": {
    "id": "hACUrMPe6Aob"
   },
   "outputs": [
    {
     "data": {
      "text/plain": [
       "['sepal_length', 'sepal_width', 'petal.length', 'petal.width', 'variety']"
      ]
     },
     "execution_count": 390,
     "metadata": {},
     "output_type": "execute_result"
    }
   ],
   "source": [
    "megfigyelt_oszlopok = list(numerikus_oszlopok[:4]) + list(nem_numerikus_oszlopok[:1])\n",
    "megfigyelt_oszlopok"
   ]
  },
  {
   "cell_type": "code",
   "execution_count": 392,
   "metadata": {
    "id": "S4b_u8ce5rb0"
   },
   "outputs": [
    {
     "data": {
      "text/html": [
       "<div>\n",
       "<style scoped>\n",
       "    .dataframe tbody tr th:only-of-type {\n",
       "        vertical-align: middle;\n",
       "    }\n",
       "\n",
       "    .dataframe tbody tr th {\n",
       "        vertical-align: top;\n",
       "    }\n",
       "\n",
       "    .dataframe thead tr th {\n",
       "        text-align: left;\n",
       "    }\n",
       "\n",
       "    .dataframe thead tr:last-of-type th {\n",
       "        text-align: right;\n",
       "    }\n",
       "</style>\n",
       "<table border=\"1\" class=\"dataframe\">\n",
       "  <thead>\n",
       "    <tr>\n",
       "      <th></th>\n",
       "      <th colspan=\"2\" halign=\"left\">sepal_length</th>\n",
       "      <th colspan=\"2\" halign=\"left\">sepal_width</th>\n",
       "      <th colspan=\"2\" halign=\"left\">petal.length</th>\n",
       "      <th colspan=\"2\" halign=\"left\">petal.width</th>\n",
       "    </tr>\n",
       "    <tr>\n",
       "      <th></th>\n",
       "      <th>mean</th>\n",
       "      <th>std</th>\n",
       "      <th>mean</th>\n",
       "      <th>std</th>\n",
       "      <th>mean</th>\n",
       "      <th>std</th>\n",
       "      <th>mean</th>\n",
       "      <th>std</th>\n",
       "    </tr>\n",
       "    <tr>\n",
       "      <th>variety</th>\n",
       "      <th></th>\n",
       "      <th></th>\n",
       "      <th></th>\n",
       "      <th></th>\n",
       "      <th></th>\n",
       "      <th></th>\n",
       "      <th></th>\n",
       "      <th></th>\n",
       "    </tr>\n",
       "  </thead>\n",
       "  <tbody>\n",
       "    <tr>\n",
       "      <th>Setosa</th>\n",
       "      <td>5.006000</td>\n",
       "      <td>0.352490</td>\n",
       "      <td>3.428000</td>\n",
       "      <td>0.379064</td>\n",
       "      <td>1.462000</td>\n",
       "      <td>0.173664</td>\n",
       "      <td>0.246000</td>\n",
       "      <td>0.105386</td>\n",
       "    </tr>\n",
       "    <tr>\n",
       "      <th>Versicolor</th>\n",
       "      <td>5.936000</td>\n",
       "      <td>0.516171</td>\n",
       "      <td>2.770000</td>\n",
       "      <td>0.313798</td>\n",
       "      <td>4.260000</td>\n",
       "      <td>0.469911</td>\n",
       "      <td>1.326000</td>\n",
       "      <td>0.197753</td>\n",
       "    </tr>\n",
       "    <tr>\n",
       "      <th>Virginica</th>\n",
       "      <td>6.604082</td>\n",
       "      <td>0.632113</td>\n",
       "      <td>2.979592</td>\n",
       "      <td>0.323380</td>\n",
       "      <td>5.561224</td>\n",
       "      <td>0.553706</td>\n",
       "      <td>2.028571</td>\n",
       "      <td>0.276887</td>\n",
       "    </tr>\n",
       "  </tbody>\n",
       "</table>\n",
       "</div>"
      ],
      "text/plain": [
       "           sepal_length           sepal_width           petal.length  \\\n",
       "                   mean       std        mean       std         mean   \n",
       "variety                                                                \n",
       "Setosa         5.006000  0.352490    3.428000  0.379064     1.462000   \n",
       "Versicolor     5.936000  0.516171    2.770000  0.313798     4.260000   \n",
       "Virginica      6.604082  0.632113    2.979592  0.323380     5.561224   \n",
       "\n",
       "                     petal.width            \n",
       "                 std        mean       std  \n",
       "variety                                     \n",
       "Setosa      0.173664    0.246000  0.105386  \n",
       "Versicolor  0.469911    1.326000  0.197753  \n",
       "Virginica   0.553706    2.028571  0.276887  "
      ]
     },
     "metadata": {},
     "output_type": "display_data"
    }
   ],
   "source": [
    "df_grouped = df.loc[:,megfigyelt_oszlopok].groupby('variety').agg([\"mean\", \"std\"])\n",
    "display(df_grouped)\n"
   ]
  },
  {
   "cell_type": "markdown",
   "metadata": {
    "id": "diaE8_k78aby"
   },
   "source": [
    "Miért hasznos?\n",
    "\n",
    "- Egyszerre több statisztikai mutatót láthatunk."
   ]
  },
  {
   "cell_type": "markdown",
   "metadata": {
    "id": "ZWgwPhwX7fNj"
   },
   "source": [
    "### Több oszlop aggregálása eltérő statisztikákkal\n",
    "\n",
    "Megnézhetjük a csészelevél hosszának átlagát és a szirom hosszának maximális értékét fajonként."
   ]
  },
  {
   "cell_type": "code",
   "execution_count": 396,
   "metadata": {
    "id": "y6NIxnUb5zBT"
   },
   "outputs": [
    {
     "name": "stdout",
     "output_type": "stream",
     "text": [
      "            sepal_length  petal.length\n",
      "variety                               \n",
      "Setosa          5.006000           1.9\n",
      "Versicolor      5.936000           5.1\n",
      "Virginica       6.604082           6.9\n"
     ]
    }
   ],
   "source": [
    "df_grouped = df.loc[:,megfigyelt_oszlopok].groupby(\"variety\").agg({\n",
    "    \"sepal_length\": \"mean\",\n",
    "    \"petal.length\": \"max\"\n",
    "})\n",
    "print(df_grouped)\n"
   ]
  },
  {
   "cell_type": "markdown",
   "metadata": {
    "id": "IrcHyKv68YF6"
   },
   "source": [
    "Miért hasznos?\n",
    "\n",
    "- Különböző metrikák használhatók egyszerre."
   ]
  },
  {
   "cell_type": "markdown",
   "metadata": {
    "id": "CJRFXDXx8eZT"
   },
   "source": [
    "### Csoportok méretének ellenőrzése\n",
    "\n",
    "Ha tudni szeretnénk, hogy hány minta tartozik egy-egy csoportba, használjuk a size() függvényt:"
   ]
  },
  {
   "cell_type": "code",
   "execution_count": 400,
   "metadata": {
    "id": "jD_JQslL8Rmy"
   },
   "outputs": [
    {
     "name": "stdout",
     "output_type": "stream",
     "text": [
      "variety\n",
      "Setosa        50\n",
      "Versicolor    50\n",
      "Virginica     49\n",
      "dtype: int64\n"
     ]
    }
   ],
   "source": [
    "df_grouped = df.loc[:,megfigyelt_oszlopok].groupby(\"variety\").size()\n",
    "print(df_grouped)\n"
   ]
  },
  {
   "cell_type": "markdown",
   "metadata": {
    "id": "dWD_9hMZ8mIm"
   },
   "source": [
    "Miért hasznos?\n",
    "\n",
    "- Ellenőrizhetjük, hogy az adathalmaz kiegyensúlyozott-e."
   ]
  },
  {
   "cell_type": "markdown",
   "metadata": {
    "id": "xkr806TI8qVs"
   },
   "source": [
    "### Szűrés és rendezés\n",
    "A groupby() után gyakran szeretnénk rendezni vagy szűrni az adatokat."
   ]
  },
  {
   "cell_type": "markdown",
   "metadata": {
    "id": "9EgygwvO8uHO"
   },
   "source": [
    "## Szűrés egy feltétel alapján\n",
    "Például csak a 6 cm-nél hosszabb csészelevéllel rendelkező példányokat nézzük:"
   ]
  },
  {
   "cell_type": "code",
   "execution_count": 405,
   "metadata": {
    "id": "VPINMjN08pra"
   },
   "outputs": [
    {
     "data": {
      "text/html": [
       "<div>\n",
       "<style scoped>\n",
       "    .dataframe tbody tr th:only-of-type {\n",
       "        vertical-align: middle;\n",
       "    }\n",
       "\n",
       "    .dataframe tbody tr th {\n",
       "        vertical-align: top;\n",
       "    }\n",
       "\n",
       "    .dataframe thead th {\n",
       "        text-align: right;\n",
       "    }\n",
       "</style>\n",
       "<table border=\"1\" class=\"dataframe\">\n",
       "  <thead>\n",
       "    <tr style=\"text-align: right;\">\n",
       "      <th></th>\n",
       "      <th>sepal_length</th>\n",
       "      <th>sepal_width</th>\n",
       "      <th>petal.length</th>\n",
       "      <th>petal.width</th>\n",
       "      <th>variety</th>\n",
       "      <th>sepal_length_scaled</th>\n",
       "      <th>sepal_length_mm</th>\n",
       "      <th>sepal_category</th>\n",
       "      <th>total_length</th>\n",
       "      <th>variety_numeric</th>\n",
       "    </tr>\n",
       "  </thead>\n",
       "  <tbody>\n",
       "    <tr>\n",
       "      <th>50</th>\n",
       "      <td>7.0</td>\n",
       "      <td>3.2</td>\n",
       "      <td>4.7</td>\n",
       "      <td>1.4</td>\n",
       "      <td>Versicolor</td>\n",
       "      <td>0.750000</td>\n",
       "      <td>70.0</td>\n",
       "      <td>Hosszú</td>\n",
       "      <td>11.7</td>\n",
       "      <td>1</td>\n",
       "    </tr>\n",
       "    <tr>\n",
       "      <th>51</th>\n",
       "      <td>6.4</td>\n",
       "      <td>3.2</td>\n",
       "      <td>4.5</td>\n",
       "      <td>1.5</td>\n",
       "      <td>Versicolor</td>\n",
       "      <td>0.583333</td>\n",
       "      <td>64.0</td>\n",
       "      <td>Hosszú</td>\n",
       "      <td>10.9</td>\n",
       "      <td>1</td>\n",
       "    </tr>\n",
       "    <tr>\n",
       "      <th>52</th>\n",
       "      <td>6.9</td>\n",
       "      <td>3.1</td>\n",
       "      <td>4.9</td>\n",
       "      <td>1.5</td>\n",
       "      <td>Versicolor</td>\n",
       "      <td>0.722222</td>\n",
       "      <td>69.0</td>\n",
       "      <td>Hosszú</td>\n",
       "      <td>11.8</td>\n",
       "      <td>1</td>\n",
       "    </tr>\n",
       "    <tr>\n",
       "      <th>54</th>\n",
       "      <td>6.5</td>\n",
       "      <td>2.8</td>\n",
       "      <td>4.6</td>\n",
       "      <td>1.5</td>\n",
       "      <td>Versicolor</td>\n",
       "      <td>0.611111</td>\n",
       "      <td>65.0</td>\n",
       "      <td>Hosszú</td>\n",
       "      <td>11.1</td>\n",
       "      <td>1</td>\n",
       "    </tr>\n",
       "    <tr>\n",
       "      <th>56</th>\n",
       "      <td>6.3</td>\n",
       "      <td>3.3</td>\n",
       "      <td>4.7</td>\n",
       "      <td>1.6</td>\n",
       "      <td>Versicolor</td>\n",
       "      <td>0.555556</td>\n",
       "      <td>63.0</td>\n",
       "      <td>Hosszú</td>\n",
       "      <td>11.0</td>\n",
       "      <td>1</td>\n",
       "    </tr>\n",
       "  </tbody>\n",
       "</table>\n",
       "</div>"
      ],
      "text/plain": [
       "    sepal_length  sepal_width  petal.length  petal.width     variety  \\\n",
       "50           7.0          3.2           4.7          1.4  Versicolor   \n",
       "51           6.4          3.2           4.5          1.5  Versicolor   \n",
       "52           6.9          3.1           4.9          1.5  Versicolor   \n",
       "54           6.5          2.8           4.6          1.5  Versicolor   \n",
       "56           6.3          3.3           4.7          1.6  Versicolor   \n",
       "\n",
       "    sepal_length_scaled  sepal_length_mm sepal_category  total_length  \\\n",
       "50             0.750000             70.0         Hosszú          11.7   \n",
       "51             0.583333             64.0         Hosszú          10.9   \n",
       "52             0.722222             69.0         Hosszú          11.8   \n",
       "54             0.611111             65.0         Hosszú          11.1   \n",
       "56             0.555556             63.0         Hosszú          11.0   \n",
       "\n",
       "    variety_numeric  \n",
       "50                1  \n",
       "51                1  \n",
       "52                1  \n",
       "54                1  \n",
       "56                1  "
      ]
     },
     "metadata": {},
     "output_type": "display_data"
    }
   ],
   "source": [
    "df_filtered = df[df[\"sepal_length\"] > 6]\n",
    "display(df_filtered.head())\n"
   ]
  },
  {
   "cell_type": "markdown",
   "metadata": {
    "id": "dHJH182E81hy"
   },
   "source": [
    "Miért hasznos?\n",
    "\n",
    "- Kiszűrhetjük azokat az adatokat, amelyek megfelelnek egy bizonyos kritériumnak."
   ]
  },
  {
   "cell_type": "markdown",
   "metadata": {
    "id": "yjlhRoUz84zi"
   },
   "source": [
    "### Rendezés csökkenő sorrendben\n",
    "Ha az adathalmazt csészelevél hossz szerint csökkenő sorrendbe akarjuk rendezni:"
   ]
  },
  {
   "cell_type": "code",
   "execution_count": 409,
   "metadata": {
    "id": "A6EGYGi78jnS"
   },
   "outputs": [
    {
     "data": {
      "text/html": [
       "<div>\n",
       "<style scoped>\n",
       "    .dataframe tbody tr th:only-of-type {\n",
       "        vertical-align: middle;\n",
       "    }\n",
       "\n",
       "    .dataframe tbody tr th {\n",
       "        vertical-align: top;\n",
       "    }\n",
       "\n",
       "    .dataframe thead th {\n",
       "        text-align: right;\n",
       "    }\n",
       "</style>\n",
       "<table border=\"1\" class=\"dataframe\">\n",
       "  <thead>\n",
       "    <tr style=\"text-align: right;\">\n",
       "      <th></th>\n",
       "      <th>sepal_length</th>\n",
       "      <th>sepal_width</th>\n",
       "      <th>petal.length</th>\n",
       "      <th>petal.width</th>\n",
       "      <th>variety</th>\n",
       "      <th>sepal_length_scaled</th>\n",
       "      <th>sepal_length_mm</th>\n",
       "      <th>sepal_category</th>\n",
       "      <th>total_length</th>\n",
       "      <th>variety_numeric</th>\n",
       "    </tr>\n",
       "  </thead>\n",
       "  <tbody>\n",
       "    <tr>\n",
       "      <th>131</th>\n",
       "      <td>7.9</td>\n",
       "      <td>3.8</td>\n",
       "      <td>6.4</td>\n",
       "      <td>2.0</td>\n",
       "      <td>Virginica</td>\n",
       "      <td>1.000000</td>\n",
       "      <td>79.0</td>\n",
       "      <td>Hosszú</td>\n",
       "      <td>14.3</td>\n",
       "      <td>2</td>\n",
       "    </tr>\n",
       "    <tr>\n",
       "      <th>135</th>\n",
       "      <td>7.7</td>\n",
       "      <td>3.0</td>\n",
       "      <td>6.1</td>\n",
       "      <td>2.3</td>\n",
       "      <td>Virginica</td>\n",
       "      <td>0.944444</td>\n",
       "      <td>77.0</td>\n",
       "      <td>Hosszú</td>\n",
       "      <td>13.8</td>\n",
       "      <td>2</td>\n",
       "    </tr>\n",
       "    <tr>\n",
       "      <th>117</th>\n",
       "      <td>7.7</td>\n",
       "      <td>3.8</td>\n",
       "      <td>6.7</td>\n",
       "      <td>2.2</td>\n",
       "      <td>Virginica</td>\n",
       "      <td>0.944444</td>\n",
       "      <td>77.0</td>\n",
       "      <td>Hosszú</td>\n",
       "      <td>14.4</td>\n",
       "      <td>2</td>\n",
       "    </tr>\n",
       "    <tr>\n",
       "      <th>118</th>\n",
       "      <td>7.7</td>\n",
       "      <td>2.6</td>\n",
       "      <td>6.9</td>\n",
       "      <td>2.3</td>\n",
       "      <td>Virginica</td>\n",
       "      <td>0.944444</td>\n",
       "      <td>77.0</td>\n",
       "      <td>Hosszú</td>\n",
       "      <td>14.6</td>\n",
       "      <td>2</td>\n",
       "    </tr>\n",
       "    <tr>\n",
       "      <th>122</th>\n",
       "      <td>7.7</td>\n",
       "      <td>2.8</td>\n",
       "      <td>6.7</td>\n",
       "      <td>2.0</td>\n",
       "      <td>Virginica</td>\n",
       "      <td>0.944444</td>\n",
       "      <td>77.0</td>\n",
       "      <td>Hosszú</td>\n",
       "      <td>14.4</td>\n",
       "      <td>2</td>\n",
       "    </tr>\n",
       "  </tbody>\n",
       "</table>\n",
       "</div>"
      ],
      "text/plain": [
       "     sepal_length  sepal_width  petal.length  petal.width    variety  \\\n",
       "131           7.9          3.8           6.4          2.0  Virginica   \n",
       "135           7.7          3.0           6.1          2.3  Virginica   \n",
       "117           7.7          3.8           6.7          2.2  Virginica   \n",
       "118           7.7          2.6           6.9          2.3  Virginica   \n",
       "122           7.7          2.8           6.7          2.0  Virginica   \n",
       "\n",
       "     sepal_length_scaled  sepal_length_mm sepal_category  total_length  \\\n",
       "131             1.000000             79.0         Hosszú          14.3   \n",
       "135             0.944444             77.0         Hosszú          13.8   \n",
       "117             0.944444             77.0         Hosszú          14.4   \n",
       "118             0.944444             77.0         Hosszú          14.6   \n",
       "122             0.944444             77.0         Hosszú          14.4   \n",
       "\n",
       "     variety_numeric  \n",
       "131                2  \n",
       "135                2  \n",
       "117                2  \n",
       "118                2  \n",
       "122                2  "
      ]
     },
     "metadata": {},
     "output_type": "display_data"
    }
   ],
   "source": [
    "df_sorted = df.sort_values(by=\"sepal_length\", ascending=False)\n",
    "display(df_sorted.head())\n"
   ]
  },
  {
   "cell_type": "markdown",
   "metadata": {
    "id": "QIJsCsSX9E5O"
   },
   "source": [
    "### lambda és groupby() kombinálása\n",
    "\n",
    "A lambda függvényt groupby() műveleteknél is használhatjuk, például egyedi aggregációk létrehozására."
   ]
  },
  {
   "cell_type": "markdown",
   "metadata": {
    "id": "PF6CtMvc9HyF"
   },
   "source": [
    "### Százalékos növekedés számítása fajonként\n",
    "Megnézzük, hogy az átlagos csészelevél hossz mennyiben tér el a teljes átlagtól minden fajnál."
   ]
  },
  {
   "cell_type": "code",
   "execution_count": 413,
   "metadata": {
    "id": "uVBvHlKb9Lcu"
   },
   "outputs": [],
   "source": [
    "df = df.loc[:,megfigyelt_oszlopok]"
   ]
  },
  {
   "cell_type": "code",
   "execution_count": 417,
   "metadata": {
    "id": "HzXUpHUF8-Zh"
   },
   "outputs": [
    {
     "data": {
      "text/plain": [
       "variety\n",
       "Setosa       -14.333984\n",
       "Versicolor     1.580797\n",
       "Virginica     13.013456\n",
       "Name: sepal_length, dtype: float64"
      ]
     },
     "metadata": {},
     "output_type": "display_data"
    }
   ],
   "source": [
    "df_grouped = (\n",
    "    df.groupby(\"variety\")[\"sepal_length\"].mean()   # 1. Átlagos csészelevél-hossz fajtánként\n",
    "      .apply(lambda x: \n",
    "             (x - df[\"sepal_length\"].mean())       # 2. Különbség az általános átlagtól\n",
    "             / df[\"sepal_length\"].mean() * 100)    # 3. Eltérés százalékban\n",
    ")\n",
    "\n",
    "display(df_grouped)\n"
   ]
  },
  {
   "cell_type": "markdown",
   "metadata": {
    "id": "t7eqnxVc9Z5m"
   },
   "source": [
    "Mi történik itt?\n",
    "\n",
    "- groupby(\"variety\")[\"sepal_length\"].mean(): Kiszámítjuk az átlagos csészelevél hosszt fajonként.\n",
    "- apply(lambda x: (x - globális átlag) / globális átlag * 100): Kiszámítjuk a százalékos eltérést az összes minta átlagához képest."
   ]
  },
  {
   "cell_type": "markdown",
   "metadata": {
    "id": "S9ncBJCk9fE_"
   },
   "source": [
    "### Egyedi statisztikák számítása fajonként\n",
    "Megnézzük, hogy a szirom hosszának átlagos értéke hogyan változik fajonként."
   ]
  },
  {
   "cell_type": "code",
   "execution_count": 420,
   "metadata": {
    "id": "atf3wpyy9U8B"
   },
   "outputs": [
    {
     "data": {
      "text/html": [
       "<div>\n",
       "<style scoped>\n",
       "    .dataframe tbody tr th:only-of-type {\n",
       "        vertical-align: middle;\n",
       "    }\n",
       "\n",
       "    .dataframe tbody tr th {\n",
       "        vertical-align: top;\n",
       "    }\n",
       "\n",
       "    .dataframe thead th {\n",
       "        text-align: right;\n",
       "    }\n",
       "</style>\n",
       "<table border=\"1\" class=\"dataframe\">\n",
       "  <thead>\n",
       "    <tr style=\"text-align: right;\">\n",
       "      <th></th>\n",
       "      <th>avg_petal_length</th>\n",
       "      <th>petal_length_category</th>\n",
       "    </tr>\n",
       "    <tr>\n",
       "      <th>variety</th>\n",
       "      <th></th>\n",
       "      <th></th>\n",
       "    </tr>\n",
       "  </thead>\n",
       "  <tbody>\n",
       "    <tr>\n",
       "      <th>Setosa</th>\n",
       "      <td>1.462000</td>\n",
       "      <td>Rövid</td>\n",
       "    </tr>\n",
       "    <tr>\n",
       "      <th>Versicolor</th>\n",
       "      <td>4.260000</td>\n",
       "      <td>Rövid</td>\n",
       "    </tr>\n",
       "    <tr>\n",
       "      <th>Virginica</th>\n",
       "      <td>5.561224</td>\n",
       "      <td>Hosszú</td>\n",
       "    </tr>\n",
       "  </tbody>\n",
       "</table>\n",
       "</div>"
      ],
      "text/plain": [
       "            avg_petal_length petal_length_category\n",
       "variety                                           \n",
       "Setosa              1.462000                 Rövid\n",
       "Versicolor          4.260000                 Rövid\n",
       "Virginica           5.561224                Hosszú"
      ]
     },
     "metadata": {},
     "output_type": "display_data"
    }
   ],
   "source": [
    "df_grouped = df.groupby(\"variety\").agg(\n",
    "    avg_petal_length=(\"petal.length\", \"mean\"),   # 1 fajonkénti átlagos sziromhossz\n",
    "    petal_length_category=(                     # 2 kategorizálás átlag alapján\n",
    "        \"petal.length\",\n",
    "        lambda x: \"Rövid\" if x.mean() < df[\"petal.length\"].median() else \"Hosszú\"\n",
    "    )\n",
    ")\n",
    "\n",
    "display(df_grouped)\n"
   ]
  },
  {
   "cell_type": "markdown",
   "metadata": {
    "id": "ZUrtRLZ69l3d"
   },
   "source": [
    "Mi történik itt?\n",
    "\n",
    "- Átlag számítása: (\"petal.length\", \"mean\")\n",
    "- Kategorizálás lambda segítségével:\n",
    "- Ha az adott faj átlagos sziromhossza kisebb, mint a teljes medián, akkor \"Rövid\", egyébként \"Hosszú\"."
   ]
  },
  {
   "cell_type": "markdown",
   "metadata": {
    "id": "_EsMbh_wFqSE"
   },
   "source": [
    "## Mi lehet még fotos?\n",
    "\n",
    "Vizualizáción kívül az alábbi fontos adatfeldolgozási és elemzési lépések még kimaradtak, amelyeket egy Data Science projekt elején gyakran végzünk:"
   ]
  },
  {
   "cell_type": "markdown",
   "metadata": {
    "id": "yVRXe5mxF2H8"
   },
   "source": [
    "## Kategóriák és szöveges adatok feldolgozása\n",
    "\n",
    "Bár az Iris dataset nagyrészt numerikus adatokat tartalmaz, van egy kategóriális oszlop (variety), amelyet érdemes megfelelően feldolgozni."
   ]
  },
  {
   "cell_type": "code",
   "execution_count": 425,
   "metadata": {
    "id": "XbzZjXOU9jxx"
   },
   "outputs": [
    {
     "name": "stdout",
     "output_type": "stream",
     "text": [
      "variety\n",
      "Setosa        50\n",
      "Versicolor    50\n",
      "Virginica     49\n",
      "Name: count, dtype: int64\n"
     ]
    }
   ],
   "source": [
    "print(df[\"variety\"].value_counts())\n"
   ]
  },
  {
   "cell_type": "markdown",
   "metadata": {
    "id": "6VM2PLrDF8SC"
   },
   "source": [
    "Miért fontos?\n",
    "\n",
    "- Megmutatja, hogy az egyes kategóriák milyen arányban vannak jelen."
   ]
  },
  {
   "cell_type": "markdown",
   "metadata": {
    "id": "B6hJBUbxF-x4"
   },
   "source": [
    "### Kategóriák kódolása numerikus értékekkel\n",
    "A gépi tanulás modellek nem tudnak szöveges kategóriákkal dolgozni, ezért numerikussá kell alakítani őket."
   ]
  },
  {
   "cell_type": "markdown",
   "metadata": {
    "id": "G62k1BnwGFnJ"
   },
   "source": [
    " Label Encoding (egyszerű számozás)"
   ]
  },
  {
   "cell_type": "code",
   "execution_count": 430,
   "metadata": {
    "id": "Z9m5g4tAF56N"
   },
   "outputs": [
    {
     "data": {
      "text/html": [
       "<div>\n",
       "<style scoped>\n",
       "    .dataframe tbody tr th:only-of-type {\n",
       "        vertical-align: middle;\n",
       "    }\n",
       "\n",
       "    .dataframe tbody tr th {\n",
       "        vertical-align: top;\n",
       "    }\n",
       "\n",
       "    .dataframe thead th {\n",
       "        text-align: right;\n",
       "    }\n",
       "</style>\n",
       "<table border=\"1\" class=\"dataframe\">\n",
       "  <thead>\n",
       "    <tr style=\"text-align: right;\">\n",
       "      <th></th>\n",
       "      <th>variety</th>\n",
       "      <th>variety_encoded</th>\n",
       "    </tr>\n",
       "  </thead>\n",
       "  <tbody>\n",
       "    <tr>\n",
       "      <th>0</th>\n",
       "      <td>Setosa</td>\n",
       "      <td>0</td>\n",
       "    </tr>\n",
       "    <tr>\n",
       "      <th>1</th>\n",
       "      <td>Setosa</td>\n",
       "      <td>0</td>\n",
       "    </tr>\n",
       "    <tr>\n",
       "      <th>2</th>\n",
       "      <td>Setosa</td>\n",
       "      <td>0</td>\n",
       "    </tr>\n",
       "    <tr>\n",
       "      <th>3</th>\n",
       "      <td>Setosa</td>\n",
       "      <td>0</td>\n",
       "    </tr>\n",
       "    <tr>\n",
       "      <th>4</th>\n",
       "      <td>Setosa</td>\n",
       "      <td>0</td>\n",
       "    </tr>\n",
       "  </tbody>\n",
       "</table>\n",
       "</div>"
      ],
      "text/plain": [
       "  variety  variety_encoded\n",
       "0  Setosa                0\n",
       "1  Setosa                0\n",
       "2  Setosa                0\n",
       "3  Setosa                0\n",
       "4  Setosa                0"
      ]
     },
     "metadata": {},
     "output_type": "display_data"
    }
   ],
   "source": [
    "df[\"variety_encoded\"] = df[\"variety\"].astype(\"category\").cat.codes\n",
    "display(df[[\"variety\", \"variety_encoded\"]].head())"
   ]
  },
  {
   "cell_type": "markdown",
   "metadata": {
    "id": "6ktBr-zuGNAa"
   },
   "source": [
    "Miért fontos?\n",
    "\n",
    "- Ha egy oszlop néhány kategóriát tartalmaz, ez egy egyszerű megoldás."
   ]
  },
  {
   "cell_type": "markdown",
   "metadata": {
    "id": "dZwk_UwqGPw8"
   },
   "source": [
    "One-Hot Encoding (dummy változók)"
   ]
  },
  {
   "cell_type": "code",
   "execution_count": 434,
   "metadata": {
    "id": "lzMpXfpVGKFM"
   },
   "outputs": [
    {
     "data": {
      "text/html": [
       "<div>\n",
       "<style scoped>\n",
       "    .dataframe tbody tr th:only-of-type {\n",
       "        vertical-align: middle;\n",
       "    }\n",
       "\n",
       "    .dataframe tbody tr th {\n",
       "        vertical-align: top;\n",
       "    }\n",
       "\n",
       "    .dataframe thead th {\n",
       "        text-align: right;\n",
       "    }\n",
       "</style>\n",
       "<table border=\"1\" class=\"dataframe\">\n",
       "  <thead>\n",
       "    <tr style=\"text-align: right;\">\n",
       "      <th></th>\n",
       "      <th>sepal_length</th>\n",
       "      <th>sepal_width</th>\n",
       "      <th>petal.length</th>\n",
       "      <th>petal.width</th>\n",
       "      <th>variety_encoded</th>\n",
       "      <th>variety_Setosa</th>\n",
       "      <th>variety_Versicolor</th>\n",
       "      <th>variety_Virginica</th>\n",
       "    </tr>\n",
       "  </thead>\n",
       "  <tbody>\n",
       "    <tr>\n",
       "      <th>0</th>\n",
       "      <td>5.1</td>\n",
       "      <td>3.5</td>\n",
       "      <td>1.4</td>\n",
       "      <td>0.2</td>\n",
       "      <td>0</td>\n",
       "      <td>True</td>\n",
       "      <td>False</td>\n",
       "      <td>False</td>\n",
       "    </tr>\n",
       "    <tr>\n",
       "      <th>1</th>\n",
       "      <td>4.9</td>\n",
       "      <td>3.0</td>\n",
       "      <td>1.4</td>\n",
       "      <td>0.2</td>\n",
       "      <td>0</td>\n",
       "      <td>True</td>\n",
       "      <td>False</td>\n",
       "      <td>False</td>\n",
       "    </tr>\n",
       "    <tr>\n",
       "      <th>2</th>\n",
       "      <td>4.7</td>\n",
       "      <td>3.2</td>\n",
       "      <td>1.3</td>\n",
       "      <td>0.2</td>\n",
       "      <td>0</td>\n",
       "      <td>True</td>\n",
       "      <td>False</td>\n",
       "      <td>False</td>\n",
       "    </tr>\n",
       "    <tr>\n",
       "      <th>3</th>\n",
       "      <td>4.6</td>\n",
       "      <td>3.1</td>\n",
       "      <td>1.5</td>\n",
       "      <td>0.2</td>\n",
       "      <td>0</td>\n",
       "      <td>True</td>\n",
       "      <td>False</td>\n",
       "      <td>False</td>\n",
       "    </tr>\n",
       "    <tr>\n",
       "      <th>4</th>\n",
       "      <td>5.0</td>\n",
       "      <td>3.6</td>\n",
       "      <td>1.4</td>\n",
       "      <td>0.2</td>\n",
       "      <td>0</td>\n",
       "      <td>True</td>\n",
       "      <td>False</td>\n",
       "      <td>False</td>\n",
       "    </tr>\n",
       "  </tbody>\n",
       "</table>\n",
       "</div>"
      ],
      "text/plain": [
       "   sepal_length  sepal_width  petal.length  petal.width  variety_encoded  \\\n",
       "0           5.1          3.5           1.4          0.2                0   \n",
       "1           4.9          3.0           1.4          0.2                0   \n",
       "2           4.7          3.2           1.3          0.2                0   \n",
       "3           4.6          3.1           1.5          0.2                0   \n",
       "4           5.0          3.6           1.4          0.2                0   \n",
       "\n",
       "   variety_Setosa  variety_Versicolor  variety_Virginica  \n",
       "0            True               False              False  \n",
       "1            True               False              False  \n",
       "2            True               False              False  \n",
       "3            True               False              False  \n",
       "4            True               False              False  "
      ]
     },
     "metadata": {},
     "output_type": "display_data"
    }
   ],
   "source": [
    "df = pd.get_dummies(df, columns=[\"variety\"])\n",
    "display(df.head())"
   ]
  },
  {
   "cell_type": "markdown",
   "metadata": {
    "id": "zk8TtSRbHAF0"
   },
   "source": [
    "Miért fontos?\n",
    "- Ez segít elkerülni azt, hogy a modellek hibásan feltételezzenek sorrendi kapcsolatot a kategóriák között."
   ]
  },
  {
   "cell_type": "markdown",
   "metadata": {
    "id": "bTpAsr7iHPS5"
   },
   "source": [
    "### Label Encoding vs. OHE\n",
    "\n",
    "A Label Encoding és a One-Hot Encoding (OHE) két gyakran használt módszer a kategóriák numerikussá alakítására, hogy gépi tanulási modellekben használhatóvá váljanak. Nézzük meg a különbségeket, előnyöket és hátrányokat!\n",
    "\n",
    "A Label Encoding minden egyes kategóriát egy egyetlen számértékkel helyettesít.\n",
    "\n",
    "🔹 Példa:\n",
    "Ha van egy \"variety\" oszlopunk az Iris datasetben, akkor a kategóriákat így alakíthatjuk át:\n",
    "\n",
    "![image.png](data:image/png;base64,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)\n",
    "\n",
    "ne-Hot Encoding (OHE - Egyedi bináris oszlopok)\n",
    "A One-Hot Encoding minden egyes kategóriát külön oszlopba bont, ahol az adott kategóriánál 1-es, minden másnál 0-s érték szerepel.\n",
    "\n",
    "🔹 Példa:\n",
    "Ha a \"variety\" oszlopunk így néz ki:\n",
    "\n",
    "![image.png](data:image/png;base64,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)\n",
    "A One-Hot Encoding így néz ki:\n",
    "\n",
    "![image.png](data:image/png;base64,iVBORw0KGgoAAAANSUhEUgAAA7QAAADiCAYAAAB++IvZAAAAAXNSR0IArs4c6QAAAARnQU1BAACxjwv8YQUAAAAJcEhZcwAAEnQAABJ0Ad5mH3gAACCxSURBVHhe7d1/VJRl/v/xFzLpKMwUUgoqn1BjGumHEGWrgYZZLZpKtmieXcnKH9lux6PWWhm1WVHuyTgd23NSare0jcXCMDvOIUvTdbPMUcvNFNHVRWVISfmlWIPz/UfmOLeAoLjfueH5OIc/el/XfY/9Me9zv+77vq4J8fl8PgE4R21trTIyMrRx40ZdccUVCg8PV3l5uX755RdJUnp6ut544w3Z7Xbjoef1+eefKycnRyNGjFBsbKx+/vlnffLJJyosLFRSUpLy8vIUFRUlSVq8eLE6deqkN954Q9HR0Vq+fPkFfSYAAADQ3oQQaIHGeb1effTRR3rttdf0ww8/6PTp0+rUqZMGDBigJ554QmPHjlVoaKjxsBbZvXu3nnzySW3atEknTpyQJMXExGjq1Kl6+OGHZbPZ/HP/8Ic/aOnSpRoyZIjefvtt9e7d+6wzAQAAAB0XgRYAAAAAYEqdjAUAAAAAAMyAQAsAAAAAMCUCLQAAAADAlAi0AAAAAABTItACAAAAAEyJQAsAAAAAMCUCLQAAAADAlAi0AAAAAABTItACAAAAAEyJQAsAAAAAMCUCLQAAAADAlAi0AAAAAABTItACAAAAAEwpxOfz+YzFS6W8vFxHjx5VdXW1vF6vcRgAAAAA0IFZLBbZbDZdeeWV6tmzp3H4HP+TQFtbW6uSkhLV19fLZrPJarUqNDTUOA1AO7Zv3z7169fPWAYAXAR6K4D2pOGh58mTJ3Xs2DF17dpV11xzjcLCwoxT/S75K8e1tbXasWOHrFaroqKiFBYWRpgFAAAAAASwWCz+J7S9evWSxWLRjh07VFtba5zqd8kDbUlJiSIiImSz2YxDAAAAAACcw2Kx+HNkSUmJcdjvkgba8vJy/2vGAAAAAAC0hs1mk9frVXl5uXFIutSB9ujRo4RZAAAAAMAFsVgsuuKKK3T06FHjkHSpA211dbWsVquxDAAAAABAi1x22WWqrq42lqVLHWi9Xi8bQAEAAAAALkpTP/t6SQMtAAAAAAAXw2KxGEt+BFoAAAAAgCkRaAEAAAAApkSgBQAAAACYEoEWAAAAAGBKBFoAAAAAgCkRaAGglWpqarRjxw7V19cbhy7aunXr5HQ6NXfuXOMQAPx/d+TIERUXF8vn8xmHLlh9fb127Nihmpoa49B5Xcp+DMAcTBFoS0pKNH36dCUmJsrpdMrpdGr48OH67LPPjFMBtFPbt2/XDTfcoJSUFJWWlhqHJUn5+flyOp2aNm2aTp06ZRxuE6dOndLs2bOVkZGhZcuWGYcBwDRa21fLy8v14IMPasyYMfrnP/9pnHrBPvzwQ2VkZOixxx7TyZMnjcNNoh8DkBkC7aeffqr09HStX79ekhQdHa3u3bvr8OHD+s9//mOc3qzDhw/rueee08yZM3XixAnjMIAgds0112jAgAE6cuSItm/fbhzWqVOn9Pnnn0uSRo8erS5duhintInQ0FDFxMSoc+fOuvrqq43DAGAare2rNptNvXr1UkREhHr06GGcfsF69Oihzp07q1+/frrsssuMw02iHwNQsAfampoavfXWW/J6vZo5c6a2bNmidevW6csvv9TKlSvVq1cv4yHN2r17t/Lz83Xs2DHjEIAgFx4erpSUFOnMa7lerzdg/ODBg/r222911VVXKSEhIWCsLVksFmVlZem7775TamqqcRgATKO1fbVbt25asmSJNm3aJKfTGTD3YqSmpuq7775TVlaWLBaLcbhJ9GMACvZAe/LkSR05ckRWq1XJyckKDQ31j1177bUaNWpUwHwA7dvw4cNltVq1fft2VVRUBIzt3LlTlZWVuuWWWxQdHR0wBgBoHH0VgNkFdaANCwtTTEyM6urqlJ+fr7q6OuMUP6/Xq/fee09Dhw6V0+nU9ddfr9mzZ8vj8ejEiRPKzMzUjBkzJEmbN2/WTTfdpNTUVB05ckSSVFpaqpkzZ+r6668/5/gG9fX1crlcSktL86/lvffee/3rTjwej+bPn6/bbrvNP/673/1O+/fv958DwIXr27evbrzxRh0+fFjff/+9v+71ev1r6u+44w5ZLJZme4Ikf19ISEjQ5s2b9cwzz8jpdGrdunXn/a7PnTvXP7dBwzGjR4/2H3Pbbbdpy5Yt/jn//ve/NWnSJMXHx8vpdCoxMVHZ2dkt2gilJceevaHUV199paFDhyozM5MlFgCa1Jq+enbfbJj7/fffKyEhQZmZmdqxY4fGjBnjv76qr6/XJ5984u/DQ4YMUUFBwTk91LgZ3tmfs3XrVr322mv+67PMzMyAazPjudSCflxSUqLZs2f792aJj4/XrFmz/NeEAMwlqANtt27d9OCDD8pisejDDz/U8OHDVVBQcE6w9Xq9mj9/vl588UXFxMRo/Pjxuu2227R69WpNnTpVx48f17BhwzRkyBBJUkREhO69917dc889slqt2rFjh8aNG6eioiLFxcXpvvvuU3R0tFavXq2MjAzt3btXkvTBBx/4G97YsWM1duxY1dXVqaqqSpK0atUqrVixQoMGDdL48eOVlJSkLVu26LHHHjvnrieA1uvWrZv/9bh//etf/l02y8rKtHXrVvXs2VMDBw48b08wfh/fffddffjhh/7/Pt933cjr9eqFF17QrFmztGfPHg0aNEj33Xefunfv7g+TRUVFGj9+vL755hvdfPPNGjt2rLp27aqlS5dq0qRJ5/ybztbaYw8cOKBnn31WP/74Y0AdAIxa2lfPp6qqSllZWSouLpYk+Xw+/e1vf9Pjjz+uH3/8UYMGDdKtt96qP//5zyoqKjIe3iiv16usrCytW7dOo0aNUnh4uDZv3qw//elP51wLNmhJP87NzdVXX32lu+66S+PHj1f//v3lcrmUlZXV5HkBBK+gDrQ6s66isLBQN9xwg3766SfNmzdPo0eP1ubNm/1z1q5d678Afe+99zR//ny9+eab+u1vf6s9e/bI7Xbr4Ycf1qRJkyRJcXFxysrK0pw5cxQSEqIXXnhB1dXVevzxx7VixQq99NJLcrlcGj9+vI4cOaL3339fPp9P27ZtkyRlZ2drwYIFWrBggVasWKF+/fpJkoYNG6aNGzcqJydH8+fP15IlS5SUlKSSkhLt3r3b/+8FcOGGDRsmm82mr7/+WsePH5fO7NR55MgRDRkyRL179z5vT/jyyy/956urq1NJSYlWrlypXbt2KTU19bzfdaOvv/5ay5cv11VXXaWCggItXbpUL730klatWqWhQ4fq4MGDys7OliS9/vrrWrp0qRYsWKBPP/1UgwcP1g8//CCXy2U8rXRmDVtrj/322281ZswYbd++XUuXLlW3bt0CxgHgbC3pq+eze/duORwO/34nP//8s5YtW6bLLrtM77zzjpYuXaqcnBzl5eXJZrMZD2+U1+vVjTfeqI8++kgLFizQ+++/L5vNpm3btunQoUPG6VIL+rEkZWZmau3atVqwYIHmz5+v3Nxc9ezZs9nzAgheQR9odWYXvn/84x/6y1/+on79+qm0tFSTJ0/23+HbsGGDfD6fcnJyNGDAADmdTg0YMEB///vfpTOvAjfl4MGD2rt3r6655hrdd999CgkJkc5sNJCRkSGr1epv8H369JEkvfzyy/roo4908uRJde3aVV27dpUk9e/fX999953mz5+v9PR0JScny+12y+fzXbKfEAE6mv/7v//TwIEDtXfvXv3www/yer3+V83uvPNOhYSEtLonTJo0Sddee63/v8/3XTdat26dTp8+renTp+u6664zDmvfvn0qLy9XcnKybr/9dn89PDxcEydOlM70scb6xIUc27dvX91///2yWq3+GgA0pSV99XzCw8M1ZcoUhYeHS2f1rsGDBysxMdE/r2/fvrr11lvPOrJpFotFv/nNb/wbRfXu3VsOh0OnTp1q8knq+fqxzlyvrV+/XvPmzVNaWppGjBih8vLyZs8LIHiZItDqzNbsd9xxhz7++GPNmDFDp0+f1ttvv62amhr98ssvkqQpU6bo9ddfP+dv+PDhxtP51dfXq76+Xt27dz/nZz6ioqIUERGh2tpaeb1eTZkyRZmZmSovL9dTTz2lpKQkvfrqq6qrq5PX69Xzzz+vhx56SJ999pmuu+46zZkzR3379g04J4CLY7Vadfvtt8vn82nt2rXyeDxyu93q16+fbrzxRklqVU+wWq3nvE7X3He9MdXV1dKZi63G1NfXS2eWOxj7TO/evWW1WlVXV+efd7YLOTY+Pl6RkZEBcwGgKS3pq+fjcDgCemBTvSskJCRgk8/mWCyWgBtzLTn2fP24pqZGM2bM0MyZM7V161YNHjxYTz75ZIufGgMIPqYJtA0sFotGjBghq9WqI0eOBPwAd1RUlO6+++5z/vr37x9wjsb89NNP5zwd8Xg8OnbsmCIjI9WlSxd17dpVTz/9tNxutxYuXKiePXvqrbfe0rJly/Ttt99qxYoVGjBggD7++GO99NJLGjdunK666qqAcwK4eIMGDZLNZtP27du1fv16/1MAY4hraU/o1CmwFTb3XW/O+dasHjt27Jw+c+jQIdXV1SkiIkKdO3cOGDtba44NDQ1t0RMVAGjQ0r7alKb6TsNN/wZer7fJm4Ntqal+vG7dOm3atEkjRozQqlWr9Oyzz+ruu+/2P1kGYD5BHWiPHj2qN99807+eQ2c2Gdi0aZPq6uoUFhYmi8Wim266SZK0bNkyHT582D+3rq5OLpcrIPTqzF3Dhk0Prr76ajkcDpWUlKigoMBf93q9+uCDD1RXV6ebbrpJnTt31oEDB+Tz+dS1a1eNGjVKf/zjH6Uzu+VVVVXJ6/WqW7du/h8Fb3h1B0Dbuvrqq5WYmKiSkhK98847CgkJ0e233+6/mGptTzjbqVOnmv2uN6ZhXdZf//pX/fe//zUOKy4uTj179tTGjRv1xRdf+Os1NTXKy8uTJA0ePLjR31+8mGMBoKXO11dbq0ePHrJarVq/fr127tzpr+/cuVPr168PmNuWztePG5acWK1W/9PerVu3qry83DATgFkEdaD1+XzKz8/Xr371Kw0ZMkSpqam69dZb9eqrr0qSMjIyFBERoVGjRmnw4ME6cOCARo4cqVmzZmnu3LkaPny48vLy/CG1obm63W5NmzZNjz/+uOrq6jRjxgxZLBa9+uqrGjdunH9NxfLlyxUXF6fJkyfr9OnTysrK0rhx4/Tss89q7ty5ysrKkiTddtttio2NVWRkpP/cc+fO1aOPPnrOExUAF69Lly664447VFdXp9LSUvXv31/XX3+9f7ylPaEx9fX1zX7XGzNs2DClpKTowIED+vWvf60HHnjAv4Hdhg0b1KdPHz300EM6ffq0Zs6cqczMTM2dO1d33XWXNm3apJSUFN1zzz3G00pn1vNe6LEA0FLn66utde2112rMmDGqq6vT/fffr0cffVSPPvqofv/736t79+7G6W3mfP144MCB6tSpkz755BM98sgjmjlzpl588UXjaQCYSFAHWpvNpsmTJ8vhcOj48eMqKyvTiRMnlJycrGXLlikzM1M6sxHBokWLlJmZqZCQELlcLq1atUqxsbF67LHH/Bu5xMfHa+7cuf5Qu3fvXoWEhPh3Uh46dKh2796tgoICHT9+XFOmTFFeXp569eqlzp07a8iQIfrxxx+1fPlyrVy5UtHR0Xr99dc1evRo9e3bVy+//LJ69Oght9utHTt26IUXXlBCQoLh/wpAW7j55pt1+eWXS5JGjBihiIgI/1hLe0Jjzvddb0zD5z3xxBOKiIjQ119/rYKCAknyv66XmZmpZcuWaeDAgdq8ebNWrlwpi8WiZ555RosWLWr2dbeLORYAWqq5vtpaFotFTz31lB544AF16tRJa9euVWlpqRYuXKhbbrnFOL3NnK8f33LLLcrKypLNZtP69evl8Xj8S0sAmFOIr7lHFRdp48aNTf7MBYCOZd++ffQDAGhjZuutJ06c0COPPKJvvvlGb7/9toYMGWKcAgCN2rdvn5KTk43l4H5CCwAAgPbB5/Ppiy++0JYtW9S3b185HA7jFABoNQItAAAA2tyf/vQnpaena968eZo3b55Gjhyp2bNnS5JmzpypK6+80ngIALQagRYAAABtrm/fvvrpp59UUFCggoIClZaWKjk5We+++67uuusu43QAuCCsoQXwP2G2dV4AYAb0VgAdBWtoAQAAAADtCoEWAAAAAGBKBFoAAAAAgCkRaAEAAAAApkSgBQAAAACYEoEWAAAAAGBKBFoAAAAAgCkRaAEAAAAAphTi8/l8xmJb2bhxo7EEAAAAAECrJScnG0uXNtAWFxfL4XAYywA6IPoBALQ9eiuAjqKpfscrxwAAAAAAUyLQAgAAAABMiUALAAAAADAlAi0AAAAAwJQItAAAAAAAUyLQAgAAAABMiUALAAAAADAlAi0AAAAAwJQItAAAAAAAUyLQAgAAAABMiUALAAAAADAlAi0AAAAAwJQItAAAAAAAUzJdoJ0+fbpcLpexDKADycnJkd1u9//REwDg4tBXAZiVaQKtx+NRfHy88vLyjEMAOpCcnBzl5uaquLhYVVVVys/P14QJE7j4AoALRF8FYGZBH2hra2s1cuRIORwOHTx40DgMoAPxeDzKzc3VwoULFRUVJUlKS0vTxIkTtWjRItXW1hoPAQA0g74KwOyCPtBWV1dr//79ys/PV3Fxsfr06WOcAqCD2LZtmyQpMTExoJ6eni632609e/YE1AEAzaOvAjC7oA+0UVFR2rlzp9LS0oxDADqYwsJCxcbGymazBdSjo6MlSWVlZQF1AEDz6KsAzC7oAy0AnC0mJkZhYWEBtaioKEVGRgbUAAAtQ18FYGYEWgDtxq5du4wlAMBFoK8CCHYEWgDthtPpNJYAABeBvgog2BFoAZhKaWnpObtuejweVVRUBNQAAC1DXwVgZgRaAKbhdDq1f/9+VVdXB9QbNi1p2MQEANAy9FUAZkegBWAaqampqqio8P/MRIPCwkIlJSUpLi4uoA4AaB59FYDZEWgBmEZCQoLS09M1Z84ceTweSZLL5VJhYaGys7PP2aUTANA8+ioAsyPQAjCVxYsXKyUlRQ6HQ3a7XZMnT1ZRUZESEhKMUwEALUBfBWBmIT6fz2cstpXi4mI5HA5jGUAHRD8AgLZHbwXQUTTV73hCCwAAAAAwJQItAAAAAMCUCLQAAAAAAFMi0AIAAAAATIlACwAAAAAwJQItAAAAAMCUCLQAAAAAAFMi0AIAAAAATIlACwAAAAAwJQItAAAAAMCUCLQAAAAAAFMi0AIAAAAATCnE5/P5jMW2UlxcbCwBAAAAANBqDofDWLr0gbaxDwXQ8dAPAKDt0VsBdBRN9TteOQYAAAAAmBKBFgAAAABgSgRaAAAAAIApEWgBAAAAAKZEoAUAAAAAmBKBFgAAAABgSgRaAAAAAIApEWgBAAAAAKZEoAUAAAAAmBKBFgAAAABgSgRaAAAAAIApEWgBAAAAAKZEoAUAAAAAmJLpAu306dPlcrmMZQAdSE5Ojux2u/+PngAAF4e+CsCsTBNoPR6P4uPjlZeXZxwC0IHk5OQoNzdXxcXFqqqqUn5+viZMmMDFFwBcIPoqADML+kBbW1urkSNHyuFw6ODBg8ZhAB2Ix+NRbm6uFi5cqKioKElSWlqaJk6cqEWLFqm2ttZ4CACgGfRVAGYX9IG2urpa+/fvV35+voqLi9WnTx/jFAAdxLZt2yRJiYmJAfX09HS53W7t2bMnoA4AaB59FYDZBX2gjYqK0s6dO5WWlmYcAtDBFBYWKjY2VjabLaAeHR0tSSorKwuoAwCaR18FYHZBH2gB4GwxMTEKCwsLqEVFRSkyMjKgBgBoGfoqADMj0AJoN3bt2mUsAQAuAn0VQLAj0AJoN5xOp7EEALgI9FUAwY5AC8BUSktLz9l10+PxqKKiIqAGAGgZ+ioAMyPQAjANp9Op/fv3q7q6OqDesGlJwyYmAICWoa8CMDsCLQDTSE1NVUVFhf9nJhoUFhYqKSlJcXFxAXUAQPPoqwDMjkALwDQSEhKUnp6uOXPmyOPxSJJcLpcKCwuVnZ19zi6dAIDm0VcBmB2BFoCpLF68WCkpKXI4HLLb7Zo8ebKKioqUkJBgnAoAaAH6KgAzC/H5fD5jsa0UFxfL4XAYywA6IPoBALQ9eiuAjqKpfscTWgAAAACAKRFoAQAAAACmRKAFAAAAAJgSgRYAAAAAYEoEWgAAAACAKRFoAQAAAACmRKAFAAAAAJgSgRYAAAAAYEoEWgAAAACAKRFoAQAAAACmRKAFAAAAAJgSgRYAAAAAYEohPp/PZyy2leLiYmMJAAAAAIBWczgcxtKlD7SNfSiAjod+AABtj94KoKNoqt/xyjEAAAAAwJQItAAAAAAAUyLQAgAAAABMiUALAAAAADAlAi0AAAAAwJQItAAAAAAAUyLQAgAAAABMiUALAAAAADAlAi0AAAAAwJQItAAAAAAAUyLQAgAAAABMiUALAAAAADAlAi0AAAAAwJRMEWg9Ho/i4+Nlt9tlt9s1cuRI1dbWGqcB6GC2b9+uiRMn0g8A4CLl5OT4r7PsdrtcLpdxCgAEpaAPtB6PR8OHD9fUqVNVVVWlsrIySVJGRgYXsUAHlpOTo6FDh6qystI4BABohZycHOXm5qq4uFhVVVXKz8/XhAkTCLUATCHoA21eXp5iY2M1bdo0SVJYWJiys7Pldru1YcMG43QA7ZzL5ZLdbtdzzz1nHAIAtJLH41Fubq4WLlyoqKgoSVJaWpomTpyoRYsW8fAAQNAL6kBbW1urNWvW6M4771RYWJi/HhcXp6SkJBUWFgbMB9D+7dq1S8nJySorK9Pzzz9vHAYAtMK2bdskSYmJiQH19PR0ud1u7dmzJ6AOAMEmqAPtnj175Ha75XQ6A+phYWGKiYlRaWkpdw6BDmbWrFlavXp1wE0uAMCFKSwsVGxsrGw2W0A9OjpakvxLvQAgWAV1oJWkyMhIf1M9mzHkAgAAoPViYmLOuUkYFRWlyMjIgBoABKOgD7TN2b9/v6qrq41lAAAAtIFdu3YZSwAQVEwdaBt7RQYAAABtgzfiAAS7oA+0FRUVja7f4I4hAADAxWtsTxKPx6OKioqAGgAEo6AOtA3rN4zhtba2VqWlpY2u+QAAAEDLOJ3ORpdwNTxMaGwfEwAIJkEfaFNSUrRmzZqAO4cNux+np6cHzAcAAEDLpaamqqKiwv/zPQ0KCwuVlJSkuLi4gDoABJugDrSSNGPGDLndbi1ZskQ683T26aefVnp6utLS0ozTAQAA0EIJCQlKT0/XnDlz5PF4JEkul0uFhYXKzs7mTTgAQS/oA21CQoKKior0yiuvyG63Kzo6WjExMVq8eLFxKgAAAFpp8eLFSklJkcPhkN1u1+TJk1VUVKSEhATjVAAIOiE+n89nLLaV4uJiORwOYxlAB0Q/AIC2R28F0FE01e+C/gktAAAAAACNIdACAAAAAEyJQAsAAAAAMCUCLQAAAADAlAi0AAAAAABTItACAAAAAEyJQAsAAAAAMCUCLQAAAADAlAi0AAAAAABTItACAAAAAEyJQAsAAAAAMCUCLQAAAADAlEJ8Pp/PWGwrxcXFxhIAAAAAAK3mcDiMpUsfaBv7UAAdD/0AANoevRVAR9FUv+OVYwAAAACAKRFoAQAAAACmRKAFAAAAAJgSgRYAAAAAYEoEWgAAAACAKRFoAQAAAACmRKAFAAAAAJgSgRYAAAAAYEoEWgAAAACAKRFoAQAAAACmRKAFAAAAAJgSgRYAAAAAYEoEWgAAAACAKZki0Ho8HsXHx8tut8tut2vkyJGqra01TgPQQeTk5Pj7gd1ul8vlMk4BAFyA7du3a+LEiVxnATCNoA+0Ho9Hw4cP19SpU1VVVaWysjJJUkZGBs0W6IBycnKUm5ur4uJiVVVVKT8/XxMmTCDUAsBFysnJ0dChQ1VZWWkcAoCgFfSBNi8vT7GxsZo2bZokKSwsTNnZ2XK73dqwYYNxOoB2zOPxKDc3VwsXLlRUVJQkKS0tTRMnTtSiRYu4yQUAF8Dlcslut+u5554zDgFA0AvqQFtbW6s1a9bozjvvVFhYmL8eFxenpKQkFRYWBswH0L5t27ZNkpSYmBhQT09Pl9vt1p49ewLqAIDz27Vrl5KTk1VWVqbnn3/eOAwAQS2oA+2ePXvkdrvldDoD6mFhYYqJiVFpaSlPZIAOpLCwULGxsbLZbAH16OhoSfIvSQAAtNysWbO0evXqgIcHAGAWQR1oJSkyMtJ/sXo2Y8gF0DHExMScc9EVFRWlyMjIgBoAAADav6APtM3Zv3+/qqurjWUAHdSuXbuMJQAAALRjpg60jb16CKDj4s0NAACAjiXoA21FRUWj6+J4EgN0TI2tnfd4PKqoqAioAQAAoP0L6kDbsC7OGF5ra2tVWlra6Fo6AO2X0+lsdKlBw02vxtbbAwAAoP0K+kCbkpKiNWvWBDyRadj9OD09PWA+gPYtNTVVFRUV/p/vaVBYWKikpCTFxcUF1AEAANC+BXWglaQZM2bI7XZryZIl0pmns08//bTS09OVlpZmnA6gHUtISFB6errmzJkjj8cjSXK5XCosLFR2djZvbAAAAHQwQR9oExISVFRUpFdeeUV2u13R0dGKiYnR4sWLjVMBdACLFy9WSkqKHA6H7Ha7Jk+erKKiIiUkJBinAgAAoJ0L8fl8PmOxrRQXF8vhcBjLADog+gEAtD16K4COoql+F/RPaAEAAAAAaAyBFgAAAABgSgRaAAAAAIApEWgBAAAAAKZEoAUAAAAAmBKBFgAAAABgSpc00IaGhqq+vt5YBgAAAACgRerr6xUaGmosS5c60FqtVp08edJYBgAAAACgRU6ePCmr1WosS5c60IaHh6uystJYBgAAAACgRSorKxUeHm4sS5c60F5++eWqr68n1AIAAAAAWq2yslL19fW6/PLLjUPSpQ60ktSzZ08dPXqUUAsAAAAAaLHKykodPXpUPXv2NA75XfJA26VLF/Xp00eVlZU6dOiQampq2CgKAAAAAHCO+vp61dTU6NChQ6qsrFSfPn3UpUsX4zS/EJ/P5zMWL5XKykrV1NSorq6OUAsAAAAACBAaGiqr1arw8PAmXzM+2/800AIAAAAA0FYu+SvHAAAAAABcCgRaAAAAAIApEWgBAAAAAKb0/wA0lM6+5e1ktgAAAABJRU5ErkJggg==)"
   ]
  },
  {
   "cell_type": "markdown",
   "metadata": {
    "id": "sUnzcJawH5FN"
   },
   "source": [
    "### Adatok véletlenszerű keverése\n",
    "\n",
    "Ha az adatok rendezettséget tartalmaznak, az befolyásolhatja az elemzést és a modellezést. Ezért keverjük meg őket:\n",
    "\n",
    "\n"
   ]
  },
  {
   "cell_type": "code",
   "execution_count": 439,
   "metadata": {
    "id": "UzIM64AHGShM"
   },
   "outputs": [
    {
     "data": {
      "text/html": [
       "<div>\n",
       "<style scoped>\n",
       "    .dataframe tbody tr th:only-of-type {\n",
       "        vertical-align: middle;\n",
       "    }\n",
       "\n",
       "    .dataframe tbody tr th {\n",
       "        vertical-align: top;\n",
       "    }\n",
       "\n",
       "    .dataframe thead th {\n",
       "        text-align: right;\n",
       "    }\n",
       "</style>\n",
       "<table border=\"1\" class=\"dataframe\">\n",
       "  <thead>\n",
       "    <tr style=\"text-align: right;\">\n",
       "      <th></th>\n",
       "      <th>sepal_length</th>\n",
       "      <th>sepal_width</th>\n",
       "      <th>petal.length</th>\n",
       "      <th>petal.width</th>\n",
       "      <th>variety_encoded</th>\n",
       "      <th>variety_Setosa</th>\n",
       "      <th>variety_Versicolor</th>\n",
       "      <th>variety_Virginica</th>\n",
       "    </tr>\n",
       "  </thead>\n",
       "  <tbody>\n",
       "    <tr>\n",
       "      <th>0</th>\n",
       "      <td>6.1</td>\n",
       "      <td>2.8</td>\n",
       "      <td>4.7</td>\n",
       "      <td>1.2</td>\n",
       "      <td>1</td>\n",
       "      <td>False</td>\n",
       "      <td>True</td>\n",
       "      <td>False</td>\n",
       "    </tr>\n",
       "    <tr>\n",
       "      <th>1</th>\n",
       "      <td>5.7</td>\n",
       "      <td>3.8</td>\n",
       "      <td>1.7</td>\n",
       "      <td>0.3</td>\n",
       "      <td>0</td>\n",
       "      <td>True</td>\n",
       "      <td>False</td>\n",
       "      <td>False</td>\n",
       "    </tr>\n",
       "    <tr>\n",
       "      <th>2</th>\n",
       "      <td>7.7</td>\n",
       "      <td>3.8</td>\n",
       "      <td>6.7</td>\n",
       "      <td>2.2</td>\n",
       "      <td>2</td>\n",
       "      <td>False</td>\n",
       "      <td>False</td>\n",
       "      <td>True</td>\n",
       "    </tr>\n",
       "    <tr>\n",
       "      <th>3</th>\n",
       "      <td>6.0</td>\n",
       "      <td>2.9</td>\n",
       "      <td>4.5</td>\n",
       "      <td>1.5</td>\n",
       "      <td>1</td>\n",
       "      <td>False</td>\n",
       "      <td>True</td>\n",
       "      <td>False</td>\n",
       "    </tr>\n",
       "    <tr>\n",
       "      <th>4</th>\n",
       "      <td>6.8</td>\n",
       "      <td>2.8</td>\n",
       "      <td>4.8</td>\n",
       "      <td>1.4</td>\n",
       "      <td>1</td>\n",
       "      <td>False</td>\n",
       "      <td>True</td>\n",
       "      <td>False</td>\n",
       "    </tr>\n",
       "  </tbody>\n",
       "</table>\n",
       "</div>"
      ],
      "text/plain": [
       "   sepal_length  sepal_width  petal.length  petal.width  variety_encoded  \\\n",
       "0           6.1          2.8           4.7          1.2                1   \n",
       "1           5.7          3.8           1.7          0.3                0   \n",
       "2           7.7          3.8           6.7          2.2                2   \n",
       "3           6.0          2.9           4.5          1.5                1   \n",
       "4           6.8          2.8           4.8          1.4                1   \n",
       "\n",
       "   variety_Setosa  variety_Versicolor  variety_Virginica  \n",
       "0           False                True              False  \n",
       "1            True               False              False  \n",
       "2           False               False               True  \n",
       "3           False                True              False  \n",
       "4           False                True              False  "
      ]
     },
     "metadata": {},
     "output_type": "display_data"
    }
   ],
   "source": [
    "df_shuffled = df.sample(frac=1, random_state=42).reset_index(drop=True)\n",
    "display(df_shuffled.head())"
   ]
  },
  {
   "cell_type": "markdown",
   "metadata": {
    "id": "NVWdkggmIHQ7"
   },
   "source": [
    "Miért fontos?\n",
    "\n",
    "- Az adathalmazban ne legyen semmilyen mesterséges sorrend."
   ]
  },
  {
   "cell_type": "markdown",
   "metadata": {
    "id": "advOFDPAIMKc"
   },
   "source": [
    "### Hiányzó értékek pótlása (ha lennének)\n",
    "\n",
    "Bár az Iris datasetben nincs hiányzó érték, más adathalmazokban gyakran előfordul."
   ]
  },
  {
   "cell_type": "markdown",
   "metadata": {
    "id": "R-b3BQtqITax"
   },
   "source": [
    "Hiányzó értékek kitöltése átlaggal"
   ]
  },
  {
   "cell_type": "code",
   "execution_count": 456,
   "metadata": {
    "id": "IIkoZu48IDTa"
   },
   "outputs": [],
   "source": [
    "df.fillna(df.mean(), inplace=True)"
   ]
  },
  {
   "cell_type": "markdown",
   "metadata": {
    "id": "qbOWGCy_IXcb"
   },
   "source": [
    "Miért fontos?\n",
    "\n",
    "- Az átlag jó választás, ha az értékek normális eloszlásúak."
   ]
  },
  {
   "cell_type": "markdown",
   "metadata": {
    "id": "Cx_4-wFlIbZg"
   },
   "source": [
    "### Hiányzó értékek kitöltése kategóriás oszlopokban"
   ]
  },
  {
   "cell_type": "code",
   "execution_count": 461,
   "metadata": {
    "id": "2CvY_M8YIVW6"
   },
   "outputs": [],
   "source": [
    "# A 'variety_Setosa' oszlop hiányzó értékeinek kitöltése a módusszal (leggyakoribb érték).\n",
    "#\n",
    "# - df[\"variety_Setosa\"].mode() → visszaadja az oszlop leggyakoribb értékét/értékeit\n",
    "# - [0] → ha több módusz is van, az elsőt választjuk ki\n",
    "# - fillna(...) → a hiányzó (NaN) értékeket ezzel pótoljuk\n",
    "#\n",
    "# A bal oldali hozzárendelés miatt az eredmény visszakerül az oszlopba.\n",
    "\n",
    "df[\"variety_Setosa\"] = df[\"variety_Setosa\"].fillna(df[\"variety_Setosa\"].mode()[0])"
   ]
  },
  {
   "cell_type": "markdown",
   "metadata": {
    "id": "gEBHlhUSIy0K"
   },
   "source": [
    "# Korrelációs elemzés\n",
    "\n",
    "A korrelációs elemzés segít megérteni, hogy az egyes változók mennyire függnek össze egymással."
   ]
  },
  {
   "cell_type": "code",
   "execution_count": 464,
   "metadata": {
    "id": "OHOYtqvjIeSL"
   },
   "outputs": [
    {
     "data": {
      "text/html": [
       "<div>\n",
       "<style scoped>\n",
       "    .dataframe tbody tr th:only-of-type {\n",
       "        vertical-align: middle;\n",
       "    }\n",
       "\n",
       "    .dataframe tbody tr th {\n",
       "        vertical-align: top;\n",
       "    }\n",
       "\n",
       "    .dataframe thead th {\n",
       "        text-align: right;\n",
       "    }\n",
       "</style>\n",
       "<table border=\"1\" class=\"dataframe\">\n",
       "  <thead>\n",
       "    <tr style=\"text-align: right;\">\n",
       "      <th></th>\n",
       "      <th>sepal_length</th>\n",
       "      <th>sepal_width</th>\n",
       "      <th>petal.length</th>\n",
       "      <th>petal.width</th>\n",
       "      <th>variety_encoded</th>\n",
       "      <th>variety_Setosa</th>\n",
       "      <th>variety_Versicolor</th>\n",
       "      <th>variety_Virginica</th>\n",
       "    </tr>\n",
       "  </thead>\n",
       "  <tbody>\n",
       "    <tr>\n",
       "      <th>sepal_length</th>\n",
       "      <td>1.000000</td>\n",
       "      <td>-0.118129</td>\n",
       "      <td>0.873738</td>\n",
       "      <td>0.820620</td>\n",
       "      <td>0.786971</td>\n",
       "      <td>-0.718879</td>\n",
       "      <td>0.079280</td>\n",
       "      <td>0.642853</td>\n",
       "    </tr>\n",
       "    <tr>\n",
       "      <th>sepal_width</th>\n",
       "      <td>-0.118129</td>\n",
       "      <td>1.000000</td>\n",
       "      <td>-0.426028</td>\n",
       "      <td>-0.362894</td>\n",
       "      <td>-0.422987</td>\n",
       "      <td>0.601821</td>\n",
       "      <td>-0.473476</td>\n",
       "      <td>-0.128997</td>\n",
       "    </tr>\n",
       "    <tr>\n",
       "      <th>petal.length</th>\n",
       "      <td>0.873738</td>\n",
       "      <td>-0.426028</td>\n",
       "      <td>1.000000</td>\n",
       "      <td>0.962772</td>\n",
       "      <td>0.949402</td>\n",
       "      <td>-0.922494</td>\n",
       "      <td>0.206123</td>\n",
       "      <td>0.720018</td>\n",
       "    </tr>\n",
       "    <tr>\n",
       "      <th>petal.width</th>\n",
       "      <td>0.820620</td>\n",
       "      <td>-0.362894</td>\n",
       "      <td>0.962772</td>\n",
       "      <td>1.000000</td>\n",
       "      <td>0.956514</td>\n",
       "      <td>-0.886988</td>\n",
       "      <td>0.122833</td>\n",
       "      <td>0.768044</td>\n",
       "    </tr>\n",
       "    <tr>\n",
       "      <th>variety_encoded</th>\n",
       "      <td>0.786971</td>\n",
       "      <td>-0.422987</td>\n",
       "      <td>0.949402</td>\n",
       "      <td>0.956514</td>\n",
       "      <td>1.000000</td>\n",
       "      <td>-0.866030</td>\n",
       "      <td>0.005852</td>\n",
       "      <td>0.864556</td>\n",
       "    </tr>\n",
       "    <tr>\n",
       "      <th>variety_Setosa</th>\n",
       "      <td>-0.718879</td>\n",
       "      <td>0.601821</td>\n",
       "      <td>-0.922494</td>\n",
       "      <td>-0.886988</td>\n",
       "      <td>-0.866030</td>\n",
       "      <td>1.000000</td>\n",
       "      <td>-0.505051</td>\n",
       "      <td>-0.497468</td>\n",
       "    </tr>\n",
       "    <tr>\n",
       "      <th>variety_Versicolor</th>\n",
       "      <td>0.079280</td>\n",
       "      <td>-0.473476</td>\n",
       "      <td>0.206123</td>\n",
       "      <td>0.122833</td>\n",
       "      <td>0.005852</td>\n",
       "      <td>-0.505051</td>\n",
       "      <td>1.000000</td>\n",
       "      <td>-0.497468</td>\n",
       "    </tr>\n",
       "    <tr>\n",
       "      <th>variety_Virginica</th>\n",
       "      <td>0.642853</td>\n",
       "      <td>-0.128997</td>\n",
       "      <td>0.720018</td>\n",
       "      <td>0.768044</td>\n",
       "      <td>0.864556</td>\n",
       "      <td>-0.497468</td>\n",
       "      <td>-0.497468</td>\n",
       "      <td>1.000000</td>\n",
       "    </tr>\n",
       "  </tbody>\n",
       "</table>\n",
       "</div>"
      ],
      "text/plain": [
       "                    sepal_length  sepal_width  petal.length  petal.width  \\\n",
       "sepal_length            1.000000    -0.118129      0.873738     0.820620   \n",
       "sepal_width            -0.118129     1.000000     -0.426028    -0.362894   \n",
       "petal.length            0.873738    -0.426028      1.000000     0.962772   \n",
       "petal.width             0.820620    -0.362894      0.962772     1.000000   \n",
       "variety_encoded         0.786971    -0.422987      0.949402     0.956514   \n",
       "variety_Setosa         -0.718879     0.601821     -0.922494    -0.886988   \n",
       "variety_Versicolor      0.079280    -0.473476      0.206123     0.122833   \n",
       "variety_Virginica       0.642853    -0.128997      0.720018     0.768044   \n",
       "\n",
       "                    variety_encoded  variety_Setosa  variety_Versicolor  \\\n",
       "sepal_length               0.786971       -0.718879            0.079280   \n",
       "sepal_width               -0.422987        0.601821           -0.473476   \n",
       "petal.length               0.949402       -0.922494            0.206123   \n",
       "petal.width                0.956514       -0.886988            0.122833   \n",
       "variety_encoded            1.000000       -0.866030            0.005852   \n",
       "variety_Setosa            -0.866030        1.000000           -0.505051   \n",
       "variety_Versicolor         0.005852       -0.505051            1.000000   \n",
       "variety_Virginica          0.864556       -0.497468           -0.497468   \n",
       "\n",
       "                    variety_Virginica  \n",
       "sepal_length                 0.642853  \n",
       "sepal_width                 -0.128997  \n",
       "petal.length                 0.720018  \n",
       "petal.width                  0.768044  \n",
       "variety_encoded              0.864556  \n",
       "variety_Setosa              -0.497468  \n",
       "variety_Versicolor          -0.497468  \n",
       "variety_Virginica            1.000000  "
      ]
     },
     "metadata": {},
     "output_type": "display_data"
    }
   ],
   "source": [
    "display(df.corr())\n"
   ]
  },
  {
   "cell_type": "markdown",
   "metadata": {
    "id": "dJxQFQaqI_mM"
   },
   "source": [
    "Miért fontos?\n",
    "\n",
    "- Ha két változó nagyon korrelál, lehet, hogy az egyiket elhagyhatjuk a modellből."
   ]
  },
  {
   "cell_type": "markdown",
   "metadata": {
    "id": "5bRea9mgJB8a"
   },
   "source": [
    "### Outlier-ek (kiugró értékek) kezelése\n",
    "\n",
    "Extrém adatok torzíthatják az elemzést.\n",
    "\n",
    "### IQR módszer (Interquartilis tartomány)"
   ]
  },
  {
   "cell_type": "code",
   "execution_count": 472,
   "metadata": {
    "id": "2QHpdWi9I2Ka"
   },
   "outputs": [
    {
     "name": "stdout",
     "output_type": "stream",
     "text": [
      "(149, 8)\n"
     ]
    }
   ],
   "source": [
    "# Interkvartilis tartomány (IQR) módszerrel szűrjük ki a kiugró (outlier) értékeket\n",
    "# az 'sepal_length' oszlopból.\n",
    "\n",
    "# Az első kvartilis (Q1, 25%-os percentilis)\n",
    "Q1 = df[\"sepal_length\"].quantile(0.25)\n",
    "\n",
    "# A harmadik kvartilis (Q3, 75%-os percentilis)\n",
    "Q3 = df[\"sepal_length\"].quantile(0.75)\n",
    "\n",
    "# IQR = Q3 - Q1 → interkvartilis tartomány, az adatok középső 50%-ának szélessége\n",
    "IQR = Q3 - Q1\n",
    "\n",
    "# Az outlierek tipikus szabálya:\n",
    "# - alsó határ: Q1 - 1.5 * IQR\n",
    "# - felső határ: Q3 + 1.5 * IQR\n",
    "#\n",
    "# Csak azokat az adatokat tartjuk meg, amelyek ezen a tartományon belül vannak.\n",
    "df_cleaned = df[\n",
    "    (df[\"sepal_length\"] >= (Q1 - 1.5 * IQR)) &\n",
    "    (df[\"sepal_length\"] <= (Q3 + 1.5 * IQR))\n",
    "]\n",
    "\n",
    "# A tisztított DataFrame méretének kiíratása (sorok, oszlopok)\n",
    "print(df_cleaned.shape)\n"
   ]
  },
  {
   "cell_type": "markdown",
   "metadata": {
    "id": "C26RNsp7JNYr"
   },
   "source": [
    "Miért fontos?\n",
    "\n",
    "- Az IQR módszerrel kiszűrhetjük az extrém értékeket."
   ]
  },
  {
   "cell_type": "markdown",
   "metadata": {
    "id": "gNBXzx50JmpG"
   },
   "source": [
    "## CrossTab - A tapsolás adathalmazon\n",
    "\n",
    "A tapsolás adathalmaza az Adelaide-i Egyetem „survey” adathalmaza.\n",
    "\n",
    "Rövid összefoglaló:\n",
    "\n",
    "- Minta: 237 elsőéves statisztika hallgató válaszai.\n",
    "- Típus: Data frame (R-ben elérhető).\n",
    "- Forrás: W. N. Venables & B. D. Ripley (2002): Modern Applied Statistics with S-PLUS. Springer.\n",
    "\n",
    "Változók:\n",
    "\n",
    "- Sex – nem (férfi/nő).\n",
    "- Wr.Hnd / NW.Hnd – írókéz és nem-író kéz fesztávolsága (cm).\n",
    "- W.Hnd – írókéz (bal/jobb).\n",
    "- Fold – karba tett kéz: melyik van felül (jobb a balon / bal a jobbon / egyik sem).\n",
    "- Pulse – pulzus (ütés/perc).\n",
    "- Clap – tapsoláskor melyik kéz van felül (jobb/bal/egyik sem).\n",
    "- Exer – mennyit sportol a hallgató (gyakran / néha / soha).\n",
    "- Smoke – dohányzási szokások (heavy, regular, occasional, never).\n",
    "- Height – magasság (cm).\n",
    "- M.I – mértékegység típusa (imperial/metric).\n",
    "- Age – életkor (év).\n",
    "\n",
    "adatbázis [leírás](https://cran.r-project.org/web/packages/MASS/MASS.pdf#page=147) 147. oldal"
   ]
  },
  {
   "cell_type": "code",
   "execution_count": 476,
   "metadata": {
    "id": "KWinmbO0Jlhp"
   },
   "outputs": [
    {
     "data": {
      "text/html": [
       "<div>\n",
       "<style scoped>\n",
       "    .dataframe tbody tr th:only-of-type {\n",
       "        vertical-align: middle;\n",
       "    }\n",
       "\n",
       "    .dataframe tbody tr th {\n",
       "        vertical-align: top;\n",
       "    }\n",
       "\n",
       "    .dataframe thead th {\n",
       "        text-align: right;\n",
       "    }\n",
       "</style>\n",
       "<table border=\"1\" class=\"dataframe\">\n",
       "  <thead>\n",
       "    <tr style=\"text-align: right;\">\n",
       "      <th></th>\n",
       "      <th>rownames</th>\n",
       "      <th>Sex</th>\n",
       "      <th>Wr.Hnd</th>\n",
       "      <th>NW.Hnd</th>\n",
       "      <th>W.Hnd</th>\n",
       "      <th>Fold</th>\n",
       "      <th>Pulse</th>\n",
       "      <th>Clap</th>\n",
       "      <th>Exer</th>\n",
       "      <th>Smoke</th>\n",
       "      <th>Height</th>\n",
       "      <th>M.I</th>\n",
       "      <th>Age</th>\n",
       "    </tr>\n",
       "  </thead>\n",
       "  <tbody>\n",
       "    <tr>\n",
       "      <th>0</th>\n",
       "      <td>1</td>\n",
       "      <td>Female</td>\n",
       "      <td>18.5</td>\n",
       "      <td>18.0</td>\n",
       "      <td>Right</td>\n",
       "      <td>R on L</td>\n",
       "      <td>92.0</td>\n",
       "      <td>Left</td>\n",
       "      <td>Some</td>\n",
       "      <td>Never</td>\n",
       "      <td>173.0</td>\n",
       "      <td>Metric</td>\n",
       "      <td>18.250</td>\n",
       "    </tr>\n",
       "    <tr>\n",
       "      <th>1</th>\n",
       "      <td>2</td>\n",
       "      <td>Male</td>\n",
       "      <td>19.5</td>\n",
       "      <td>20.5</td>\n",
       "      <td>Left</td>\n",
       "      <td>R on L</td>\n",
       "      <td>104.0</td>\n",
       "      <td>Left</td>\n",
       "      <td>NaN</td>\n",
       "      <td>Regul</td>\n",
       "      <td>177.8</td>\n",
       "      <td>Imperial</td>\n",
       "      <td>17.583</td>\n",
       "    </tr>\n",
       "    <tr>\n",
       "      <th>2</th>\n",
       "      <td>3</td>\n",
       "      <td>Male</td>\n",
       "      <td>18.0</td>\n",
       "      <td>13.3</td>\n",
       "      <td>Right</td>\n",
       "      <td>L on R</td>\n",
       "      <td>87.0</td>\n",
       "      <td>Neither</td>\n",
       "      <td>NaN</td>\n",
       "      <td>Occas</td>\n",
       "      <td>NaN</td>\n",
       "      <td>NaN</td>\n",
       "      <td>16.917</td>\n",
       "    </tr>\n",
       "    <tr>\n",
       "      <th>3</th>\n",
       "      <td>4</td>\n",
       "      <td>Male</td>\n",
       "      <td>18.8</td>\n",
       "      <td>18.9</td>\n",
       "      <td>Right</td>\n",
       "      <td>R on L</td>\n",
       "      <td>NaN</td>\n",
       "      <td>Neither</td>\n",
       "      <td>NaN</td>\n",
       "      <td>Never</td>\n",
       "      <td>160.0</td>\n",
       "      <td>Metric</td>\n",
       "      <td>20.333</td>\n",
       "    </tr>\n",
       "    <tr>\n",
       "      <th>4</th>\n",
       "      <td>5</td>\n",
       "      <td>Male</td>\n",
       "      <td>20.0</td>\n",
       "      <td>20.0</td>\n",
       "      <td>Right</td>\n",
       "      <td>Neither</td>\n",
       "      <td>35.0</td>\n",
       "      <td>Right</td>\n",
       "      <td>Some</td>\n",
       "      <td>Never</td>\n",
       "      <td>165.0</td>\n",
       "      <td>Metric</td>\n",
       "      <td>23.667</td>\n",
       "    </tr>\n",
       "    <tr>\n",
       "      <th>...</th>\n",
       "      <td>...</td>\n",
       "      <td>...</td>\n",
       "      <td>...</td>\n",
       "      <td>...</td>\n",
       "      <td>...</td>\n",
       "      <td>...</td>\n",
       "      <td>...</td>\n",
       "      <td>...</td>\n",
       "      <td>...</td>\n",
       "      <td>...</td>\n",
       "      <td>...</td>\n",
       "      <td>...</td>\n",
       "      <td>...</td>\n",
       "    </tr>\n",
       "    <tr>\n",
       "      <th>232</th>\n",
       "      <td>233</td>\n",
       "      <td>Female</td>\n",
       "      <td>18.0</td>\n",
       "      <td>18.0</td>\n",
       "      <td>Right</td>\n",
       "      <td>L on R</td>\n",
       "      <td>85.0</td>\n",
       "      <td>Right</td>\n",
       "      <td>Some</td>\n",
       "      <td>Never</td>\n",
       "      <td>165.1</td>\n",
       "      <td>Imperial</td>\n",
       "      <td>17.667</td>\n",
       "    </tr>\n",
       "    <tr>\n",
       "      <th>233</th>\n",
       "      <td>234</td>\n",
       "      <td>Female</td>\n",
       "      <td>18.5</td>\n",
       "      <td>18.0</td>\n",
       "      <td>Right</td>\n",
       "      <td>L on R</td>\n",
       "      <td>88.0</td>\n",
       "      <td>Right</td>\n",
       "      <td>Some</td>\n",
       "      <td>Never</td>\n",
       "      <td>160.0</td>\n",
       "      <td>Metric</td>\n",
       "      <td>16.917</td>\n",
       "    </tr>\n",
       "    <tr>\n",
       "      <th>234</th>\n",
       "      <td>235</td>\n",
       "      <td>Female</td>\n",
       "      <td>17.5</td>\n",
       "      <td>16.5</td>\n",
       "      <td>Right</td>\n",
       "      <td>R on L</td>\n",
       "      <td>NaN</td>\n",
       "      <td>Right</td>\n",
       "      <td>Some</td>\n",
       "      <td>Never</td>\n",
       "      <td>170.0</td>\n",
       "      <td>Metric</td>\n",
       "      <td>18.583</td>\n",
       "    </tr>\n",
       "    <tr>\n",
       "      <th>235</th>\n",
       "      <td>236</td>\n",
       "      <td>Male</td>\n",
       "      <td>21.0</td>\n",
       "      <td>21.5</td>\n",
       "      <td>Right</td>\n",
       "      <td>R on L</td>\n",
       "      <td>90.0</td>\n",
       "      <td>Right</td>\n",
       "      <td>Some</td>\n",
       "      <td>Never</td>\n",
       "      <td>183.0</td>\n",
       "      <td>Metric</td>\n",
       "      <td>17.167</td>\n",
       "    </tr>\n",
       "    <tr>\n",
       "      <th>236</th>\n",
       "      <td>237</td>\n",
       "      <td>Female</td>\n",
       "      <td>17.6</td>\n",
       "      <td>17.3</td>\n",
       "      <td>Right</td>\n",
       "      <td>R on L</td>\n",
       "      <td>85.0</td>\n",
       "      <td>Right</td>\n",
       "      <td>Freq</td>\n",
       "      <td>Never</td>\n",
       "      <td>168.5</td>\n",
       "      <td>Metric</td>\n",
       "      <td>17.750</td>\n",
       "    </tr>\n",
       "  </tbody>\n",
       "</table>\n",
       "<p>237 rows × 13 columns</p>\n",
       "</div>"
      ],
      "text/plain": [
       "     rownames     Sex  Wr.Hnd  NW.Hnd  W.Hnd     Fold  Pulse     Clap  Exer  \\\n",
       "0           1  Female    18.5    18.0  Right   R on L   92.0     Left  Some   \n",
       "1           2    Male    19.5    20.5   Left   R on L  104.0     Left   NaN   \n",
       "2           3    Male    18.0    13.3  Right   L on R   87.0  Neither   NaN   \n",
       "3           4    Male    18.8    18.9  Right   R on L    NaN  Neither   NaN   \n",
       "4           5    Male    20.0    20.0  Right  Neither   35.0    Right  Some   \n",
       "..        ...     ...     ...     ...    ...      ...    ...      ...   ...   \n",
       "232       233  Female    18.0    18.0  Right   L on R   85.0    Right  Some   \n",
       "233       234  Female    18.5    18.0  Right   L on R   88.0    Right  Some   \n",
       "234       235  Female    17.5    16.5  Right   R on L    NaN    Right  Some   \n",
       "235       236    Male    21.0    21.5  Right   R on L   90.0    Right  Some   \n",
       "236       237  Female    17.6    17.3  Right   R on L   85.0    Right  Freq   \n",
       "\n",
       "     Smoke  Height       M.I     Age  \n",
       "0    Never   173.0    Metric  18.250  \n",
       "1    Regul   177.8  Imperial  17.583  \n",
       "2    Occas     NaN       NaN  16.917  \n",
       "3    Never   160.0    Metric  20.333  \n",
       "4    Never   165.0    Metric  23.667  \n",
       "..     ...     ...       ...     ...  \n",
       "232  Never   165.1  Imperial  17.667  \n",
       "233  Never   160.0    Metric  16.917  \n",
       "234  Never   170.0    Metric  18.583  \n",
       "235  Never   183.0    Metric  17.167  \n",
       "236  Never   168.5    Metric  17.750  \n",
       "\n",
       "[237 rows x 13 columns]"
      ]
     },
     "execution_count": 476,
     "metadata": {},
     "output_type": "execute_result"
    }
   ],
   "source": [
    "import pandas as pd\n",
    "\n",
    "df = pd.read_csv(\"https://raw.github.com/vincentarelbundock/Rdatasets/master/csv/MASS/survey.csv\")\n",
    "df"
   ]
  },
  {
   "cell_type": "markdown",
   "metadata": {
    "id": "VMDUhETJJ43h"
   },
   "source": [
    "**Két kategórikus változó összehasonlítása:**"
   ]
  },
  {
   "cell_type": "code",
   "execution_count": 479,
   "metadata": {
    "id": "csaK1vQyJ4Kf"
   },
   "outputs": [
    {
     "data": {
      "text/html": [
       "<div>\n",
       "<style scoped>\n",
       "    .dataframe tbody tr th:only-of-type {\n",
       "        vertical-align: middle;\n",
       "    }\n",
       "\n",
       "    .dataframe tbody tr th {\n",
       "        vertical-align: top;\n",
       "    }\n",
       "\n",
       "    .dataframe thead th {\n",
       "        text-align: right;\n",
       "    }\n",
       "</style>\n",
       "<table border=\"1\" class=\"dataframe\">\n",
       "  <thead>\n",
       "    <tr style=\"text-align: right;\">\n",
       "      <th>W.Hnd</th>\n",
       "      <th>Left</th>\n",
       "      <th>Right</th>\n",
       "    </tr>\n",
       "    <tr>\n",
       "      <th>Fold</th>\n",
       "      <th></th>\n",
       "      <th></th>\n",
       "    </tr>\n",
       "  </thead>\n",
       "  <tbody>\n",
       "    <tr>\n",
       "      <th>L on R</th>\n",
       "      <td>10</td>\n",
       "      <td>88</td>\n",
       "    </tr>\n",
       "    <tr>\n",
       "      <th>Neither</th>\n",
       "      <td>1</td>\n",
       "      <td>17</td>\n",
       "    </tr>\n",
       "    <tr>\n",
       "      <th>R on L</th>\n",
       "      <td>7</td>\n",
       "      <td>113</td>\n",
       "    </tr>\n",
       "  </tbody>\n",
       "</table>\n",
       "</div>"
      ],
      "text/plain": [
       "W.Hnd    Left  Right\n",
       "Fold                \n",
       "L on R     10     88\n",
       "Neither     1     17\n",
       "R on L      7    113"
      ]
     },
     "execution_count": 479,
     "metadata": {},
     "output_type": "execute_result"
    }
   ],
   "source": [
    "# Készítünk egy kereszttáblát (kontingenciatáblát) a Fold és W.Hnd oszlopok alapján.\n",
    "\n",
    "# - df.Fold : a karba tett kéznél melyik kéz van felül (kategória).\n",
    "# - df['W.Hnd'] : a hallgató írókeze (bal vagy jobb).\n",
    "\n",
    "# A pd.crosstab megszámolja, hogy az egyes kombinációk hányszor fordulnak elő.\n",
    "# Az eredmény egy táblázat, ahol a sorok a Fold kategóriák,\n",
    "# az oszlopok pedig az írókéz (W.Hnd) kategóriái, és a cellák a gyakoriságokat mutatják.\n",
    "\n",
    "pd.crosstab(df.Fold, df['W.Hnd']) # két kategórikus jellemző egyes értékeinek előfordulásának gyakorisága"
   ]
  }
 ],
 "metadata": {
  "colab": {
   "provenance": []
  },
  "kernelspec": {
   "display_name": "Python [conda env:base] *",
   "language": "python",
   "name": "conda-base-py"
  },
  "language_info": {
   "codemirror_mode": {
    "name": "ipython",
    "version": 3
   },
   "file_extension": ".py",
   "mimetype": "text/x-python",
   "name": "python",
   "nbconvert_exporter": "python",
   "pygments_lexer": "ipython3",
   "version": "3.12.3"
  }
 },
 "nbformat": 4,
 "nbformat_minor": 4
}
